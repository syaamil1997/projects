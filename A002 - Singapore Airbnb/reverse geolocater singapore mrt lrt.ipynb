{
 "cells": [
  {
   "cell_type": "code",
   "execution_count": 65,
   "metadata": {},
   "outputs": [
    {
     "name": "stdout",
     "output_type": "stream",
     "text": [
      "10, Jurong East Street 12, Jurong East, Southwest, 609690, Singapore\n"
     ]
    }
   ],
   "source": [
    "from geopy.geocoders import Nominatim\n",
    "geolocator = Nominatim(user_agent=\"geopiExercises\")\n",
    "\n",
    "Latitude = \"1.333207\"\n",
    "Longitude = \"103.742308\"\n",
    "\n",
    "location = geolocator.reverse(Latitude+\",\"+ Longitude)\n",
    "print(location)"
   ]
  },
  {
   "cell_type": "code",
   "execution_count": 70,
   "metadata": {},
   "outputs": [
    {
     "name": "stdout",
     "output_type": "stream",
     "text": [
      "{'house_number': '10', 'road': 'Jurong East Street 12', 'suburb': 'Jurong East', 'county': 'Southwest', 'postcode': '609690', 'country': 'Singapore', 'country_code': 'sg'}\n"
     ]
    }
   ],
   "source": [
    "address = location.raw['address']\n",
    "print(address)"
   ]
  },
  {
   "cell_type": "code",
   "execution_count": 71,
   "metadata": {},
   "outputs": [
    {
     "name": "stdout",
     "output_type": "stream",
     "text": [
      "City :  \n",
      "State :  \n",
      "Country :  Singapore\n",
      "Zip Code :  609690\n"
     ]
    }
   ],
   "source": [
    "city = address.get('city', '')\n",
    "state = address.get('state', '')\n",
    "country = address.get('country', '')\n",
    "code = address.get('country_code')\n",
    "zipcode = address.get('postcode')\n",
    "print('City : ',city)\n",
    "print('State : ',state)\n",
    "print('Country : ',country)\n",
    "print('Zip Code : ', zipcode)"
   ]
  },
  {
   "cell_type": "code",
   "execution_count": null,
   "metadata": {},
   "outputs": [],
   "source": []
  },
  {
   "cell_type": "code",
   "execution_count": 8,
   "metadata": {},
   "outputs": [],
   "source": [
    "import numpy as np\n",
    "import pandas as pd\n",
    "%matplotlib inline"
   ]
  },
  {
   "cell_type": "code",
   "execution_count": 9,
   "metadata": {},
   "outputs": [
    {
     "data": {
      "text/plain": [
       "'C:\\\\Users\\\\Windows 10\\\\Saved Games\\\\Personal Projects'"
      ]
     },
     "execution_count": 9,
     "metadata": {},
     "output_type": "execute_result"
    }
   ],
   "source": [
    "pwd"
   ]
  },
  {
   "cell_type": "code",
   "execution_count": 14,
   "metadata": {},
   "outputs": [],
   "source": [
    "mrt_data = pd.read_csv(\"mrt_lrt_data.csv\")"
   ]
  },
  {
   "cell_type": "code",
   "execution_count": 37,
   "metadata": {},
   "outputs": [
    {
     "data": {
      "text/html": [
       "<div>\n",
       "<style scoped>\n",
       "    .dataframe tbody tr th:only-of-type {\n",
       "        vertical-align: middle;\n",
       "    }\n",
       "\n",
       "    .dataframe tbody tr th {\n",
       "        vertical-align: top;\n",
       "    }\n",
       "\n",
       "    .dataframe thead th {\n",
       "        text-align: right;\n",
       "    }\n",
       "</style>\n",
       "<table border=\"1\" class=\"dataframe\">\n",
       "  <thead>\n",
       "    <tr style=\"text-align: right;\">\n",
       "      <th></th>\n",
       "      <th>station_name</th>\n",
       "      <th>type</th>\n",
       "      <th>lat</th>\n",
       "      <th>lng</th>\n",
       "    </tr>\n",
       "  </thead>\n",
       "  <tbody>\n",
       "    <tr>\n",
       "      <th>0</th>\n",
       "      <td>Jurong East</td>\n",
       "      <td>MRT</td>\n",
       "      <td>1.333207</td>\n",
       "      <td>103.742308</td>\n",
       "    </tr>\n",
       "    <tr>\n",
       "      <th>1</th>\n",
       "      <td>Bukit Batok</td>\n",
       "      <td>MRT</td>\n",
       "      <td>1.349069</td>\n",
       "      <td>103.749596</td>\n",
       "    </tr>\n",
       "    <tr>\n",
       "      <th>2</th>\n",
       "      <td>Bukit Gombak</td>\n",
       "      <td>MRT</td>\n",
       "      <td>1.359043</td>\n",
       "      <td>103.751863</td>\n",
       "    </tr>\n",
       "    <tr>\n",
       "      <th>3</th>\n",
       "      <td>Choa Chu Kang</td>\n",
       "      <td>MRT</td>\n",
       "      <td>1.385417</td>\n",
       "      <td>103.744316</td>\n",
       "    </tr>\n",
       "    <tr>\n",
       "      <th>4</th>\n",
       "      <td>Yew Tee</td>\n",
       "      <td>MRT</td>\n",
       "      <td>1.397383</td>\n",
       "      <td>103.747523</td>\n",
       "    </tr>\n",
       "  </tbody>\n",
       "</table>\n",
       "</div>"
      ],
      "text/plain": [
       "    station_name type       lat         lng\n",
       "0    Jurong East  MRT  1.333207  103.742308\n",
       "1    Bukit Batok  MRT  1.349069  103.749596\n",
       "2   Bukit Gombak  MRT  1.359043  103.751863\n",
       "3  Choa Chu Kang  MRT  1.385417  103.744316\n",
       "4        Yew Tee  MRT  1.397383  103.747523"
      ]
     },
     "execution_count": 37,
     "metadata": {},
     "output_type": "execute_result"
    }
   ],
   "source": [
    "mrt_data.head()"
   ]
  },
  {
   "cell_type": "code",
   "execution_count": 35,
   "metadata": {},
   "outputs": [
    {
     "data": {
      "text/plain": [
       "103.742308"
      ]
     },
     "execution_count": 35,
     "metadata": {},
     "output_type": "execute_result"
    }
   ],
   "source": [
    "mrt_data['lng'][0]"
   ]
  },
  {
   "cell_type": "code",
   "execution_count": 75,
   "metadata": {},
   "outputs": [
    {
     "data": {
      "text/plain": [
       "157"
      ]
     },
     "execution_count": 75,
     "metadata": {},
     "output_type": "execute_result"
    }
   ],
   "source": [
    "len(mrt_data)"
   ]
  },
  {
   "cell_type": "code",
   "execution_count": 90,
   "metadata": {},
   "outputs": [
    {
     "data": {
      "text/plain": [
       "'Jurong East'"
      ]
     },
     "execution_count": 90,
     "metadata": {},
     "output_type": "execute_result"
    }
   ],
   "source": [
    "mrt_data['station_name'][0]"
   ]
  },
  {
   "cell_type": "code",
   "execution_count": null,
   "metadata": {},
   "outputs": [],
   "source": []
  },
  {
   "cell_type": "code",
   "execution_count": 156,
   "metadata": {},
   "outputs": [],
   "source": [
    "#state data variable\n",
    "data = mrt_data\n",
    "\n",
    "#define empty list placeholder\n",
    "new_list = []\n",
    "\n",
    "for item in range (len(data)):\n",
    "    \n",
    "    Latitude = str(data['lat'][item])\n",
    "    Longitude = str(data['lng'][item])\n",
    "    \n",
    "    location = geolocator.reverse(Latitude+\",\"+ Longitude)\n",
    "    new_list.append(location[0])"
   ]
  },
  {
   "cell_type": "code",
   "execution_count": null,
   "metadata": {},
   "outputs": [],
   "source": [
    "mrt_data['address'] = new_list"
   ]
  },
  {
   "cell_type": "code",
   "execution_count": 208,
   "metadata": {},
   "outputs": [
    {
     "data": {
      "text/html": [
       "<div>\n",
       "<style scoped>\n",
       "    .dataframe tbody tr th:only-of-type {\n",
       "        vertical-align: middle;\n",
       "    }\n",
       "\n",
       "    .dataframe tbody tr th {\n",
       "        vertical-align: top;\n",
       "    }\n",
       "\n",
       "    .dataframe thead th {\n",
       "        text-align: right;\n",
       "    }\n",
       "</style>\n",
       "<table border=\"1\" class=\"dataframe\">\n",
       "  <thead>\n",
       "    <tr style=\"text-align: right;\">\n",
       "      <th></th>\n",
       "      <th>station_name</th>\n",
       "      <th>type</th>\n",
       "      <th>lat</th>\n",
       "      <th>lng</th>\n",
       "      <th>address</th>\n",
       "      <th>region</th>\n",
       "    </tr>\n",
       "  </thead>\n",
       "  <tbody>\n",
       "    <tr>\n",
       "      <th>0</th>\n",
       "      <td>Jurong East</td>\n",
       "      <td>MRT</td>\n",
       "      <td>1.333207</td>\n",
       "      <td>103.742308</td>\n",
       "      <td>10, Jurong East Street 12, Jurong East, Southw...</td>\n",
       "      <td>Southwest</td>\n",
       "    </tr>\n",
       "    <tr>\n",
       "      <th>1</th>\n",
       "      <td>Bukit Batok</td>\n",
       "      <td>MRT</td>\n",
       "      <td>1.349069</td>\n",
       "      <td>103.749596</td>\n",
       "      <td>Bukit Batok, 10, Bukit Batok Central, Bukit Ba...</td>\n",
       "      <td>Southwest</td>\n",
       "    </tr>\n",
       "    <tr>\n",
       "      <th>2</th>\n",
       "      <td>Bukit Gombak</td>\n",
       "      <td>MRT</td>\n",
       "      <td>1.359043</td>\n",
       "      <td>103.751863</td>\n",
       "      <td>Vista Dental Surgery, Choa Chu Kang Park Conne...</td>\n",
       "      <td>Southwest</td>\n",
       "    </tr>\n",
       "    <tr>\n",
       "      <th>3</th>\n",
       "      <td>Choa Chu Kang</td>\n",
       "      <td>MRT</td>\n",
       "      <td>1.385417</td>\n",
       "      <td>103.744316</td>\n",
       "      <td>UOB, 10, Choa Chu Kang Avenue 4, Choa Chu Kang...</td>\n",
       "      <td>Southwest</td>\n",
       "    </tr>\n",
       "    <tr>\n",
       "      <th>4</th>\n",
       "      <td>Yew Tee</td>\n",
       "      <td>MRT</td>\n",
       "      <td>1.397383</td>\n",
       "      <td>103.747523</td>\n",
       "      <td>Yew Tee Station, Choa Chu Kang Drive, Choa Chu...</td>\n",
       "      <td>Northwest</td>\n",
       "    </tr>\n",
       "  </tbody>\n",
       "</table>\n",
       "</div>"
      ],
      "text/plain": [
       "    station_name type       lat         lng  \\\n",
       "0    Jurong East  MRT  1.333207  103.742308   \n",
       "1    Bukit Batok  MRT  1.349069  103.749596   \n",
       "2   Bukit Gombak  MRT  1.359043  103.751863   \n",
       "3  Choa Chu Kang  MRT  1.385417  103.744316   \n",
       "4        Yew Tee  MRT  1.397383  103.747523   \n",
       "\n",
       "                                             address     region  \n",
       "0  10, Jurong East Street 12, Jurong East, Southw...  Southwest  \n",
       "1  Bukit Batok, 10, Bukit Batok Central, Bukit Ba...  Southwest  \n",
       "2  Vista Dental Surgery, Choa Chu Kang Park Conne...  Southwest  \n",
       "3  UOB, 10, Choa Chu Kang Avenue 4, Choa Chu Kang...  Southwest  \n",
       "4  Yew Tee Station, Choa Chu Kang Drive, Choa Chu...  Northwest  "
      ]
     },
     "execution_count": 208,
     "metadata": {},
     "output_type": "execute_result"
    }
   ],
   "source": [
    "mrt_data.head()"
   ]
  },
  {
   "cell_type": "code",
   "execution_count": 162,
   "metadata": {},
   "outputs": [],
   "source": []
  },
  {
   "cell_type": "code",
   "execution_count": 205,
   "metadata": {},
   "outputs": [],
   "source": [
    "region_list = []\n",
    "\n",
    "for item in range(0,len(mrt_data)):\n",
    "    region_list.append(mrt_data['address'][item].split()[-3][:-1])"
   ]
  },
  {
   "cell_type": "code",
   "execution_count": 206,
   "metadata": {},
   "outputs": [],
   "source": [
    "mrt_data['region'] = region_list"
   ]
  },
  {
   "cell_type": "code",
   "execution_count": 207,
   "metadata": {},
   "outputs": [
    {
     "data": {
      "text/plain": [
       "'Southwest'"
      ]
     },
     "execution_count": 207,
     "metadata": {},
     "output_type": "execute_result"
    }
   ],
   "source": [
    "mrt_data['region'][0]"
   ]
  },
  {
   "cell_type": "code",
   "execution_count": 211,
   "metadata": {},
   "outputs": [
    {
     "data": {
      "text/plain": [
       "array(['Southwest', 'Northwest', 'Central', 'Southeast', 'Northeast'],\n",
       "      dtype=object)"
      ]
     },
     "execution_count": 211,
     "metadata": {},
     "output_type": "execute_result"
    }
   ],
   "source": [
    "mrt_data['region'].unique()"
   ]
  },
  {
   "cell_type": "code",
   "execution_count": null,
   "metadata": {},
   "outputs": [],
   "source": []
  },
  {
   "cell_type": "code",
   "execution_count": 215,
   "metadata": {},
   "outputs": [
    {
     "data": {
      "text/plain": [
       "'10101010'"
      ]
     },
     "execution_count": 215,
     "metadata": {},
     "output_type": "execute_result"
    }
   ],
   "source": [
    "\"10\"*4"
   ]
  }
 ],
 "metadata": {
  "kernelspec": {
   "display_name": "Python 3",
   "language": "python",
   "name": "python3"
  },
  "language_info": {
   "codemirror_mode": {
    "name": "ipython",
    "version": 3
   },
   "file_extension": ".py",
   "mimetype": "text/x-python",
   "name": "python",
   "nbconvert_exporter": "python",
   "pygments_lexer": "ipython3",
   "version": "3.8.5"
  }
 },
 "nbformat": 4,
 "nbformat_minor": 4
}
