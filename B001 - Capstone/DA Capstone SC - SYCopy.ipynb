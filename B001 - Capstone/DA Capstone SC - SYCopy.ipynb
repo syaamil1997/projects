{
 "cells": [
  {
   "cell_type": "markdown",
   "metadata": {},
   "source": [
    "<img src=\"images/cads-logo.png\" style=\"height: 100px;\" align=left> "
   ]
  },
  {
   "cell_type": "markdown",
   "metadata": {},
   "source": [
    "# DA Capstone"
   ]
  },
  {
   "cell_type": "markdown",
   "metadata": {},
   "source": [
    "1. Create a team (2-3 people)\n",
    "2. Perform the following:\n",
    "    1. **Data Wrangling - Cleaning & Merging**: Check and handle the existance of missing values, the type of variables, or integrity of data\n",
    "    2. **Exploratory Data Analysis**: Analyze data to summarize their main characteristics\n",
    "    3. **Feature Engineering**: Make new features or change the current features\n",
    "    4. **Feature Selection**: Choose the best features\n",
    "    5. **Queries** Use SQL to query the data"
   ]
  },
  {
   "cell_type": "markdown",
   "metadata": {},
   "source": [
    "## Submission Guideline\n",
    "The output expected at the end of this hackathon is:\n",
    "1. One **Jupyter notebook** containing all analysis performed using Python.\n",
    "2. One **PowerPoint** presentation containing the analysis results. Each group will be allocated 15-20 minutes (inclusive of Q&A) to present their analysis results to the class.\n",
    "3. One **Final Dataset** - in csv format\n",
    "\n",
    "One zip file per group is to be uploaded on GDrive **by 2:30 pm of the last day**, including the jupyter notebook(s) and the powerpoint presentation indicating the names of all group members.\n",
    "\n",
    "\n",
    "## Presentation Guideline\n",
    "\n",
    "\n",
    "**Note(s):**\n",
    "1. Only **one submission** is required per group.\n",
    "2. Include full details in your notebook and **report only important results** in your presentation.\n",
    "3. Please only use Jupyter notebook (pandas) to clean the data (Do not clean manually using Excel)"
   ]
  },
  {
   "cell_type": "markdown",
   "metadata": {},
   "source": [
    "## Objective\n",
    "**Perform Exploratory Data Analysis for the Dataset Provided uisng Python, then load the data into a database using pandas and Solve the queries. The dataset is about customer purchasing history, and focused on determining potential customers.**\n",
    "\n",
    "You have been provided with information such as customers spending for last sevral years, the amount of money spent,Number of inactive months and so on"
   ]
  },
  {
   "cell_type": "code",
   "execution_count": null,
   "metadata": {},
   "outputs": [],
   "source": []
  },
  {
   "cell_type": "markdown",
   "metadata": {},
   "source": [
    "## Data description\n",
    "- Below is the description of each feature available in the dataset\n",
    "<img src=\"images/MicrosoftTeams-image.png\" style=\"height: 700px\">"
   ]
  },
  {
   "cell_type": "markdown",
   "metadata": {},
   "source": [
    "##  Import necessary Packages"
   ]
  },
  {
   "cell_type": "code",
   "execution_count": 1,
   "metadata": {},
   "outputs": [],
   "source": [
    "# Importing relevant packages\n",
    "import pandas as pd\n",
    "import numpy as np\n",
    "import matplotlib.pyplot as plt\n",
    "import seaborn as sns\n",
    "from scipy.stats import kurtosis\n",
    "from scipy.stats import skew\n",
    "\n",
    "%matplotlib inline\n",
    "\n",
    "import warnings\n",
    "warnings.filterwarnings(\"ignore\")\n",
    "\n",
    "#Your Code Here"
   ]
  },
  {
   "cell_type": "markdown",
   "metadata": {},
   "source": [
    "### Load the Data into Pandas Dataframe"
   ]
  },
  {
   "cell_type": "code",
   "execution_count": 2,
   "metadata": {},
   "outputs": [],
   "source": [
    "data = pd.read_csv(\"data.csv\")"
   ]
  },
  {
   "cell_type": "code",
   "execution_count": 3,
   "metadata": {},
   "outputs": [
    {
     "data": {
      "text/html": [
       "<div>\n",
       "<style scoped>\n",
       "    .dataframe tbody tr th:only-of-type {\n",
       "        vertical-align: middle;\n",
       "    }\n",
       "\n",
       "    .dataframe tbody tr th {\n",
       "        vertical-align: top;\n",
       "    }\n",
       "\n",
       "    .dataframe thead th {\n",
       "        text-align: right;\n",
       "    }\n",
       "</style>\n",
       "<table border=\"1\" class=\"dataframe\">\n",
       "  <thead>\n",
       "    <tr style=\"text-align: right;\">\n",
       "      <th></th>\n",
       "      <th>Potential_Customer</th>\n",
       "      <th>C_ID</th>\n",
       "      <th>Cust_Last_Purchase</th>\n",
       "      <th>Pur_3_years</th>\n",
       "      <th>Pur_5_years</th>\n",
       "      <th>Pur_3_years_Indirect</th>\n",
       "      <th>Pur_5_years_Indirect</th>\n",
       "      <th>Pur_latest</th>\n",
       "      <th>Pur_3_years_Avg</th>\n",
       "      <th>Pur_5_years_Avg</th>\n",
       "      <th>...</th>\n",
       "      <th>Ad_Res_5_Year</th>\n",
       "      <th>Ad_Res_Ind_1_Year</th>\n",
       "      <th>Ad_Res_Ind_3_Year</th>\n",
       "      <th>Ad_Res_Ind_5_Year</th>\n",
       "      <th>Status_Cust</th>\n",
       "      <th>Status_Latest_Ad</th>\n",
       "      <th>Age</th>\n",
       "      <th>Gender</th>\n",
       "      <th>Cust_Prop</th>\n",
       "      <th>Cust_Ann_Income</th>\n",
       "    </tr>\n",
       "  </thead>\n",
       "  <tbody>\n",
       "    <tr>\n",
       "      <th>0</th>\n",
       "      <td>1</td>\n",
       "      <td>9946</td>\n",
       "      <td>$5.00</td>\n",
       "      <td>2</td>\n",
       "      <td>17</td>\n",
       "      <td>2</td>\n",
       "      <td>4</td>\n",
       "      <td>$0.00</td>\n",
       "      <td>$7.50</td>\n",
       "      <td>$7.76</td>\n",
       "      <td>...</td>\n",
       "      <td>73</td>\n",
       "      <td>3</td>\n",
       "      <td>12</td>\n",
       "      <td>16</td>\n",
       "      <td>A</td>\n",
       "      <td>0</td>\n",
       "      <td>71.0</td>\n",
       "      <td>F</td>\n",
       "      <td>H</td>\n",
       "      <td>$65,957.00</td>\n",
       "    </tr>\n",
       "    <tr>\n",
       "      <th>1</th>\n",
       "      <td>1</td>\n",
       "      <td>87939</td>\n",
       "      <td>$30.00</td>\n",
       "      <td>1</td>\n",
       "      <td>7</td>\n",
       "      <td>0</td>\n",
       "      <td>3</td>\n",
       "      <td>$25.00</td>\n",
       "      <td>$25.00</td>\n",
       "      <td>$13.00</td>\n",
       "      <td>...</td>\n",
       "      <td>55</td>\n",
       "      <td>6</td>\n",
       "      <td>6</td>\n",
       "      <td>22</td>\n",
       "      <td>A</td>\n",
       "      <td>1</td>\n",
       "      <td>7.0</td>\n",
       "      <td>M</td>\n",
       "      <td>U</td>\n",
       "      <td>$0.00</td>\n",
       "    </tr>\n",
       "    <tr>\n",
       "      <th>2</th>\n",
       "      <td>0</td>\n",
       "      <td>88003</td>\n",
       "      <td>NaN</td>\n",
       "      <td>5</td>\n",
       "      <td>12</td>\n",
       "      <td>3</td>\n",
       "      <td>5</td>\n",
       "      <td>$15.00</td>\n",
       "      <td>$15.00</td>\n",
       "      <td>$11.25</td>\n",
       "      <td>...</td>\n",
       "      <td>53</td>\n",
       "      <td>6</td>\n",
       "      <td>17</td>\n",
       "      <td>22</td>\n",
       "      <td>S</td>\n",
       "      <td>1</td>\n",
       "      <td>79.0</td>\n",
       "      <td>F</td>\n",
       "      <td>U</td>\n",
       "      <td>$0.00</td>\n",
       "    </tr>\n",
       "    <tr>\n",
       "      <th>3</th>\n",
       "      <td>1</td>\n",
       "      <td>188721</td>\n",
       "      <td>$20.00</td>\n",
       "      <td>1</td>\n",
       "      <td>11</td>\n",
       "      <td>0</td>\n",
       "      <td>3</td>\n",
       "      <td>$20.00</td>\n",
       "      <td>$20.00</td>\n",
       "      <td>$12.45</td>\n",
       "      <td>...</td>\n",
       "      <td>71</td>\n",
       "      <td>8</td>\n",
       "      <td>8</td>\n",
       "      <td>33</td>\n",
       "      <td>A</td>\n",
       "      <td>0</td>\n",
       "      <td>73.0</td>\n",
       "      <td>F</td>\n",
       "      <td>U</td>\n",
       "      <td>$76,293.00</td>\n",
       "    </tr>\n",
       "    <tr>\n",
       "      <th>4</th>\n",
       "      <td>1</td>\n",
       "      <td>88056</td>\n",
       "      <td>$5.00</td>\n",
       "      <td>3</td>\n",
       "      <td>15</td>\n",
       "      <td>2</td>\n",
       "      <td>7</td>\n",
       "      <td>$3.00</td>\n",
       "      <td>$4.33</td>\n",
       "      <td>$3.80</td>\n",
       "      <td>...</td>\n",
       "      <td>63</td>\n",
       "      <td>6</td>\n",
       "      <td>12</td>\n",
       "      <td>24</td>\n",
       "      <td>S</td>\n",
       "      <td>1</td>\n",
       "      <td>68.0</td>\n",
       "      <td>F</td>\n",
       "      <td>H</td>\n",
       "      <td>$113,663.00</td>\n",
       "    </tr>\n",
       "  </tbody>\n",
       "</table>\n",
       "<p>5 rows × 25 columns</p>\n",
       "</div>"
      ],
      "text/plain": [
       "   Potential_Customer    C_ID Cust_Last_Purchase  Pur_3_years  Pur_5_years  \\\n",
       "0                   1    9946             $5.00             2           17   \n",
       "1                   1   87939            $30.00             1            7   \n",
       "2                   0   88003                NaN            5           12   \n",
       "3                   1  188721            $20.00             1           11   \n",
       "4                   1   88056             $5.00             3           15   \n",
       "\n",
       "   Pur_3_years_Indirect  Pur_5_years_Indirect Pur_latest Pur_3_years_Avg  \\\n",
       "0                     2                     4     $0.00           $7.50    \n",
       "1                     0                     3    $25.00          $25.00    \n",
       "2                     3                     5    $15.00          $15.00    \n",
       "3                     0                     3    $20.00          $20.00    \n",
       "4                     2                     7     $3.00           $4.33    \n",
       "\n",
       "  Pur_5_years_Avg  ... Ad_Res_5_Year  Ad_Res_Ind_1_Year  Ad_Res_Ind_3_Year  \\\n",
       "0          $7.76   ...            73                  3                 12   \n",
       "1         $13.00   ...            55                  6                  6   \n",
       "2         $11.25   ...            53                  6                 17   \n",
       "3         $12.45   ...            71                  8                  8   \n",
       "4          $3.80   ...            63                  6                 12   \n",
       "\n",
       "   Ad_Res_Ind_5_Year  Status_Cust  Status_Latest_Ad   Age  Gender  Cust_Prop  \\\n",
       "0                 16            A                 0  71.0       F          H   \n",
       "1                 22            A                 1   7.0       M          U   \n",
       "2                 22            S                 1  79.0       F          U   \n",
       "3                 33            A                 0  73.0       F          U   \n",
       "4                 24            S                 1  68.0       F          H   \n",
       "\n",
       "  Cust_Ann_Income  \n",
       "0     $65,957.00   \n",
       "1          $0.00   \n",
       "2          $0.00   \n",
       "3     $76,293.00   \n",
       "4    $113,663.00   \n",
       "\n",
       "[5 rows x 25 columns]"
      ]
     },
     "execution_count": 3,
     "metadata": {},
     "output_type": "execute_result"
    }
   ],
   "source": [
    "data.head(5)"
   ]
  },
  {
   "cell_type": "code",
   "execution_count": 4,
   "metadata": {},
   "outputs": [],
   "source": [
    "# View your data\n",
    "#Your Code Here"
   ]
  },
  {
   "cell_type": "markdown",
   "metadata": {},
   "source": [
    "# <font color=green>Data Cleaning<font>\n",
    "Checking the existance of missing values, the type of variables, or integrity of data."
   ]
  },
  {
   "cell_type": "markdown",
   "metadata": {},
   "source": [
    "### How big is the dataset? (number of rows, features and total datapoints)"
   ]
  },
  {
   "cell_type": "code",
   "execution_count": 5,
   "metadata": {},
   "outputs": [
    {
     "data": {
      "text/plain": [
       "(4469, 25)"
      ]
     },
     "execution_count": 5,
     "metadata": {},
     "output_type": "execute_result"
    }
   ],
   "source": [
    "data.shape"
   ]
  },
  {
   "cell_type": "markdown",
   "metadata": {},
   "source": [
    "### What columns do we have?"
   ]
  },
  {
   "cell_type": "code",
   "execution_count": 6,
   "metadata": {},
   "outputs": [
    {
     "data": {
      "text/plain": [
       "Index(['Potential_Customer', 'C_ID', 'Cust_Last_Purchase', 'Pur_3_years',\n",
       "       'Pur_5_years', 'Pur_3_years_Indirect', 'Pur_5_years_Indirect',\n",
       "       'Pur_latest', 'Pur_3_years_Avg', 'Pur_5_years_Avg',\n",
       "       'Pur_3_years_Avg_Indirect', 'InAct_Last', 'InAct_First',\n",
       "       'Ad_Res_1_year', 'Ad_Res_3_Year', 'Ad_Res_5_Year', 'Ad_Res_Ind_1_Year',\n",
       "       'Ad_Res_Ind_3_Year', 'Ad_Res_Ind_5_Year', 'Status_Cust',\n",
       "       'Status_Latest_Ad', 'Age', 'Gender', 'Cust_Prop', 'Cust_Ann_Income'],\n",
       "      dtype='object')"
      ]
     },
     "execution_count": 6,
     "metadata": {},
     "output_type": "execute_result"
    }
   ],
   "source": [
    "data.columns"
   ]
  },
  {
   "cell_type": "markdown",
   "metadata": {},
   "source": [
    "### What is the type of each column?\n",
    "\n"
   ]
  },
  {
   "cell_type": "code",
   "execution_count": 7,
   "metadata": {},
   "outputs": [
    {
     "name": "stdout",
     "output_type": "stream",
     "text": [
      "<class 'pandas.core.frame.DataFrame'>\n",
      "RangeIndex: 4469 entries, 0 to 4468\n",
      "Data columns (total 25 columns):\n",
      " #   Column                    Non-Null Count  Dtype  \n",
      "---  ------                    --------------  -----  \n",
      " 0   Potential_Customer        4469 non-null   int64  \n",
      " 1   C_ID                      4469 non-null   int64  \n",
      " 2   Cust_Last_Purchase        2149 non-null   object \n",
      " 3   Pur_3_years               4469 non-null   int64  \n",
      " 4   Pur_5_years               4469 non-null   int64  \n",
      " 5   Pur_3_years_Indirect      4469 non-null   int64  \n",
      " 6   Pur_5_years_Indirect      4469 non-null   int64  \n",
      " 7   Pur_latest                4469 non-null   object \n",
      " 8   Pur_3_years_Avg           4469 non-null   object \n",
      " 9   Pur_5_years_Avg           4469 non-null   object \n",
      " 10  Pur_3_years_Avg_Indirect  3642 non-null   object \n",
      " 11  InAct_Last                4469 non-null   int64  \n",
      " 12  InAct_First               4469 non-null   int64  \n",
      " 13  Ad_Res_1_year             4469 non-null   int64  \n",
      " 14  Ad_Res_3_Year             4469 non-null   int64  \n",
      " 15  Ad_Res_5_Year             4469 non-null   int64  \n",
      " 16  Ad_Res_Ind_1_Year         4469 non-null   int64  \n",
      " 17  Ad_Res_Ind_3_Year         4469 non-null   int64  \n",
      " 18  Ad_Res_Ind_5_Year         4469 non-null   int64  \n",
      " 19  Status_Cust               4469 non-null   object \n",
      " 20  Status_Latest_Ad          4469 non-null   int64  \n",
      " 21  Age                       3510 non-null   float64\n",
      " 22  Gender                    4469 non-null   object \n",
      " 23  Cust_Prop                 4469 non-null   object \n",
      " 24  Cust_Ann_Income           4469 non-null   object \n",
      "dtypes: float64(1), int64(15), object(9)\n",
      "memory usage: 873.0+ KB\n"
     ]
    }
   ],
   "source": [
    "data.info()"
   ]
  },
  {
   "cell_type": "markdown",
   "metadata": {},
   "source": [
    "### Why columns such as `Cust_Last_Purchase` are `object` while they should be `float64`?\n",
    "\n",
    "#### Notice Some features have Dollar AND Comma. Remove the dollar sign and comma from these features\n",
    "\n",
    "**Hint:** You can use `df.col=df.col.str.replace('OldSign', 'NewSign')`"
   ]
  },
  {
   "cell_type": "code",
   "execution_count": 8,
   "metadata": {},
   "outputs": [
    {
     "data": {
      "text/html": [
       "<div>\n",
       "<style scoped>\n",
       "    .dataframe tbody tr th:only-of-type {\n",
       "        vertical-align: middle;\n",
       "    }\n",
       "\n",
       "    .dataframe tbody tr th {\n",
       "        vertical-align: top;\n",
       "    }\n",
       "\n",
       "    .dataframe thead th {\n",
       "        text-align: right;\n",
       "    }\n",
       "</style>\n",
       "<table border=\"1\" class=\"dataframe\">\n",
       "  <thead>\n",
       "    <tr style=\"text-align: right;\">\n",
       "      <th></th>\n",
       "      <th>Potential_Customer</th>\n",
       "      <th>C_ID</th>\n",
       "      <th>Cust_Last_Purchase</th>\n",
       "      <th>Pur_3_years</th>\n",
       "      <th>Pur_5_years</th>\n",
       "      <th>Pur_3_years_Indirect</th>\n",
       "      <th>Pur_5_years_Indirect</th>\n",
       "      <th>Pur_latest</th>\n",
       "      <th>Pur_3_years_Avg</th>\n",
       "      <th>Pur_5_years_Avg</th>\n",
       "      <th>...</th>\n",
       "      <th>Ad_Res_5_Year</th>\n",
       "      <th>Ad_Res_Ind_1_Year</th>\n",
       "      <th>Ad_Res_Ind_3_Year</th>\n",
       "      <th>Ad_Res_Ind_5_Year</th>\n",
       "      <th>Status_Cust</th>\n",
       "      <th>Status_Latest_Ad</th>\n",
       "      <th>Age</th>\n",
       "      <th>Gender</th>\n",
       "      <th>Cust_Prop</th>\n",
       "      <th>Cust_Ann_Income</th>\n",
       "    </tr>\n",
       "  </thead>\n",
       "  <tbody>\n",
       "    <tr>\n",
       "      <th>0</th>\n",
       "      <td>1</td>\n",
       "      <td>9946</td>\n",
       "      <td>$5.00</td>\n",
       "      <td>2</td>\n",
       "      <td>17</td>\n",
       "      <td>2</td>\n",
       "      <td>4</td>\n",
       "      <td>$0.00</td>\n",
       "      <td>$7.50</td>\n",
       "      <td>$7.76</td>\n",
       "      <td>...</td>\n",
       "      <td>73</td>\n",
       "      <td>3</td>\n",
       "      <td>12</td>\n",
       "      <td>16</td>\n",
       "      <td>A</td>\n",
       "      <td>0</td>\n",
       "      <td>71.0</td>\n",
       "      <td>F</td>\n",
       "      <td>H</td>\n",
       "      <td>$65,957.00</td>\n",
       "    </tr>\n",
       "    <tr>\n",
       "      <th>1</th>\n",
       "      <td>1</td>\n",
       "      <td>87939</td>\n",
       "      <td>$30.00</td>\n",
       "      <td>1</td>\n",
       "      <td>7</td>\n",
       "      <td>0</td>\n",
       "      <td>3</td>\n",
       "      <td>$25.00</td>\n",
       "      <td>$25.00</td>\n",
       "      <td>$13.00</td>\n",
       "      <td>...</td>\n",
       "      <td>55</td>\n",
       "      <td>6</td>\n",
       "      <td>6</td>\n",
       "      <td>22</td>\n",
       "      <td>A</td>\n",
       "      <td>1</td>\n",
       "      <td>7.0</td>\n",
       "      <td>M</td>\n",
       "      <td>U</td>\n",
       "      <td>$0.00</td>\n",
       "    </tr>\n",
       "  </tbody>\n",
       "</table>\n",
       "<p>2 rows × 25 columns</p>\n",
       "</div>"
      ],
      "text/plain": [
       "   Potential_Customer   C_ID Cust_Last_Purchase  Pur_3_years  Pur_5_years  \\\n",
       "0                   1   9946             $5.00             2           17   \n",
       "1                   1  87939            $30.00             1            7   \n",
       "\n",
       "   Pur_3_years_Indirect  Pur_5_years_Indirect Pur_latest Pur_3_years_Avg  \\\n",
       "0                     2                     4     $0.00           $7.50    \n",
       "1                     0                     3    $25.00          $25.00    \n",
       "\n",
       "  Pur_5_years_Avg  ... Ad_Res_5_Year  Ad_Res_Ind_1_Year  Ad_Res_Ind_3_Year  \\\n",
       "0          $7.76   ...            73                  3                 12   \n",
       "1         $13.00   ...            55                  6                  6   \n",
       "\n",
       "   Ad_Res_Ind_5_Year  Status_Cust  Status_Latest_Ad   Age  Gender  Cust_Prop  \\\n",
       "0                 16            A                 0  71.0       F          H   \n",
       "1                 22            A                 1   7.0       M          U   \n",
       "\n",
       "  Cust_Ann_Income  \n",
       "0     $65,957.00   \n",
       "1          $0.00   \n",
       "\n",
       "[2 rows x 25 columns]"
      ]
     },
     "execution_count": 8,
     "metadata": {},
     "output_type": "execute_result"
    }
   ],
   "source": [
    "data.head(2)"
   ]
  },
  {
   "cell_type": "code",
   "execution_count": 9,
   "metadata": {},
   "outputs": [],
   "source": [
    "item = 'Cust_Last_Purchase'\n",
    "data[item]= data[item].str.replace('$','').astype(float)\n",
    "\n",
    "item = 'Pur_latest'\n",
    "data[item]= data[item].str.replace('$','').astype(float)\n",
    "\n",
    "item = 'Pur_3_years_Avg'\n",
    "data[item]= data[item].str.replace('$','').astype(float)\n",
    "\n",
    "item = 'Pur_5_years_Avg'\n",
    "data[item]= data[item].str.replace('$','').astype(float)\n",
    "\n",
    "item = 'Pur_3_years_Avg_Indirect'\n",
    "data[item]= round(data[item].str.replace('$','').astype(float),2)\n",
    "\n",
    "item = 'Cust_Ann_Income'\n",
    "data[item] = data[item].str.replace(',','').str.replace('$','').astype(float)"
   ]
  },
  {
   "cell_type": "markdown",
   "metadata": {},
   "source": [
    "### Check data for duplicate rows"
   ]
  },
  {
   "cell_type": "code",
   "execution_count": 10,
   "metadata": {},
   "outputs": [
    {
     "data": {
      "text/plain": [
       "True"
      ]
     },
     "execution_count": 10,
     "metadata": {},
     "output_type": "execute_result"
    }
   ],
   "source": [
    "# Is there any duplicate in the data\n",
    "data.duplicated().any()"
   ]
  },
  {
   "cell_type": "code",
   "execution_count": 11,
   "metadata": {},
   "outputs": [
    {
     "data": {
      "text/html": [
       "<div>\n",
       "<style scoped>\n",
       "    .dataframe tbody tr th:only-of-type {\n",
       "        vertical-align: middle;\n",
       "    }\n",
       "\n",
       "    .dataframe tbody tr th {\n",
       "        vertical-align: top;\n",
       "    }\n",
       "\n",
       "    .dataframe thead th {\n",
       "        text-align: right;\n",
       "    }\n",
       "</style>\n",
       "<table border=\"1\" class=\"dataframe\">\n",
       "  <thead>\n",
       "    <tr style=\"text-align: right;\">\n",
       "      <th></th>\n",
       "      <th>Potential_Customer</th>\n",
       "      <th>C_ID</th>\n",
       "      <th>Cust_Last_Purchase</th>\n",
       "      <th>Pur_3_years</th>\n",
       "      <th>Pur_5_years</th>\n",
       "      <th>Pur_3_years_Indirect</th>\n",
       "      <th>Pur_5_years_Indirect</th>\n",
       "      <th>Pur_latest</th>\n",
       "      <th>Pur_3_years_Avg</th>\n",
       "      <th>Pur_5_years_Avg</th>\n",
       "      <th>...</th>\n",
       "      <th>Ad_Res_5_Year</th>\n",
       "      <th>Ad_Res_Ind_1_Year</th>\n",
       "      <th>Ad_Res_Ind_3_Year</th>\n",
       "      <th>Ad_Res_Ind_5_Year</th>\n",
       "      <th>Status_Cust</th>\n",
       "      <th>Status_Latest_Ad</th>\n",
       "      <th>Age</th>\n",
       "      <th>Gender</th>\n",
       "      <th>Cust_Prop</th>\n",
       "      <th>Cust_Ann_Income</th>\n",
       "    </tr>\n",
       "  </thead>\n",
       "  <tbody>\n",
       "    <tr>\n",
       "      <th>0</th>\n",
       "      <td>1</td>\n",
       "      <td>9946</td>\n",
       "      <td>5.0</td>\n",
       "      <td>2</td>\n",
       "      <td>17</td>\n",
       "      <td>2</td>\n",
       "      <td>4</td>\n",
       "      <td>0.0</td>\n",
       "      <td>7.50</td>\n",
       "      <td>7.76</td>\n",
       "      <td>...</td>\n",
       "      <td>73</td>\n",
       "      <td>3</td>\n",
       "      <td>12</td>\n",
       "      <td>16</td>\n",
       "      <td>A</td>\n",
       "      <td>0</td>\n",
       "      <td>71.0</td>\n",
       "      <td>F</td>\n",
       "      <td>H</td>\n",
       "      <td>65957.0</td>\n",
       "    </tr>\n",
       "    <tr>\n",
       "      <th>1</th>\n",
       "      <td>1</td>\n",
       "      <td>87939</td>\n",
       "      <td>30.0</td>\n",
       "      <td>1</td>\n",
       "      <td>7</td>\n",
       "      <td>0</td>\n",
       "      <td>3</td>\n",
       "      <td>25.0</td>\n",
       "      <td>25.00</td>\n",
       "      <td>13.00</td>\n",
       "      <td>...</td>\n",
       "      <td>55</td>\n",
       "      <td>6</td>\n",
       "      <td>6</td>\n",
       "      <td>22</td>\n",
       "      <td>A</td>\n",
       "      <td>1</td>\n",
       "      <td>7.0</td>\n",
       "      <td>M</td>\n",
       "      <td>U</td>\n",
       "      <td>0.0</td>\n",
       "    </tr>\n",
       "    <tr>\n",
       "      <th>2</th>\n",
       "      <td>0</td>\n",
       "      <td>88003</td>\n",
       "      <td>NaN</td>\n",
       "      <td>5</td>\n",
       "      <td>12</td>\n",
       "      <td>3</td>\n",
       "      <td>5</td>\n",
       "      <td>15.0</td>\n",
       "      <td>15.00</td>\n",
       "      <td>11.25</td>\n",
       "      <td>...</td>\n",
       "      <td>53</td>\n",
       "      <td>6</td>\n",
       "      <td>17</td>\n",
       "      <td>22</td>\n",
       "      <td>S</td>\n",
       "      <td>1</td>\n",
       "      <td>79.0</td>\n",
       "      <td>F</td>\n",
       "      <td>U</td>\n",
       "      <td>0.0</td>\n",
       "    </tr>\n",
       "    <tr>\n",
       "      <th>3</th>\n",
       "      <td>1</td>\n",
       "      <td>188721</td>\n",
       "      <td>20.0</td>\n",
       "      <td>1</td>\n",
       "      <td>11</td>\n",
       "      <td>0</td>\n",
       "      <td>3</td>\n",
       "      <td>20.0</td>\n",
       "      <td>20.00</td>\n",
       "      <td>12.45</td>\n",
       "      <td>...</td>\n",
       "      <td>71</td>\n",
       "      <td>8</td>\n",
       "      <td>8</td>\n",
       "      <td>33</td>\n",
       "      <td>A</td>\n",
       "      <td>0</td>\n",
       "      <td>73.0</td>\n",
       "      <td>F</td>\n",
       "      <td>U</td>\n",
       "      <td>76293.0</td>\n",
       "    </tr>\n",
       "    <tr>\n",
       "      <th>4</th>\n",
       "      <td>1</td>\n",
       "      <td>88056</td>\n",
       "      <td>5.0</td>\n",
       "      <td>3</td>\n",
       "      <td>15</td>\n",
       "      <td>2</td>\n",
       "      <td>7</td>\n",
       "      <td>3.0</td>\n",
       "      <td>4.33</td>\n",
       "      <td>3.80</td>\n",
       "      <td>...</td>\n",
       "      <td>63</td>\n",
       "      <td>6</td>\n",
       "      <td>12</td>\n",
       "      <td>24</td>\n",
       "      <td>S</td>\n",
       "      <td>1</td>\n",
       "      <td>68.0</td>\n",
       "      <td>F</td>\n",
       "      <td>H</td>\n",
       "      <td>113663.0</td>\n",
       "    </tr>\n",
       "    <tr>\n",
       "      <th>...</th>\n",
       "      <td>...</td>\n",
       "      <td>...</td>\n",
       "      <td>...</td>\n",
       "      <td>...</td>\n",
       "      <td>...</td>\n",
       "      <td>...</td>\n",
       "      <td>...</td>\n",
       "      <td>...</td>\n",
       "      <td>...</td>\n",
       "      <td>...</td>\n",
       "      <td>...</td>\n",
       "      <td>...</td>\n",
       "      <td>...</td>\n",
       "      <td>...</td>\n",
       "      <td>...</td>\n",
       "      <td>...</td>\n",
       "      <td>...</td>\n",
       "      <td>...</td>\n",
       "      <td>...</td>\n",
       "      <td>...</td>\n",
       "      <td>...</td>\n",
       "    </tr>\n",
       "    <tr>\n",
       "      <th>4464</th>\n",
       "      <td>1</td>\n",
       "      <td>103926</td>\n",
       "      <td>5.0</td>\n",
       "      <td>5</td>\n",
       "      <td>24</td>\n",
       "      <td>3</td>\n",
       "      <td>14</td>\n",
       "      <td>9.0</td>\n",
       "      <td>7.80</td>\n",
       "      <td>6.21</td>\n",
       "      <td>...</td>\n",
       "      <td>71</td>\n",
       "      <td>3</td>\n",
       "      <td>11</td>\n",
       "      <td>28</td>\n",
       "      <td>S</td>\n",
       "      <td>1</td>\n",
       "      <td>17.0</td>\n",
       "      <td>M</td>\n",
       "      <td>H</td>\n",
       "      <td>29081.0</td>\n",
       "    </tr>\n",
       "    <tr>\n",
       "      <th>4465</th>\n",
       "      <td>1</td>\n",
       "      <td>103920</td>\n",
       "      <td>5.0</td>\n",
       "      <td>4</td>\n",
       "      <td>7</td>\n",
       "      <td>2</td>\n",
       "      <td>2</td>\n",
       "      <td>5.0</td>\n",
       "      <td>6.25</td>\n",
       "      <td>5.71</td>\n",
       "      <td>...</td>\n",
       "      <td>19</td>\n",
       "      <td>4</td>\n",
       "      <td>10</td>\n",
       "      <td>8</td>\n",
       "      <td>A</td>\n",
       "      <td>0</td>\n",
       "      <td>43.0</td>\n",
       "      <td>M</td>\n",
       "      <td>U</td>\n",
       "      <td>29081.0</td>\n",
       "    </tr>\n",
       "    <tr>\n",
       "      <th>4466</th>\n",
       "      <td>1</td>\n",
       "      <td>114820</td>\n",
       "      <td>10.0</td>\n",
       "      <td>5</td>\n",
       "      <td>17</td>\n",
       "      <td>4</td>\n",
       "      <td>9</td>\n",
       "      <td>10.0</td>\n",
       "      <td>8.40</td>\n",
       "      <td>6.29</td>\n",
       "      <td>...</td>\n",
       "      <td>47</td>\n",
       "      <td>4</td>\n",
       "      <td>13</td>\n",
       "      <td>17</td>\n",
       "      <td>S</td>\n",
       "      <td>1</td>\n",
       "      <td>NaN</td>\n",
       "      <td>F</td>\n",
       "      <td>U</td>\n",
       "      <td>0.0</td>\n",
       "    </tr>\n",
       "    <tr>\n",
       "      <th>4467</th>\n",
       "      <td>1</td>\n",
       "      <td>103953</td>\n",
       "      <td>5.0</td>\n",
       "      <td>4</td>\n",
       "      <td>19</td>\n",
       "      <td>3</td>\n",
       "      <td>8</td>\n",
       "      <td>2.5</td>\n",
       "      <td>2.63</td>\n",
       "      <td>2.32</td>\n",
       "      <td>...</td>\n",
       "      <td>48</td>\n",
       "      <td>4</td>\n",
       "      <td>9</td>\n",
       "      <td>16</td>\n",
       "      <td>A</td>\n",
       "      <td>0</td>\n",
       "      <td>NaN</td>\n",
       "      <td>F</td>\n",
       "      <td>U</td>\n",
       "      <td>45281.0</td>\n",
       "    </tr>\n",
       "    <tr>\n",
       "      <th>4468</th>\n",
       "      <td>0</td>\n",
       "      <td>103979</td>\n",
       "      <td>NaN</td>\n",
       "      <td>3</td>\n",
       "      <td>4</td>\n",
       "      <td>2</td>\n",
       "      <td>2</td>\n",
       "      <td>5.0</td>\n",
       "      <td>11.67</td>\n",
       "      <td>11.25</td>\n",
       "      <td>...</td>\n",
       "      <td>29</td>\n",
       "      <td>6</td>\n",
       "      <td>13</td>\n",
       "      <td>12</td>\n",
       "      <td>A</td>\n",
       "      <td>1</td>\n",
       "      <td>79.0</td>\n",
       "      <td>M</td>\n",
       "      <td>H</td>\n",
       "      <td>41165.0</td>\n",
       "    </tr>\n",
       "  </tbody>\n",
       "</table>\n",
       "<p>4469 rows × 25 columns</p>\n",
       "</div>"
      ],
      "text/plain": [
       "      Potential_Customer    C_ID  Cust_Last_Purchase  Pur_3_years  \\\n",
       "0                      1    9946                 5.0            2   \n",
       "1                      1   87939                30.0            1   \n",
       "2                      0   88003                 NaN            5   \n",
       "3                      1  188721                20.0            1   \n",
       "4                      1   88056                 5.0            3   \n",
       "...                  ...     ...                 ...          ...   \n",
       "4464                   1  103926                 5.0            5   \n",
       "4465                   1  103920                 5.0            4   \n",
       "4466                   1  114820                10.0            5   \n",
       "4467                   1  103953                 5.0            4   \n",
       "4468                   0  103979                 NaN            3   \n",
       "\n",
       "      Pur_5_years  Pur_3_years_Indirect  Pur_5_years_Indirect  Pur_latest  \\\n",
       "0              17                     2                     4         0.0   \n",
       "1               7                     0                     3        25.0   \n",
       "2              12                     3                     5        15.0   \n",
       "3              11                     0                     3        20.0   \n",
       "4              15                     2                     7         3.0   \n",
       "...           ...                   ...                   ...         ...   \n",
       "4464           24                     3                    14         9.0   \n",
       "4465            7                     2                     2         5.0   \n",
       "4466           17                     4                     9        10.0   \n",
       "4467           19                     3                     8         2.5   \n",
       "4468            4                     2                     2         5.0   \n",
       "\n",
       "      Pur_3_years_Avg  Pur_5_years_Avg  ...  Ad_Res_5_Year  Ad_Res_Ind_1_Year  \\\n",
       "0                7.50             7.76  ...             73                  3   \n",
       "1               25.00            13.00  ...             55                  6   \n",
       "2               15.00            11.25  ...             53                  6   \n",
       "3               20.00            12.45  ...             71                  8   \n",
       "4                4.33             3.80  ...             63                  6   \n",
       "...               ...              ...  ...            ...                ...   \n",
       "4464             7.80             6.21  ...             71                  3   \n",
       "4465             6.25             5.71  ...             19                  4   \n",
       "4466             8.40             6.29  ...             47                  4   \n",
       "4467             2.63             2.32  ...             48                  4   \n",
       "4468            11.67            11.25  ...             29                  6   \n",
       "\n",
       "      Ad_Res_Ind_3_Year  Ad_Res_Ind_5_Year  Status_Cust  Status_Latest_Ad  \\\n",
       "0                    12                 16            A                 0   \n",
       "1                     6                 22            A                 1   \n",
       "2                    17                 22            S                 1   \n",
       "3                     8                 33            A                 0   \n",
       "4                    12                 24            S                 1   \n",
       "...                 ...                ...          ...               ...   \n",
       "4464                 11                 28            S                 1   \n",
       "4465                 10                  8            A                 0   \n",
       "4466                 13                 17            S                 1   \n",
       "4467                  9                 16            A                 0   \n",
       "4468                 13                 12            A                 1   \n",
       "\n",
       "       Age  Gender  Cust_Prop Cust_Ann_Income  \n",
       "0     71.0       F          H         65957.0  \n",
       "1      7.0       M          U             0.0  \n",
       "2     79.0       F          U             0.0  \n",
       "3     73.0       F          U         76293.0  \n",
       "4     68.0       F          H        113663.0  \n",
       "...    ...     ...        ...             ...  \n",
       "4464  17.0       M          H         29081.0  \n",
       "4465  43.0       M          U         29081.0  \n",
       "4466   NaN       F          U             0.0  \n",
       "4467   NaN       F          U         45281.0  \n",
       "4468  79.0       M          H         41165.0  \n",
       "\n",
       "[4469 rows x 25 columns]"
      ]
     },
     "execution_count": 11,
     "metadata": {},
     "output_type": "execute_result"
    }
   ],
   "source": [
    "data"
   ]
  },
  {
   "cell_type": "code",
   "execution_count": 12,
   "metadata": {},
   "outputs": [
    {
     "data": {
      "text/plain": [
       "Potential_Customer          851\n",
       "C_ID                        851\n",
       "Cust_Last_Purchase          413\n",
       "Pur_3_years                 851\n",
       "Pur_5_years                 851\n",
       "Pur_3_years_Indirect        851\n",
       "Pur_5_years_Indirect        851\n",
       "Pur_latest                  851\n",
       "Pur_3_years_Avg             851\n",
       "Pur_5_years_Avg             851\n",
       "Pur_3_years_Avg_Indirect    686\n",
       "InAct_Last                  851\n",
       "InAct_First                 851\n",
       "Ad_Res_1_year               851\n",
       "Ad_Res_3_Year               851\n",
       "Ad_Res_5_Year               851\n",
       "Ad_Res_Ind_1_Year           851\n",
       "Ad_Res_Ind_3_Year           851\n",
       "Ad_Res_Ind_5_Year           851\n",
       "Status_Cust                 851\n",
       "Status_Latest_Ad            851\n",
       "Age                         685\n",
       "Gender                      851\n",
       "Cust_Prop                   851\n",
       "Cust_Ann_Income             851\n",
       "dtype: int64"
      ]
     },
     "execution_count": 12,
     "metadata": {},
     "output_type": "execute_result"
    }
   ],
   "source": [
    "# Find the number of duplicates\n",
    "data[data.duplicated()].count()"
   ]
  },
  {
   "cell_type": "code",
   "execution_count": 13,
   "metadata": {},
   "outputs": [
    {
     "name": "stdout",
     "output_type": "stream",
     "text": [
      "The number of occurence of duplicates are 851\n"
     ]
    }
   ],
   "source": [
    "x = sum(data.duplicated())\n",
    "print(f\"The number of occurence of duplicates are {x}\")"
   ]
  },
  {
   "cell_type": "markdown",
   "metadata": {},
   "source": [
    "### Remove duplicate rows\n",
    "**Hint:** Use `df=df.drop_duplicates()`"
   ]
  },
  {
   "cell_type": "code",
   "execution_count": 14,
   "metadata": {},
   "outputs": [],
   "source": [
    "data = data.drop_duplicates()"
   ]
  },
  {
   "cell_type": "code",
   "execution_count": 15,
   "metadata": {},
   "outputs": [
    {
     "data": {
      "text/plain": [
       "False"
      ]
     },
     "execution_count": 15,
     "metadata": {},
     "output_type": "execute_result"
    }
   ],
   "source": [
    "data.duplicated().any()"
   ]
  },
  {
   "cell_type": "markdown",
   "metadata": {},
   "source": [
    "### Do we need `C_ID` in our analysis?"
   ]
  },
  {
   "cell_type": "code",
   "execution_count": 16,
   "metadata": {},
   "outputs": [
    {
     "data": {
      "text/plain": [
       "0      9946\n",
       "1     87939\n",
       "2     88003\n",
       "3    188721\n",
       "4     88056\n",
       "Name: C_ID, dtype: int64"
      ]
     },
     "execution_count": 16,
     "metadata": {},
     "output_type": "execute_result"
    }
   ],
   "source": [
    "data['C_ID'].head(5)"
   ]
  },
  {
   "cell_type": "code",
   "execution_count": 17,
   "metadata": {},
   "outputs": [],
   "source": [
    "data = data.drop('C_ID',axis=1)"
   ]
  },
  {
   "cell_type": "markdown",
   "metadata": {},
   "source": [
    "### Check whether the columns' types are accurate? if not handle them\n"
   ]
  },
  {
   "cell_type": "code",
   "execution_count": 18,
   "metadata": {},
   "outputs": [
    {
     "data": {
      "text/plain": [
       "Potential_Customer            int64\n",
       "Cust_Last_Purchase          float64\n",
       "Pur_3_years                   int64\n",
       "Pur_5_years                   int64\n",
       "Pur_3_years_Indirect          int64\n",
       "Pur_5_years_Indirect          int64\n",
       "Pur_latest                  float64\n",
       "Pur_3_years_Avg             float64\n",
       "Pur_5_years_Avg             float64\n",
       "Pur_3_years_Avg_Indirect    float64\n",
       "InAct_Last                    int64\n",
       "InAct_First                   int64\n",
       "Ad_Res_1_year                 int64\n",
       "Ad_Res_3_Year                 int64\n",
       "Ad_Res_5_Year                 int64\n",
       "Ad_Res_Ind_1_Year             int64\n",
       "Ad_Res_Ind_3_Year             int64\n",
       "Ad_Res_Ind_5_Year             int64\n",
       "Status_Cust                  object\n",
       "Status_Latest_Ad              int64\n",
       "Age                         float64\n",
       "Gender                       object\n",
       "Cust_Prop                    object\n",
       "Cust_Ann_Income             float64\n",
       "dtype: object"
      ]
     },
     "execution_count": 18,
     "metadata": {},
     "output_type": "execute_result"
    }
   ],
   "source": [
    "data.dtypes"
   ]
  },
  {
   "cell_type": "markdown",
   "metadata": {},
   "source": [
    "# <font color=green>Exploratory Data Analysis (EDA)<font>\n",
    "Checking the relationship of variables, summary of data, outliers, filling missing values etc."
   ]
  },
  {
   "cell_type": "markdown",
   "metadata": {},
   "source": [
    "## Explore Categorical Variables"
   ]
  },
  {
   "cell_type": "code",
   "execution_count": 19,
   "metadata": {},
   "outputs": [],
   "source": [
    "categorical = ['Status_Cust','Gender','Cust_Prop']"
   ]
  },
  {
   "cell_type": "code",
   "execution_count": 20,
   "metadata": {},
   "outputs": [
    {
     "data": {
      "text/html": [
       "<div>\n",
       "<style scoped>\n",
       "    .dataframe tbody tr th:only-of-type {\n",
       "        vertical-align: middle;\n",
       "    }\n",
       "\n",
       "    .dataframe tbody tr th {\n",
       "        vertical-align: top;\n",
       "    }\n",
       "\n",
       "    .dataframe thead th {\n",
       "        text-align: right;\n",
       "    }\n",
       "</style>\n",
       "<table border=\"1\" class=\"dataframe\">\n",
       "  <thead>\n",
       "    <tr style=\"text-align: right;\">\n",
       "      <th></th>\n",
       "      <th>Status_Cust</th>\n",
       "      <th>Gender</th>\n",
       "      <th>Cust_Prop</th>\n",
       "    </tr>\n",
       "  </thead>\n",
       "  <tbody>\n",
       "    <tr>\n",
       "      <th>0</th>\n",
       "      <td>A</td>\n",
       "      <td>F</td>\n",
       "      <td>H</td>\n",
       "    </tr>\n",
       "    <tr>\n",
       "      <th>1</th>\n",
       "      <td>A</td>\n",
       "      <td>M</td>\n",
       "      <td>U</td>\n",
       "    </tr>\n",
       "    <tr>\n",
       "      <th>2</th>\n",
       "      <td>S</td>\n",
       "      <td>F</td>\n",
       "      <td>U</td>\n",
       "    </tr>\n",
       "    <tr>\n",
       "      <th>3</th>\n",
       "      <td>A</td>\n",
       "      <td>F</td>\n",
       "      <td>U</td>\n",
       "    </tr>\n",
       "    <tr>\n",
       "      <th>4</th>\n",
       "      <td>S</td>\n",
       "      <td>F</td>\n",
       "      <td>H</td>\n",
       "    </tr>\n",
       "    <tr>\n",
       "      <th>5</th>\n",
       "      <td>A</td>\n",
       "      <td>F</td>\n",
       "      <td>H</td>\n",
       "    </tr>\n",
       "    <tr>\n",
       "      <th>6</th>\n",
       "      <td>A</td>\n",
       "      <td>M</td>\n",
       "      <td>H</td>\n",
       "    </tr>\n",
       "    <tr>\n",
       "      <th>7</th>\n",
       "      <td>A</td>\n",
       "      <td>M</td>\n",
       "      <td>H</td>\n",
       "    </tr>\n",
       "    <tr>\n",
       "      <th>8</th>\n",
       "      <td>S</td>\n",
       "      <td>F</td>\n",
       "      <td>H</td>\n",
       "    </tr>\n",
       "    <tr>\n",
       "      <th>9</th>\n",
       "      <td>S</td>\n",
       "      <td>M</td>\n",
       "      <td>H</td>\n",
       "    </tr>\n",
       "  </tbody>\n",
       "</table>\n",
       "</div>"
      ],
      "text/plain": [
       "  Status_Cust Gender Cust_Prop\n",
       "0           A      F         H\n",
       "1           A      M         U\n",
       "2           S      F         U\n",
       "3           A      F         U\n",
       "4           S      F         H\n",
       "5           A      F         H\n",
       "6           A      M         H\n",
       "7           A      M         H\n",
       "8           S      F         H\n",
       "9           S      M         H"
      ]
     },
     "execution_count": 20,
     "metadata": {},
     "output_type": "execute_result"
    }
   ],
   "source": [
    "data[categorical].head(10)"
   ]
  },
  {
   "cell_type": "markdown",
   "metadata": {},
   "source": [
    "### Explore Relationship Between Categorical & Target Variable\n",
    "\n",
    "**Hint**: use `sns.countplot()` plot"
   ]
  },
  {
   "cell_type": "code",
   "execution_count": 21,
   "metadata": {},
   "outputs": [
    {
     "data": {
      "text/plain": [
       "<AxesSubplot:xlabel='Gender', ylabel='count'>"
      ]
     },
     "execution_count": 21,
     "metadata": {},
     "output_type": "execute_result"
    },
    {
     "data": {
      "image/png": "[encoded data removed]",
      "text/plain": [
       "<Figure size 432x288 with 1 Axes>"
      ]
     },
     "metadata": {
      "needs_background": "light"
     },
     "output_type": "display_data"
    }
   ],
   "source": [
    "sns.countplot(x='Gender',data=data,hue='Potential_Customer')"
   ]
  },
  {
   "cell_type": "code",
   "execution_count": 22,
   "metadata": {},
   "outputs": [
    {
     "data": {
      "text/plain": [
       "<AxesSubplot:xlabel='Status_Cust', ylabel='count'>"
      ]
     },
     "execution_count": 22,
     "metadata": {},
     "output_type": "execute_result"
    },
    {
     "data": {
      "image/png": "[encoded data removed]",
      "text/plain": [
       "<Figure size 432x288 with 1 Axes>"
      ]
     },
     "metadata": {
      "needs_background": "light"
     },
     "output_type": "display_data"
    }
   ],
   "source": [
    "#combine efnl since they are insignificant\n",
    "sns.countplot(x='Status_Cust',data=data,hue='Potential_Customer')"
   ]
  },
  {
   "cell_type": "markdown",
   "metadata": {},
   "source": [
    "\n",
    "### Insight"
   ]
  },
  {
   "cell_type": "code",
   "execution_count": 23,
   "metadata": {},
   "outputs": [
    {
     "data": {
      "text/html": [
       "<div>\n",
       "<style scoped>\n",
       "    .dataframe tbody tr th:only-of-type {\n",
       "        vertical-align: middle;\n",
       "    }\n",
       "\n",
       "    .dataframe tbody tr th {\n",
       "        vertical-align: top;\n",
       "    }\n",
       "\n",
       "    .dataframe thead th {\n",
       "        text-align: right;\n",
       "    }\n",
       "</style>\n",
       "<table border=\"1\" class=\"dataframe\">\n",
       "  <thead>\n",
       "    <tr style=\"text-align: right;\">\n",
       "      <th></th>\n",
       "      <th>Potential_Customer</th>\n",
       "      <th>Cust_Last_Purchase</th>\n",
       "      <th>Pur_3_years</th>\n",
       "      <th>Pur_5_years</th>\n",
       "      <th>Pur_3_years_Indirect</th>\n",
       "      <th>Pur_5_years_Indirect</th>\n",
       "      <th>Pur_latest</th>\n",
       "      <th>Pur_3_years_Avg</th>\n",
       "      <th>Pur_5_years_Avg</th>\n",
       "      <th>Pur_3_years_Avg_Indirect</th>\n",
       "      <th>...</th>\n",
       "      <th>Ad_Res_5_Year</th>\n",
       "      <th>Ad_Res_Ind_1_Year</th>\n",
       "      <th>Ad_Res_Ind_3_Year</th>\n",
       "      <th>Ad_Res_Ind_5_Year</th>\n",
       "      <th>Status_Cust</th>\n",
       "      <th>Status_Latest_Ad</th>\n",
       "      <th>Age</th>\n",
       "      <th>Gender</th>\n",
       "      <th>Cust_Prop</th>\n",
       "      <th>Cust_Ann_Income</th>\n",
       "    </tr>\n",
       "  </thead>\n",
       "  <tbody>\n",
       "    <tr>\n",
       "      <th>0</th>\n",
       "      <td>1</td>\n",
       "      <td>5.0</td>\n",
       "      <td>2</td>\n",
       "      <td>17</td>\n",
       "      <td>2</td>\n",
       "      <td>4</td>\n",
       "      <td>0.0</td>\n",
       "      <td>7.50</td>\n",
       "      <td>7.76</td>\n",
       "      <td>7.50</td>\n",
       "      <td>...</td>\n",
       "      <td>73</td>\n",
       "      <td>3</td>\n",
       "      <td>12</td>\n",
       "      <td>16</td>\n",
       "      <td>A</td>\n",
       "      <td>0</td>\n",
       "      <td>71.0</td>\n",
       "      <td>F</td>\n",
       "      <td>H</td>\n",
       "      <td>65957.0</td>\n",
       "    </tr>\n",
       "    <tr>\n",
       "      <th>1</th>\n",
       "      <td>1</td>\n",
       "      <td>30.0</td>\n",
       "      <td>1</td>\n",
       "      <td>7</td>\n",
       "      <td>0</td>\n",
       "      <td>3</td>\n",
       "      <td>25.0</td>\n",
       "      <td>25.00</td>\n",
       "      <td>13.00</td>\n",
       "      <td>NaN</td>\n",
       "      <td>...</td>\n",
       "      <td>55</td>\n",
       "      <td>6</td>\n",
       "      <td>6</td>\n",
       "      <td>22</td>\n",
       "      <td>A</td>\n",
       "      <td>1</td>\n",
       "      <td>7.0</td>\n",
       "      <td>M</td>\n",
       "      <td>U</td>\n",
       "      <td>0.0</td>\n",
       "    </tr>\n",
       "    <tr>\n",
       "      <th>2</th>\n",
       "      <td>0</td>\n",
       "      <td>NaN</td>\n",
       "      <td>5</td>\n",
       "      <td>12</td>\n",
       "      <td>3</td>\n",
       "      <td>5</td>\n",
       "      <td>15.0</td>\n",
       "      <td>15.00</td>\n",
       "      <td>11.25</td>\n",
       "      <td>14.67</td>\n",
       "      <td>...</td>\n",
       "      <td>53</td>\n",
       "      <td>6</td>\n",
       "      <td>17</td>\n",
       "      <td>22</td>\n",
       "      <td>S</td>\n",
       "      <td>1</td>\n",
       "      <td>79.0</td>\n",
       "      <td>F</td>\n",
       "      <td>U</td>\n",
       "      <td>0.0</td>\n",
       "    </tr>\n",
       "    <tr>\n",
       "      <th>3</th>\n",
       "      <td>1</td>\n",
       "      <td>20.0</td>\n",
       "      <td>1</td>\n",
       "      <td>11</td>\n",
       "      <td>0</td>\n",
       "      <td>3</td>\n",
       "      <td>20.0</td>\n",
       "      <td>20.00</td>\n",
       "      <td>12.45</td>\n",
       "      <td>NaN</td>\n",
       "      <td>...</td>\n",
       "      <td>71</td>\n",
       "      <td>8</td>\n",
       "      <td>8</td>\n",
       "      <td>33</td>\n",
       "      <td>A</td>\n",
       "      <td>0</td>\n",
       "      <td>73.0</td>\n",
       "      <td>F</td>\n",
       "      <td>U</td>\n",
       "      <td>76293.0</td>\n",
       "    </tr>\n",
       "    <tr>\n",
       "      <th>4</th>\n",
       "      <td>1</td>\n",
       "      <td>5.0</td>\n",
       "      <td>3</td>\n",
       "      <td>15</td>\n",
       "      <td>2</td>\n",
       "      <td>7</td>\n",
       "      <td>3.0</td>\n",
       "      <td>4.33</td>\n",
       "      <td>3.80</td>\n",
       "      <td>4.00</td>\n",
       "      <td>...</td>\n",
       "      <td>63</td>\n",
       "      <td>6</td>\n",
       "      <td>12</td>\n",
       "      <td>24</td>\n",
       "      <td>S</td>\n",
       "      <td>1</td>\n",
       "      <td>68.0</td>\n",
       "      <td>F</td>\n",
       "      <td>H</td>\n",
       "      <td>113663.0</td>\n",
       "    </tr>\n",
       "  </tbody>\n",
       "</table>\n",
       "<p>5 rows × 24 columns</p>\n",
       "</div>"
      ],
      "text/plain": [
       "   Potential_Customer  Cust_Last_Purchase  Pur_3_years  Pur_5_years  \\\n",
       "0                   1                 5.0            2           17   \n",
       "1                   1                30.0            1            7   \n",
       "2                   0                 NaN            5           12   \n",
       "3                   1                20.0            1           11   \n",
       "4                   1                 5.0            3           15   \n",
       "\n",
       "   Pur_3_years_Indirect  Pur_5_years_Indirect  Pur_latest  Pur_3_years_Avg  \\\n",
       "0                     2                     4         0.0             7.50   \n",
       "1                     0                     3        25.0            25.00   \n",
       "2                     3                     5        15.0            15.00   \n",
       "3                     0                     3        20.0            20.00   \n",
       "4                     2                     7         3.0             4.33   \n",
       "\n",
       "   Pur_5_years_Avg  Pur_3_years_Avg_Indirect  ...  Ad_Res_5_Year  \\\n",
       "0             7.76                      7.50  ...             73   \n",
       "1            13.00                       NaN  ...             55   \n",
       "2            11.25                     14.67  ...             53   \n",
       "3            12.45                       NaN  ...             71   \n",
       "4             3.80                      4.00  ...             63   \n",
       "\n",
       "   Ad_Res_Ind_1_Year  Ad_Res_Ind_3_Year  Ad_Res_Ind_5_Year  Status_Cust  \\\n",
       "0                  3                 12                 16            A   \n",
       "1                  6                  6                 22            A   \n",
       "2                  6                 17                 22            S   \n",
       "3                  8                  8                 33            A   \n",
       "4                  6                 12                 24            S   \n",
       "\n",
       "   Status_Latest_Ad   Age  Gender Cust_Prop  Cust_Ann_Income  \n",
       "0                 0  71.0       F         H          65957.0  \n",
       "1                 1   7.0       M         U              0.0  \n",
       "2                 1  79.0       F         U              0.0  \n",
       "3                 0  73.0       F         U          76293.0  \n",
       "4                 1  68.0       F         H         113663.0  \n",
       "\n",
       "[5 rows x 24 columns]"
      ]
     },
     "execution_count": 23,
     "metadata": {},
     "output_type": "execute_result"
    }
   ],
   "source": [
    "data.head()"
   ]
  },
  {
   "cell_type": "code",
   "execution_count": 24,
   "metadata": {},
   "outputs": [
    {
     "data": {
      "text/plain": [
       "array(['A', 'S', 'E', 'F', 'N', 'L'], dtype=object)"
      ]
     },
     "execution_count": 24,
     "metadata": {},
     "output_type": "execute_result"
    }
   ],
   "source": [
    "#highlight active and stars - potential customer\n",
    "new_dict = {'A':'A','S':'S','E':'Others','F':'Others','N':'Others','L':'Others'}\n",
    "data['Status_CustN'] = data['Status_Cust'].replace(new_dict)\n",
    "data['Status_Cust'].unique()"
   ]
  },
  {
   "cell_type": "markdown",
   "metadata": {},
   "source": [
    "### Solution"
   ]
  },
  {
   "cell_type": "code",
   "execution_count": null,
   "metadata": {},
   "outputs": [],
   "source": []
  },
  {
   "cell_type": "markdown",
   "metadata": {},
   "source": [
    "## Explore Numerical Variables\n",
    "\n",
    "**Hint**: use `sns.distplot()` and `sns.boxplot()`"
   ]
  },
  {
   "cell_type": "code",
   "execution_count": 25,
   "metadata": {},
   "outputs": [
    {
     "name": "stdout",
     "output_type": "stream",
     "text": [
      "<class 'pandas.core.frame.DataFrame'>\n",
      "Int64Index: 3618 entries, 0 to 3617\n",
      "Data columns (total 25 columns):\n",
      " #   Column                    Non-Null Count  Dtype  \n",
      "---  ------                    --------------  -----  \n",
      " 0   Potential_Customer        3618 non-null   int64  \n",
      " 1   Cust_Last_Purchase        1736 non-null   float64\n",
      " 2   Pur_3_years               3618 non-null   int64  \n",
      " 3   Pur_5_years               3618 non-null   int64  \n",
      " 4   Pur_3_years_Indirect      3618 non-null   int64  \n",
      " 5   Pur_5_years_Indirect      3618 non-null   int64  \n",
      " 6   Pur_latest                3618 non-null   float64\n",
      " 7   Pur_3_years_Avg           3618 non-null   float64\n",
      " 8   Pur_5_years_Avg           3618 non-null   float64\n",
      " 9   Pur_3_years_Avg_Indirect  2956 non-null   float64\n",
      " 10  InAct_Last                3618 non-null   int64  \n",
      " 11  InAct_First               3618 non-null   int64  \n",
      " 12  Ad_Res_1_year             3618 non-null   int64  \n",
      " 13  Ad_Res_3_Year             3618 non-null   int64  \n",
      " 14  Ad_Res_5_Year             3618 non-null   int64  \n",
      " 15  Ad_Res_Ind_1_Year         3618 non-null   int64  \n",
      " 16  Ad_Res_Ind_3_Year         3618 non-null   int64  \n",
      " 17  Ad_Res_Ind_5_Year         3618 non-null   int64  \n",
      " 18  Status_Cust               3618 non-null   object \n",
      " 19  Status_Latest_Ad          3618 non-null   int64  \n",
      " 20  Age                       2825 non-null   float64\n",
      " 21  Gender                    3618 non-null   object \n",
      " 22  Cust_Prop                 3618 non-null   object \n",
      " 23  Cust_Ann_Income           3618 non-null   float64\n",
      " 24  Status_CustN              3618 non-null   object \n",
      "dtypes: float64(7), int64(14), object(4)\n",
      "memory usage: 894.9+ KB\n"
     ]
    }
   ],
   "source": [
    "data.info()"
   ]
  },
  {
   "cell_type": "code",
   "execution_count": 26,
   "metadata": {},
   "outputs": [
    {
     "data": {
      "text/html": [
       "<div>\n",
       "<style scoped>\n",
       "    .dataframe tbody tr th:only-of-type {\n",
       "        vertical-align: middle;\n",
       "    }\n",
       "\n",
       "    .dataframe tbody tr th {\n",
       "        vertical-align: top;\n",
       "    }\n",
       "\n",
       "    .dataframe thead th {\n",
       "        text-align: right;\n",
       "    }\n",
       "</style>\n",
       "<table border=\"1\" class=\"dataframe\">\n",
       "  <thead>\n",
       "    <tr style=\"text-align: right;\">\n",
       "      <th></th>\n",
       "      <th>0</th>\n",
       "      <th>1</th>\n",
       "      <th>2</th>\n",
       "      <th>3</th>\n",
       "      <th>4</th>\n",
       "    </tr>\n",
       "  </thead>\n",
       "  <tbody>\n",
       "    <tr>\n",
       "      <th>Potential_Customer</th>\n",
       "      <td>1</td>\n",
       "      <td>1</td>\n",
       "      <td>0</td>\n",
       "      <td>1</td>\n",
       "      <td>1</td>\n",
       "    </tr>\n",
       "    <tr>\n",
       "      <th>Cust_Last_Purchase</th>\n",
       "      <td>5</td>\n",
       "      <td>30</td>\n",
       "      <td>NaN</td>\n",
       "      <td>20</td>\n",
       "      <td>5</td>\n",
       "    </tr>\n",
       "    <tr>\n",
       "      <th>Pur_3_years</th>\n",
       "      <td>2</td>\n",
       "      <td>1</td>\n",
       "      <td>5</td>\n",
       "      <td>1</td>\n",
       "      <td>3</td>\n",
       "    </tr>\n",
       "    <tr>\n",
       "      <th>Pur_5_years</th>\n",
       "      <td>17</td>\n",
       "      <td>7</td>\n",
       "      <td>12</td>\n",
       "      <td>11</td>\n",
       "      <td>15</td>\n",
       "    </tr>\n",
       "    <tr>\n",
       "      <th>Pur_3_years_Indirect</th>\n",
       "      <td>2</td>\n",
       "      <td>0</td>\n",
       "      <td>3</td>\n",
       "      <td>0</td>\n",
       "      <td>2</td>\n",
       "    </tr>\n",
       "    <tr>\n",
       "      <th>Pur_5_years_Indirect</th>\n",
       "      <td>4</td>\n",
       "      <td>3</td>\n",
       "      <td>5</td>\n",
       "      <td>3</td>\n",
       "      <td>7</td>\n",
       "    </tr>\n",
       "    <tr>\n",
       "      <th>Pur_latest</th>\n",
       "      <td>0</td>\n",
       "      <td>25</td>\n",
       "      <td>15</td>\n",
       "      <td>20</td>\n",
       "      <td>3</td>\n",
       "    </tr>\n",
       "    <tr>\n",
       "      <th>Pur_3_years_Avg</th>\n",
       "      <td>7.5</td>\n",
       "      <td>25</td>\n",
       "      <td>15</td>\n",
       "      <td>20</td>\n",
       "      <td>4.33</td>\n",
       "    </tr>\n",
       "    <tr>\n",
       "      <th>Pur_5_years_Avg</th>\n",
       "      <td>7.76</td>\n",
       "      <td>13</td>\n",
       "      <td>11.25</td>\n",
       "      <td>12.45</td>\n",
       "      <td>3.8</td>\n",
       "    </tr>\n",
       "    <tr>\n",
       "      <th>Pur_3_years_Avg_Indirect</th>\n",
       "      <td>7.5</td>\n",
       "      <td>NaN</td>\n",
       "      <td>14.67</td>\n",
       "      <td>NaN</td>\n",
       "      <td>4</td>\n",
       "    </tr>\n",
       "    <tr>\n",
       "      <th>InAct_Last</th>\n",
       "      <td>14</td>\n",
       "      <td>18</td>\n",
       "      <td>19</td>\n",
       "      <td>5</td>\n",
       "      <td>17</td>\n",
       "    </tr>\n",
       "    <tr>\n",
       "      <th>InAct_First</th>\n",
       "      <td>110</td>\n",
       "      <td>75</td>\n",
       "      <td>57</td>\n",
       "      <td>113</td>\n",
       "      <td>118</td>\n",
       "    </tr>\n",
       "    <tr>\n",
       "      <th>Ad_Res_1_year</th>\n",
       "      <td>32</td>\n",
       "      <td>13</td>\n",
       "      <td>14</td>\n",
       "      <td>17</td>\n",
       "      <td>13</td>\n",
       "    </tr>\n",
       "    <tr>\n",
       "      <th>Ad_Res_3_Year</th>\n",
       "      <td>48</td>\n",
       "      <td>35</td>\n",
       "      <td>35</td>\n",
       "      <td>38</td>\n",
       "      <td>28</td>\n",
       "    </tr>\n",
       "    <tr>\n",
       "      <th>Ad_Res_5_Year</th>\n",
       "      <td>73</td>\n",
       "      <td>55</td>\n",
       "      <td>53</td>\n",
       "      <td>71</td>\n",
       "      <td>63</td>\n",
       "    </tr>\n",
       "    <tr>\n",
       "      <th>Ad_Res_Ind_1_Year</th>\n",
       "      <td>3</td>\n",
       "      <td>6</td>\n",
       "      <td>6</td>\n",
       "      <td>8</td>\n",
       "      <td>6</td>\n",
       "    </tr>\n",
       "    <tr>\n",
       "      <th>Ad_Res_Ind_3_Year</th>\n",
       "      <td>12</td>\n",
       "      <td>6</td>\n",
       "      <td>17</td>\n",
       "      <td>8</td>\n",
       "      <td>12</td>\n",
       "    </tr>\n",
       "    <tr>\n",
       "      <th>Ad_Res_Ind_5_Year</th>\n",
       "      <td>16</td>\n",
       "      <td>22</td>\n",
       "      <td>22</td>\n",
       "      <td>33</td>\n",
       "      <td>24</td>\n",
       "    </tr>\n",
       "    <tr>\n",
       "      <th>Status_Cust</th>\n",
       "      <td>A</td>\n",
       "      <td>A</td>\n",
       "      <td>S</td>\n",
       "      <td>A</td>\n",
       "      <td>S</td>\n",
       "    </tr>\n",
       "    <tr>\n",
       "      <th>Status_Latest_Ad</th>\n",
       "      <td>0</td>\n",
       "      <td>1</td>\n",
       "      <td>1</td>\n",
       "      <td>0</td>\n",
       "      <td>1</td>\n",
       "    </tr>\n",
       "    <tr>\n",
       "      <th>Age</th>\n",
       "      <td>71</td>\n",
       "      <td>7</td>\n",
       "      <td>79</td>\n",
       "      <td>73</td>\n",
       "      <td>68</td>\n",
       "    </tr>\n",
       "    <tr>\n",
       "      <th>Gender</th>\n",
       "      <td>F</td>\n",
       "      <td>M</td>\n",
       "      <td>F</td>\n",
       "      <td>F</td>\n",
       "      <td>F</td>\n",
       "    </tr>\n",
       "    <tr>\n",
       "      <th>Cust_Prop</th>\n",
       "      <td>H</td>\n",
       "      <td>U</td>\n",
       "      <td>U</td>\n",
       "      <td>U</td>\n",
       "      <td>H</td>\n",
       "    </tr>\n",
       "    <tr>\n",
       "      <th>Cust_Ann_Income</th>\n",
       "      <td>65957</td>\n",
       "      <td>0</td>\n",
       "      <td>0</td>\n",
       "      <td>76293</td>\n",
       "      <td>113663</td>\n",
       "    </tr>\n",
       "    <tr>\n",
       "      <th>Status_CustN</th>\n",
       "      <td>A</td>\n",
       "      <td>A</td>\n",
       "      <td>S</td>\n",
       "      <td>A</td>\n",
       "      <td>S</td>\n",
       "    </tr>\n",
       "  </tbody>\n",
       "</table>\n",
       "</div>"
      ],
      "text/plain": [
       "                              0    1      2      3       4\n",
       "Potential_Customer            1    1      0      1       1\n",
       "Cust_Last_Purchase            5   30    NaN     20       5\n",
       "Pur_3_years                   2    1      5      1       3\n",
       "Pur_5_years                  17    7     12     11      15\n",
       "Pur_3_years_Indirect          2    0      3      0       2\n",
       "Pur_5_years_Indirect          4    3      5      3       7\n",
       "Pur_latest                    0   25     15     20       3\n",
       "Pur_3_years_Avg             7.5   25     15     20    4.33\n",
       "Pur_5_years_Avg            7.76   13  11.25  12.45     3.8\n",
       "Pur_3_years_Avg_Indirect    7.5  NaN  14.67    NaN       4\n",
       "InAct_Last                   14   18     19      5      17\n",
       "InAct_First                 110   75     57    113     118\n",
       "Ad_Res_1_year                32   13     14     17      13\n",
       "Ad_Res_3_Year                48   35     35     38      28\n",
       "Ad_Res_5_Year                73   55     53     71      63\n",
       "Ad_Res_Ind_1_Year             3    6      6      8       6\n",
       "Ad_Res_Ind_3_Year            12    6     17      8      12\n",
       "Ad_Res_Ind_5_Year            16   22     22     33      24\n",
       "Status_Cust                   A    A      S      A       S\n",
       "Status_Latest_Ad              0    1      1      0       1\n",
       "Age                          71    7     79     73      68\n",
       "Gender                        F    M      F      F       F\n",
       "Cust_Prop                     H    U      U      U       H\n",
       "Cust_Ann_Income           65957    0      0  76293  113663\n",
       "Status_CustN                  A    A      S      A       S"
      ]
     },
     "execution_count": 26,
     "metadata": {},
     "output_type": "execute_result"
    }
   ],
   "source": [
    "data.head(5).transpose()"
   ]
  },
  {
   "cell_type": "code",
   "execution_count": 27,
   "metadata": {},
   "outputs": [
    {
     "data": {
      "text/plain": [
       "<AxesSubplot:xlabel='Pur_3_years'>"
      ]
     },
     "execution_count": 27,
     "metadata": {},
     "output_type": "execute_result"
    },
    {
     "data": {
      "image/png": "[encoded data removed]",
      "text/plain": [
       "<Figure size 432x288 with 1 Axes>"
      ]
     },
     "metadata": {
      "needs_background": "light"
     },
     "output_type": "display_data"
    }
   ],
   "source": [
    "sns.distplot(data['Pur_3_years'],kde=False)"
   ]
  },
  {
   "cell_type": "code",
   "execution_count": 28,
   "metadata": {},
   "outputs": [
    {
     "data": {
      "text/plain": [
       "<AxesSubplot:xlabel='Pur_3_years'>"
      ]
     },
     "execution_count": 28,
     "metadata": {},
     "output_type": "execute_result"
    },
    {
     "data": {
      "image/png": "[encoded data removed]",
      "text/plain": [
       "<Figure size 432x288 with 1 Axes>"
      ]
     },
     "metadata": {
      "needs_background": "light"
     },
     "output_type": "display_data"
    }
   ],
   "source": [
    "sns.boxplot(data['Pur_3_years'])"
   ]
  },
  {
   "cell_type": "markdown",
   "metadata": {},
   "source": [
    "###  Check the skewness and kurtosis of the variables? Is it normal? Document your process in the notebook of handling skewness and kurtosis\n"
   ]
  },
  {
   "cell_type": "code",
   "execution_count": 29,
   "metadata": {},
   "outputs": [
    {
     "data": {
      "text/plain": [
       "count    3618.000000\n",
       "mean        3.308734\n",
       "std         2.185492\n",
       "min         0.000000\n",
       "25%         2.000000\n",
       "50%         3.000000\n",
       "75%         4.000000\n",
       "max        15.000000\n",
       "Name: Pur_3_years, dtype: float64"
      ]
     },
     "execution_count": 29,
     "metadata": {},
     "output_type": "execute_result"
    }
   ],
   "source": [
    "data['Pur_3_years'].describe()\n"
   ]
  },
  {
   "cell_type": "code",
   "execution_count": 30,
   "metadata": {},
   "outputs": [
    {
     "data": {
      "text/plain": [
       "3.0"
      ]
     },
     "execution_count": 30,
     "metadata": {},
     "output_type": "execute_result"
    }
   ],
   "source": [
    "data['Pur_3_years'].median()"
   ]
  },
  {
   "cell_type": "code",
   "execution_count": 31,
   "metadata": {},
   "outputs": [],
   "source": [
    "data_median = data['Pur_3_years'].median()\n",
    "data_mean = data['Pur_3_years'].mean()\n",
    "data_skew = skew(data['Pur_3_years'], bias=False)\n",
    "data_kurt = kurtosis(data['Pur_3_years'], bias=False)"
   ]
  },
  {
   "cell_type": "code",
   "execution_count": null,
   "metadata": {},
   "outputs": [],
   "source": []
  },
  {
   "cell_type": "markdown",
   "metadata": {},
   "source": [
    "### Insight"
   ]
  },
  {
   "cell_type": "code",
   "execution_count": 32,
   "metadata": {},
   "outputs": [
    {
     "name": "stdout",
     "output_type": "stream",
     "text": [
      "The mean is 3.31 which is more than the median 3.0. Skew 1.29 is positive skew means that the tail is on the right side.\n"
     ]
    }
   ],
   "source": [
    "print(f'The mean is {round(data_mean,2)} which is more than the median {round(data_median,2)}. Skew {round(data_skew,2)} is positive skew means that the tail is on the right side.')"
   ]
  },
  {
   "cell_type": "code",
   "execution_count": 33,
   "metadata": {},
   "outputs": [
    {
     "name": "stdout",
     "output_type": "stream",
     "text": [
      "The kurtosis is 2.12 which is a platy type\n"
     ]
    }
   ],
   "source": [
    "print(f'The kurtosis is {round(data_kurt,2)} which is a platy type')"
   ]
  },
  {
   "cell_type": "markdown",
   "metadata": {},
   "source": [
    "## Check the data for missing values?"
   ]
  },
  {
   "cell_type": "code",
   "execution_count": 34,
   "metadata": {},
   "outputs": [],
   "source": [
    "# Count all NaN in each column\n",
    "#Your Code Here"
   ]
  },
  {
   "cell_type": "code",
   "execution_count": 35,
   "metadata": {},
   "outputs": [
    {
     "data": {
      "text/plain": [
       "Potential_Customer             0\n",
       "Cust_Last_Purchase          1882\n",
       "Pur_3_years                    0\n",
       "Pur_5_years                    0\n",
       "Pur_3_years_Indirect           0\n",
       "Pur_5_years_Indirect           0\n",
       "Pur_latest                     0\n",
       "Pur_3_years_Avg                0\n",
       "Pur_5_years_Avg                0\n",
       "Pur_3_years_Avg_Indirect     662\n",
       "InAct_Last                     0\n",
       "InAct_First                    0\n",
       "Ad_Res_1_year                  0\n",
       "Ad_Res_3_Year                  0\n",
       "Ad_Res_5_Year                  0\n",
       "Ad_Res_Ind_1_Year              0\n",
       "Ad_Res_Ind_3_Year              0\n",
       "Ad_Res_Ind_5_Year              0\n",
       "Status_Cust                    0\n",
       "Status_Latest_Ad               0\n",
       "Age                          793\n",
       "Gender                         0\n",
       "Cust_Prop                      0\n",
       "Cust_Ann_Income                0\n",
       "Status_CustN                   0\n",
       "dtype: int64"
      ]
     },
     "execution_count": 35,
     "metadata": {},
     "output_type": "execute_result"
    }
   ],
   "source": [
    "data.isnull().sum()"
   ]
  },
  {
   "cell_type": "code",
   "execution_count": 36,
   "metadata": {},
   "outputs": [],
   "source": [
    "# Count all NaN in the dataframe (both columns & Rows)\n",
    "#Your Code Here"
   ]
  },
  {
   "cell_type": "code",
   "execution_count": 37,
   "metadata": {},
   "outputs": [
    {
     "data": {
      "text/plain": [
       "3337"
      ]
     },
     "execution_count": 37,
     "metadata": {},
     "output_type": "execute_result"
    }
   ],
   "source": [
    "data.isnull().sum().sum()"
   ]
  },
  {
   "cell_type": "markdown",
   "metadata": {},
   "source": [
    "### How should we handle missing values? (Should we drop the rows? or impute them with values?)"
   ]
  },
  {
   "cell_type": "markdown",
   "metadata": {},
   "source": [
    "#### Handling Missing Value for `Cust_Last_Purchase` column"
   ]
  },
  {
   "cell_type": "code",
   "execution_count": 38,
   "metadata": {},
   "outputs": [
    {
     "data": {
      "text/plain": [
       "0.52"
      ]
     },
     "execution_count": 38,
     "metadata": {},
     "output_type": "execute_result"
    }
   ],
   "source": [
    "round(data.isnull().sum()[1]/len(data),2)"
   ]
  },
  {
   "cell_type": "code",
   "execution_count": 39,
   "metadata": {},
   "outputs": [
    {
     "name": "stdout",
     "output_type": "stream",
     "text": [
      "<class 'pandas.core.frame.DataFrame'>\n",
      "Int64Index: 3618 entries, 0 to 3617\n",
      "Data columns (total 25 columns):\n",
      " #   Column                    Non-Null Count  Dtype  \n",
      "---  ------                    --------------  -----  \n",
      " 0   Potential_Customer        3618 non-null   int64  \n",
      " 1   Cust_Last_Purchase        1736 non-null   float64\n",
      " 2   Pur_3_years               3618 non-null   int64  \n",
      " 3   Pur_5_years               3618 non-null   int64  \n",
      " 4   Pur_3_years_Indirect      3618 non-null   int64  \n",
      " 5   Pur_5_years_Indirect      3618 non-null   int64  \n",
      " 6   Pur_latest                3618 non-null   float64\n",
      " 7   Pur_3_years_Avg           3618 non-null   float64\n",
      " 8   Pur_5_years_Avg           3618 non-null   float64\n",
      " 9   Pur_3_years_Avg_Indirect  2956 non-null   float64\n",
      " 10  InAct_Last                3618 non-null   int64  \n",
      " 11  InAct_First               3618 non-null   int64  \n",
      " 12  Ad_Res_1_year             3618 non-null   int64  \n",
      " 13  Ad_Res_3_Year             3618 non-null   int64  \n",
      " 14  Ad_Res_5_Year             3618 non-null   int64  \n",
      " 15  Ad_Res_Ind_1_Year         3618 non-null   int64  \n",
      " 16  Ad_Res_Ind_3_Year         3618 non-null   int64  \n",
      " 17  Ad_Res_Ind_5_Year         3618 non-null   int64  \n",
      " 18  Status_Cust               3618 non-null   object \n",
      " 19  Status_Latest_Ad          3618 non-null   int64  \n",
      " 20  Age                       2825 non-null   float64\n",
      " 21  Gender                    3618 non-null   object \n",
      " 22  Cust_Prop                 3618 non-null   object \n",
      " 23  Cust_Ann_Income           3618 non-null   float64\n",
      " 24  Status_CustN              3618 non-null   object \n",
      "dtypes: float64(7), int64(14), object(4)\n",
      "memory usage: 894.9+ KB\n"
     ]
    }
   ],
   "source": [
    "data.info()"
   ]
  },
  {
   "cell_type": "code",
   "execution_count": 41,
   "metadata": {},
   "outputs": [
    {
     "data": {
      "text/plain": [
       "0        5.0\n",
       "1       30.0\n",
       "2        NaN\n",
       "3       20.0\n",
       "4        5.0\n",
       "        ... \n",
       "3613    20.0\n",
       "3614     NaN\n",
       "3615     NaN\n",
       "3616     NaN\n",
       "3617    21.0\n",
       "Name: Cust_Last_Purchase, Length: 3618, dtype: float64"
      ]
     },
     "execution_count": 41,
     "metadata": {},
     "output_type": "execute_result"
    }
   ],
   "source": [
    "#before\n",
    "data['Cust_Last_Purchase']"
   ]
  },
  {
   "cell_type": "code",
   "execution_count": 45,
   "metadata": {},
   "outputs": [
    {
     "data": {
      "text/plain": [
       "0        5.00\n",
       "1       30.00\n",
       "2       14.56\n",
       "3       20.00\n",
       "4        5.00\n",
       "        ...  \n",
       "3613    20.00\n",
       "3614    14.56\n",
       "3615    14.56\n",
       "3616    14.56\n",
       "3617    21.00\n",
       "Name: Cust_Last_Purchase, Length: 3618, dtype: float64"
      ]
     },
     "execution_count": 45,
     "metadata": {},
     "output_type": "execute_result"
    }
   ],
   "source": [
    "#after replace with mean\n",
    "x = round(data['Cust_Last_Purchase'].mean(),2)\n",
    "data['Cust_Last_Purchase'].fillna(x,inplace=True)\n",
    "data['Cust_Last_Purchase']"
   ]
  },
  {
   "cell_type": "code",
   "execution_count": 202,
   "metadata": {},
   "outputs": [
    {
     "data": {
      "text/plain": [
       "0        5.0\n",
       "1       30.0\n",
       "2        0.0\n",
       "3       20.0\n",
       "4        5.0\n",
       "        ... \n",
       "3613    20.0\n",
       "3614     0.0\n",
       "3615     0.0\n",
       "3616     0.0\n",
       "3617    21.0\n",
       "Name: Cust_Last_Purchase, Length: 3618, dtype: float64"
      ]
     },
     "execution_count": 202,
     "metadata": {},
     "output_type": "execute_result"
    }
   ],
   "source": [
    "#after replace with 0\n",
    "data['Cust_Last_Purchase'].fillna(0,inplace=True)\n",
    "data['Cust_Last_Purchase']"
   ]
  },
  {
   "cell_type": "code",
   "execution_count": 174,
   "metadata": {},
   "outputs": [],
   "source": [
    "#data = data.drop('Cust_Last_Purchase',axis=1)"
   ]
  },
  {
   "cell_type": "code",
   "execution_count": 175,
   "metadata": {},
   "outputs": [
    {
     "data": {
      "text/html": [
       "<div>\n",
       "<style scoped>\n",
       "    .dataframe tbody tr th:only-of-type {\n",
       "        vertical-align: middle;\n",
       "    }\n",
       "\n",
       "    .dataframe tbody tr th {\n",
       "        vertical-align: top;\n",
       "    }\n",
       "\n",
       "    .dataframe thead th {\n",
       "        text-align: right;\n",
       "    }\n",
       "</style>\n",
       "<table border=\"1\" class=\"dataframe\">\n",
       "  <thead>\n",
       "    <tr style=\"text-align: right;\">\n",
       "      <th></th>\n",
       "      <th>Potential_Customer</th>\n",
       "      <th>Cust_Last_Purchase</th>\n",
       "      <th>Pur_3_years</th>\n",
       "      <th>Pur_5_years</th>\n",
       "      <th>Pur_3_years_Indirect</th>\n",
       "      <th>Pur_5_years_Indirect</th>\n",
       "      <th>Pur_latest</th>\n",
       "      <th>Pur_3_years_Avg</th>\n",
       "      <th>Pur_5_years_Avg</th>\n",
       "      <th>Pur_3_years_Avg_Indirect</th>\n",
       "      <th>...</th>\n",
       "      <th>Ad_Res_Ind_1_Year</th>\n",
       "      <th>Ad_Res_Ind_3_Year</th>\n",
       "      <th>Ad_Res_Ind_5_Year</th>\n",
       "      <th>Status_Cust</th>\n",
       "      <th>Status_Latest_Ad</th>\n",
       "      <th>Age</th>\n",
       "      <th>Gender</th>\n",
       "      <th>Cust_Prop</th>\n",
       "      <th>Cust_Ann_Income</th>\n",
       "      <th>Status_CustN</th>\n",
       "    </tr>\n",
       "  </thead>\n",
       "  <tbody>\n",
       "    <tr>\n",
       "      <th>0</th>\n",
       "      <td>1</td>\n",
       "      <td>5.0</td>\n",
       "      <td>2</td>\n",
       "      <td>17</td>\n",
       "      <td>2</td>\n",
       "      <td>4</td>\n",
       "      <td>0.0</td>\n",
       "      <td>7.5</td>\n",
       "      <td>7.76</td>\n",
       "      <td>7.5</td>\n",
       "      <td>...</td>\n",
       "      <td>3</td>\n",
       "      <td>12</td>\n",
       "      <td>16</td>\n",
       "      <td>A</td>\n",
       "      <td>0</td>\n",
       "      <td>71.0</td>\n",
       "      <td>F</td>\n",
       "      <td>H</td>\n",
       "      <td>65957.0</td>\n",
       "      <td>A</td>\n",
       "    </tr>\n",
       "    <tr>\n",
       "      <th>1</th>\n",
       "      <td>1</td>\n",
       "      <td>30.0</td>\n",
       "      <td>1</td>\n",
       "      <td>7</td>\n",
       "      <td>0</td>\n",
       "      <td>3</td>\n",
       "      <td>25.0</td>\n",
       "      <td>25.0</td>\n",
       "      <td>13.00</td>\n",
       "      <td>NaN</td>\n",
       "      <td>...</td>\n",
       "      <td>6</td>\n",
       "      <td>6</td>\n",
       "      <td>22</td>\n",
       "      <td>A</td>\n",
       "      <td>1</td>\n",
       "      <td>7.0</td>\n",
       "      <td>M</td>\n",
       "      <td>U</td>\n",
       "      <td>0.0</td>\n",
       "      <td>A</td>\n",
       "    </tr>\n",
       "  </tbody>\n",
       "</table>\n",
       "<p>2 rows × 25 columns</p>\n",
       "</div>"
      ],
      "text/plain": [
       "   Potential_Customer  Cust_Last_Purchase  Pur_3_years  Pur_5_years  \\\n",
       "0                   1                 5.0            2           17   \n",
       "1                   1                30.0            1            7   \n",
       "\n",
       "   Pur_3_years_Indirect  Pur_5_years_Indirect  Pur_latest  Pur_3_years_Avg  \\\n",
       "0                     2                     4         0.0              7.5   \n",
       "1                     0                     3        25.0             25.0   \n",
       "\n",
       "   Pur_5_years_Avg  Pur_3_years_Avg_Indirect  ...  Ad_Res_Ind_1_Year  \\\n",
       "0             7.76                       7.5  ...                  3   \n",
       "1            13.00                       NaN  ...                  6   \n",
       "\n",
       "   Ad_Res_Ind_3_Year  Ad_Res_Ind_5_Year  Status_Cust  Status_Latest_Ad   Age  \\\n",
       "0                 12                 16            A                 0  71.0   \n",
       "1                  6                 22            A                 1   7.0   \n",
       "\n",
       "   Gender  Cust_Prop Cust_Ann_Income  Status_CustN  \n",
       "0       F          H         65957.0             A  \n",
       "1       M          U             0.0             A  \n",
       "\n",
       "[2 rows x 25 columns]"
      ]
     },
     "execution_count": 175,
     "metadata": {},
     "output_type": "execute_result"
    }
   ],
   "source": [
    "data.head(2)"
   ]
  },
  {
   "cell_type": "markdown",
   "metadata": {},
   "source": [
    "since the missing values for Cust_Last_Purchase is 0.52 which is more than 50%. so we drop it"
   ]
  },
  {
   "cell_type": "markdown",
   "metadata": {},
   "source": [
    "#### Handling Missing Value for `Pur_3_years_Avg_Indirect` column "
   ]
  },
  {
   "cell_type": "code",
   "execution_count": 46,
   "metadata": {},
   "outputs": [],
   "source": [
    "item = 'Pur_3_years_Avg_Indirect'\n",
    "m = data[item].mean()\n",
    "data[item] = data[item].fillna(m)"
   ]
  },
  {
   "cell_type": "markdown",
   "metadata": {},
   "source": [
    "the missing values are now replaced with mean"
   ]
  },
  {
   "cell_type": "markdown",
   "metadata": {},
   "source": [
    "#### Handling Missing Value for `Age` column\n",
    "\n",
    "Changes for Age is omitted since it is not relevant to change missing value of age to 0."
   ]
  },
  {
   "cell_type": "code",
   "execution_count": 47,
   "metadata": {},
   "outputs": [],
   "source": [
    "#Impute the missing values for Age column\n",
    "item = 'Age'\n",
    "m = 0\n",
    "data[item] = data[item].fillna(m)"
   ]
  },
  {
   "cell_type": "code",
   "execution_count": 48,
   "metadata": {},
   "outputs": [],
   "source": [
    "#Replace the missing values(values lower than 14) for Age column \n",
    "data.loc[data['Age'] < 14,'Age'] = data['Age'].median()"
   ]
  },
  {
   "cell_type": "markdown",
   "metadata": {},
   "source": [
    "#### Handling Missing Value for `Cust_Ann_Income` column "
   ]
  },
  {
   "cell_type": "code",
   "execution_count": 49,
   "metadata": {},
   "outputs": [
    {
     "data": {
      "text/plain": [
       "44284.5"
      ]
     },
     "execution_count": 49,
     "metadata": {},
     "output_type": "execute_result"
    }
   ],
   "source": [
    "data['Cust_Ann_Income'].median()"
   ]
  },
  {
   "cell_type": "code",
   "execution_count": 50,
   "metadata": {},
   "outputs": [
    {
     "data": {
      "text/plain": [
       "0        65957.0\n",
       "1            0.0\n",
       "2            0.0\n",
       "3        76293.0\n",
       "4       113663.0\n",
       "          ...   \n",
       "3613     83754.0\n",
       "3614     83754.0\n",
       "3615         0.0\n",
       "3616     71618.0\n",
       "3617         0.0\n",
       "Name: Cust_Ann_Income, Length: 3618, dtype: float64"
      ]
     },
     "execution_count": 50,
     "metadata": {},
     "output_type": "execute_result"
    }
   ],
   "source": [
    "data['Cust_Ann_Income'].replace('0',data['Cust_Ann_Income'].median())"
   ]
  },
  {
   "cell_type": "markdown",
   "metadata": {},
   "source": [
    "#### Handling Missing Value for `Gender` column"
   ]
  },
  {
   "cell_type": "code",
   "execution_count": 51,
   "metadata": {},
   "outputs": [
    {
     "data": {
      "text/plain": [
       "'F'"
      ]
     },
     "execution_count": 51,
     "metadata": {},
     "output_type": "execute_result"
    }
   ],
   "source": [
    "data['Gender'].mode()[0]"
   ]
  },
  {
   "cell_type": "code",
   "execution_count": 52,
   "metadata": {},
   "outputs": [],
   "source": [
    "#Replace the missing values for Gender column\n",
    "data['Gender'] = data['Gender'].replace('U',data['Gender'].mode()[0])"
   ]
  },
  {
   "cell_type": "code",
   "execution_count": 53,
   "metadata": {},
   "outputs": [
    {
     "data": {
      "text/plain": [
       "array(['F', 'M'], dtype=object)"
      ]
     },
     "execution_count": 53,
     "metadata": {},
     "output_type": "execute_result"
    }
   ],
   "source": [
    "data['Gender'].unique()"
   ]
  },
  {
   "cell_type": "code",
   "execution_count": 54,
   "metadata": {},
   "outputs": [
    {
     "data": {
      "text/html": [
       "<div>\n",
       "<style scoped>\n",
       "    .dataframe tbody tr th:only-of-type {\n",
       "        vertical-align: middle;\n",
       "    }\n",
       "\n",
       "    .dataframe tbody tr th {\n",
       "        vertical-align: top;\n",
       "    }\n",
       "\n",
       "    .dataframe thead th {\n",
       "        text-align: right;\n",
       "    }\n",
       "</style>\n",
       "<table border=\"1\" class=\"dataframe\">\n",
       "  <thead>\n",
       "    <tr style=\"text-align: right;\">\n",
       "      <th></th>\n",
       "      <th>Potential_Customer</th>\n",
       "      <th>Cust_Last_Purchase</th>\n",
       "      <th>Pur_3_years</th>\n",
       "      <th>Pur_5_years</th>\n",
       "      <th>Pur_3_years_Indirect</th>\n",
       "      <th>Pur_5_years_Indirect</th>\n",
       "      <th>Pur_latest</th>\n",
       "      <th>Pur_3_years_Avg</th>\n",
       "      <th>Pur_5_years_Avg</th>\n",
       "      <th>Pur_3_years_Avg_Indirect</th>\n",
       "      <th>...</th>\n",
       "      <th>Ad_Res_Ind_1_Year</th>\n",
       "      <th>Ad_Res_Ind_3_Year</th>\n",
       "      <th>Ad_Res_Ind_5_Year</th>\n",
       "      <th>Status_Cust</th>\n",
       "      <th>Status_Latest_Ad</th>\n",
       "      <th>Age</th>\n",
       "      <th>Gender</th>\n",
       "      <th>Cust_Prop</th>\n",
       "      <th>Cust_Ann_Income</th>\n",
       "      <th>Status_CustN</th>\n",
       "    </tr>\n",
       "  </thead>\n",
       "  <tbody>\n",
       "    <tr>\n",
       "      <th>0</th>\n",
       "      <td>1</td>\n",
       "      <td>5.0</td>\n",
       "      <td>2</td>\n",
       "      <td>17</td>\n",
       "      <td>2</td>\n",
       "      <td>4</td>\n",
       "      <td>0.0</td>\n",
       "      <td>7.5</td>\n",
       "      <td>7.76</td>\n",
       "      <td>7.500000</td>\n",
       "      <td>...</td>\n",
       "      <td>3</td>\n",
       "      <td>12</td>\n",
       "      <td>16</td>\n",
       "      <td>A</td>\n",
       "      <td>0</td>\n",
       "      <td>71.0</td>\n",
       "      <td>F</td>\n",
       "      <td>H</td>\n",
       "      <td>65957.0</td>\n",
       "      <td>A</td>\n",
       "    </tr>\n",
       "    <tr>\n",
       "      <th>1</th>\n",
       "      <td>1</td>\n",
       "      <td>30.0</td>\n",
       "      <td>1</td>\n",
       "      <td>7</td>\n",
       "      <td>0</td>\n",
       "      <td>3</td>\n",
       "      <td>25.0</td>\n",
       "      <td>25.0</td>\n",
       "      <td>13.00</td>\n",
       "      <td>13.582128</td>\n",
       "      <td>...</td>\n",
       "      <td>6</td>\n",
       "      <td>6</td>\n",
       "      <td>22</td>\n",
       "      <td>A</td>\n",
       "      <td>1</td>\n",
       "      <td>52.0</td>\n",
       "      <td>M</td>\n",
       "      <td>U</td>\n",
       "      <td>0.0</td>\n",
       "      <td>A</td>\n",
       "    </tr>\n",
       "  </tbody>\n",
       "</table>\n",
       "<p>2 rows × 25 columns</p>\n",
       "</div>"
      ],
      "text/plain": [
       "   Potential_Customer  Cust_Last_Purchase  Pur_3_years  Pur_5_years  \\\n",
       "0                   1                 5.0            2           17   \n",
       "1                   1                30.0            1            7   \n",
       "\n",
       "   Pur_3_years_Indirect  Pur_5_years_Indirect  Pur_latest  Pur_3_years_Avg  \\\n",
       "0                     2                     4         0.0              7.5   \n",
       "1                     0                     3        25.0             25.0   \n",
       "\n",
       "   Pur_5_years_Avg  Pur_3_years_Avg_Indirect  ...  Ad_Res_Ind_1_Year  \\\n",
       "0             7.76                  7.500000  ...                  3   \n",
       "1            13.00                 13.582128  ...                  6   \n",
       "\n",
       "   Ad_Res_Ind_3_Year  Ad_Res_Ind_5_Year  Status_Cust  Status_Latest_Ad   Age  \\\n",
       "0                 12                 16            A                 0  71.0   \n",
       "1                  6                 22            A                 1  52.0   \n",
       "\n",
       "   Gender  Cust_Prop Cust_Ann_Income  Status_CustN  \n",
       "0       F          H         65957.0             A  \n",
       "1       M          U             0.0             A  \n",
       "\n",
       "[2 rows x 25 columns]"
      ]
     },
     "execution_count": 54,
     "metadata": {},
     "output_type": "execute_result"
    }
   ],
   "source": [
    "data.head(2)"
   ]
  },
  {
   "cell_type": "markdown",
   "metadata": {},
   "source": [
    "### Explore the Relationship between Numerical Variables & Target Variable"
   ]
  },
  {
   "cell_type": "markdown",
   "metadata": {},
   "source": [
    "The “target variable” is the variable whose values are to be modeled and predicted by other variables.\n",
    "https://www.dtreg.com/solution/classes-and-types-of-variables#:~:text=Target%20variable%20%2D%2D%20The%20%E2%80%9Ctarget,in%20a%20decision%20tree%20analysis."
   ]
  },
  {
   "cell_type": "code",
   "execution_count": 55,
   "metadata": {},
   "outputs": [
    {
     "data": {
      "text/plain": [
       "<AxesSubplot:xlabel='Potential_Customer', ylabel='Pur_5_years'>"
      ]
     },
     "execution_count": 55,
     "metadata": {},
     "output_type": "execute_result"
    },
    {
     "data": {
      "image/png": "[encoded data removed]",
      "text/plain": [
       "<Figure size 432x288 with 1 Axes>"
      ]
     },
     "metadata": {
      "needs_background": "light"
     },
     "output_type": "display_data"
    }
   ],
   "source": [
    "sns.boxplot(x='Potential_Customer',y='Pur_5_years',data=data)"
   ]
  },
  {
   "cell_type": "code",
   "execution_count": 56,
   "metadata": {},
   "outputs": [
    {
     "data": {
      "text/plain": [
       "0    1882\n",
       "1    1736\n",
       "Name: Potential_Customer, dtype: int64"
      ]
     },
     "execution_count": 56,
     "metadata": {},
     "output_type": "execute_result"
    }
   ],
   "source": [
    "#proof that our target variable is a binomial type\n",
    "data['Potential_Customer'].value_counts()"
   ]
  },
  {
   "cell_type": "code",
   "execution_count": 57,
   "metadata": {},
   "outputs": [
    {
     "data": {
      "text/plain": [
       "Index(['Potential_Customer', 'Cust_Last_Purchase', 'Pur_3_years',\n",
       "       'Pur_5_years', 'Pur_3_years_Indirect', 'Pur_5_years_Indirect',\n",
       "       'Pur_latest', 'Pur_3_years_Avg', 'Pur_5_years_Avg',\n",
       "       'Pur_3_years_Avg_Indirect', 'InAct_Last', 'InAct_First',\n",
       "       'Ad_Res_1_year', 'Ad_Res_3_Year', 'Ad_Res_5_Year', 'Ad_Res_Ind_1_Year',\n",
       "       'Ad_Res_Ind_3_Year', 'Ad_Res_Ind_5_Year', 'Status_Cust',\n",
       "       'Status_Latest_Ad', 'Age', 'Gender', 'Cust_Prop', 'Cust_Ann_Income',\n",
       "       'Status_CustN'],\n",
       "      dtype='object')"
      ]
     },
     "execution_count": 57,
     "metadata": {},
     "output_type": "execute_result"
    }
   ],
   "source": [
    "data.columns"
   ]
  },
  {
   "cell_type": "code",
   "execution_count": 58,
   "metadata": {},
   "outputs": [
    {
     "data": {
      "text/plain": [
       "<AxesSubplot:xlabel='Potential_Customer', ylabel='Pur_5_years'>"
      ]
     },
     "execution_count": 58,
     "metadata": {},
     "output_type": "execute_result"
    },
    {
     "data": {
      "image/png": "[encoded data removed]",
      "text/plain": [
       "<Figure size 432x288 with 1 Axes>"
      ]
     },
     "metadata": {},
     "output_type": "display_data"
    }
   ],
   "source": [
    "#SWARM HUE\n",
    "target = 'Potential_Customer' #target variable\n",
    "x = 'Pur_5_years'  #numerical variable\n",
    "\n",
    "sns.set_style('whitegrid')\n",
    "sns.swarmplot(x=target,y=x,data=data,hue='Status_CustN',palette = \"Set2\",split=True)"
   ]
  },
  {
   "cell_type": "code",
   "execution_count": 59,
   "metadata": {},
   "outputs": [
    {
     "data": {
      "text/plain": [
       "<AxesSubplot:xlabel='Potential_Customer', ylabel='Pur_5_years'>"
      ]
     },
     "execution_count": 59,
     "metadata": {},
     "output_type": "execute_result"
    },
    {
     "data": {
      "image/png": "[encoded data removed]",
      "text/plain": [
       "<Figure size 432x288 with 1 Axes>"
      ]
     },
     "metadata": {},
     "output_type": "display_data"
    }
   ],
   "source": [
    "#BOX AND SWARM\n",
    "target = 'Potential_Customer' #target variable\n",
    "x = 'Pur_5_years'  #numerical variable\n",
    "\n",
    "sns.set_style('whitegrid')\n",
    "sns.boxplot(x=target,y=x,data=data,palette = \"Set2\",whis=np.inf)\n",
    "sns.swarmplot(x=target,y=x,data=data,color='black',alpha=0.5)"
   ]
  },
  {
   "cell_type": "code",
   "execution_count": 60,
   "metadata": {},
   "outputs": [
    {
     "data": {
      "text/plain": [
       "<AxesSubplot:xlabel='Potential_Customer', ylabel='Pur_5_years'>"
      ]
     },
     "execution_count": 60,
     "metadata": {},
     "output_type": "execute_result"
    },
    {
     "data": {
      "image/png": "[encoded data removed]",
      "text/plain": [
       "<Figure size 432x288 with 1 Axes>"
      ]
     },
     "metadata": {},
     "output_type": "display_data"
    }
   ],
   "source": [
    "#VIOLIN AND SWARM\n",
    "target = 'Potential_Customer' #target variable\n",
    "x = 'Pur_5_years'  #numerical variable\n",
    "\n",
    "sns.set_style('whitegrid')\n",
    "sns.violinplot(x=target,y=x,data=data,palette = \"Set2\",scale='width')\n",
    "sns.swarmplot(x=target,y=x,data=data,color='black',alpha=0.5,size=2.5)"
   ]
  },
  {
   "cell_type": "markdown",
   "metadata": {},
   "source": [
    "# <font color=green>Insights through data visualization<font>\n",
    "\n",
    "### Create a chart to visualize potential customer breakdown"
   ]
  },
  {
   "cell_type": "code",
   "execution_count": 61,
   "metadata": {},
   "outputs": [
    {
     "data": {
      "text/plain": [
       "<AxesSubplot:xlabel='Potential_Customer', ylabel='Pur_5_years'>"
      ]
     },
     "execution_count": 61,
     "metadata": {},
     "output_type": "execute_result"
    },
    {
     "data": {
      "image/png": "[encoded data removed]",
      "text/plain": [
       "<Figure size 432x288 with 1 Axes>"
      ]
     },
     "metadata": {},
     "output_type": "display_data"
    }
   ],
   "source": [
    "sns.boxplot(x='Potential_Customer',y='Pur_5_years',data=data,hue='Gender')"
   ]
  },
  {
   "cell_type": "markdown",
   "metadata": {},
   "source": [
    "### How is the Age of the customers distributed? Plot your Answer with the appropriate chart"
   ]
  },
  {
   "cell_type": "code",
   "execution_count": 136,
   "metadata": {},
   "outputs": [
    {
     "data": {
      "text/plain": [
       "<AxesSubplot:xlabel='Age', ylabel='Density'>"
      ]
     },
     "execution_count": 136,
     "metadata": {},
     "output_type": "execute_result"
    },
    {
     "data": {
      "image/png": "[encoded data removed]",
      "text/plain": [
       "<Figure size 432x288 with 1 Axes>"
      ]
     },
     "metadata": {},
     "output_type": "display_data"
    }
   ],
   "source": [
    "sns.distplot(data['Age'])"
   ]
  },
  {
   "cell_type": "code",
   "execution_count": 63,
   "metadata": {},
   "outputs": [
    {
     "data": {
      "text/html": [
       "<div>\n",
       "<style scoped>\n",
       "    .dataframe tbody tr th:only-of-type {\n",
       "        vertical-align: middle;\n",
       "    }\n",
       "\n",
       "    .dataframe tbody tr th {\n",
       "        vertical-align: top;\n",
       "    }\n",
       "\n",
       "    .dataframe thead th {\n",
       "        text-align: right;\n",
       "    }\n",
       "</style>\n",
       "<table border=\"1\" class=\"dataframe\">\n",
       "  <thead>\n",
       "    <tr style=\"text-align: right;\">\n",
       "      <th></th>\n",
       "      <th>Potential_Customer</th>\n",
       "      <th>Cust_Last_Purchase</th>\n",
       "      <th>Pur_3_years</th>\n",
       "      <th>Pur_5_years</th>\n",
       "      <th>Pur_3_years_Indirect</th>\n",
       "      <th>Pur_5_years_Indirect</th>\n",
       "      <th>Pur_latest</th>\n",
       "      <th>Pur_3_years_Avg</th>\n",
       "      <th>Pur_5_years_Avg</th>\n",
       "      <th>Pur_3_years_Avg_Indirect</th>\n",
       "      <th>...</th>\n",
       "      <th>InAct_First</th>\n",
       "      <th>Ad_Res_1_year</th>\n",
       "      <th>Ad_Res_3_Year</th>\n",
       "      <th>Ad_Res_5_Year</th>\n",
       "      <th>Ad_Res_Ind_1_Year</th>\n",
       "      <th>Ad_Res_Ind_3_Year</th>\n",
       "      <th>Ad_Res_Ind_5_Year</th>\n",
       "      <th>Status_Latest_Ad</th>\n",
       "      <th>Age</th>\n",
       "      <th>Cust_Ann_Income</th>\n",
       "    </tr>\n",
       "  </thead>\n",
       "  <tbody>\n",
       "    <tr>\n",
       "      <th>count</th>\n",
       "      <td>3618.000000</td>\n",
       "      <td>3618.000000</td>\n",
       "      <td>3618.000000</td>\n",
       "      <td>3618.000000</td>\n",
       "      <td>3618.000000</td>\n",
       "      <td>3618.000000</td>\n",
       "      <td>3618.000000</td>\n",
       "      <td>3618.000000</td>\n",
       "      <td>3618.000000</td>\n",
       "      <td>3618.000000</td>\n",
       "      <td>...</td>\n",
       "      <td>3618.000000</td>\n",
       "      <td>3618.000000</td>\n",
       "      <td>3618.000000</td>\n",
       "      <td>3618.000000</td>\n",
       "      <td>3618.000000</td>\n",
       "      <td>3618.000000</td>\n",
       "      <td>3618.000000</td>\n",
       "      <td>3618.000000</td>\n",
       "      <td>3618.000000</td>\n",
       "      <td>3618.000000</td>\n",
       "    </tr>\n",
       "    <tr>\n",
       "      <th>mean</th>\n",
       "      <td>0.479823</td>\n",
       "      <td>14.558919</td>\n",
       "      <td>3.308734</td>\n",
       "      <td>11.018795</td>\n",
       "      <td>1.909066</td>\n",
       "      <td>5.887507</td>\n",
       "      <td>15.267344</td>\n",
       "      <td>14.309536</td>\n",
       "      <td>11.913532</td>\n",
       "      <td>13.582128</td>\n",
       "      <td>...</td>\n",
       "      <td>73.807352</td>\n",
       "      <td>13.031786</td>\n",
       "      <td>29.598673</td>\n",
       "      <td>49.613875</td>\n",
       "      <td>5.403814</td>\n",
       "      <td>12.064400</td>\n",
       "      <td>19.508292</td>\n",
       "      <td>0.568546</td>\n",
       "      <td>57.719182</td>\n",
       "      <td>41608.894417</td>\n",
       "    </tr>\n",
       "    <tr>\n",
       "      <th>std</th>\n",
       "      <td>0.499662</td>\n",
       "      <td>8.010603</td>\n",
       "      <td>2.185492</td>\n",
       "      <td>9.405537</td>\n",
       "      <td>1.624995</td>\n",
       "      <td>4.904147</td>\n",
       "      <td>10.794970</td>\n",
       "      <td>10.060256</td>\n",
       "      <td>8.046675</td>\n",
       "      <td>8.793859</td>\n",
       "      <td>...</td>\n",
       "      <td>38.127214</td>\n",
       "      <td>4.941665</td>\n",
       "      <td>7.728158</td>\n",
       "      <td>22.864578</td>\n",
       "      <td>1.356644</td>\n",
       "      <td>4.569374</td>\n",
       "      <td>8.547971</td>\n",
       "      <td>0.495348</td>\n",
       "      <td>14.760653</td>\n",
       "      <td>26127.991993</td>\n",
       "    </tr>\n",
       "    <tr>\n",
       "      <th>min</th>\n",
       "      <td>0.000000</td>\n",
       "      <td>1.000000</td>\n",
       "      <td>0.000000</td>\n",
       "      <td>1.000000</td>\n",
       "      <td>0.000000</td>\n",
       "      <td>0.000000</td>\n",
       "      <td>0.000000</td>\n",
       "      <td>0.000000</td>\n",
       "      <td>1.500000</td>\n",
       "      <td>1.750000</td>\n",
       "      <td>...</td>\n",
       "      <td>15.000000</td>\n",
       "      <td>3.000000</td>\n",
       "      <td>5.000000</td>\n",
       "      <td>7.000000</td>\n",
       "      <td>1.000000</td>\n",
       "      <td>2.000000</td>\n",
       "      <td>3.000000</td>\n",
       "      <td>0.000000</td>\n",
       "      <td>14.000000</td>\n",
       "      <td>0.000000</td>\n",
       "    </tr>\n",
       "    <tr>\n",
       "      <th>25%</th>\n",
       "      <td>0.000000</td>\n",
       "      <td>12.000000</td>\n",
       "      <td>2.000000</td>\n",
       "      <td>4.000000</td>\n",
       "      <td>1.000000</td>\n",
       "      <td>2.000000</td>\n",
       "      <td>10.000000</td>\n",
       "      <td>9.000000</td>\n",
       "      <td>7.500000</td>\n",
       "      <td>9.500000</td>\n",
       "      <td>...</td>\n",
       "      <td>40.000000</td>\n",
       "      <td>11.000000</td>\n",
       "      <td>26.000000</td>\n",
       "      <td>31.000000</td>\n",
       "      <td>5.000000</td>\n",
       "      <td>8.000000</td>\n",
       "      <td>13.000000</td>\n",
       "      <td>0.000000</td>\n",
       "      <td>51.000000</td>\n",
       "      <td>31385.750000</td>\n",
       "    </tr>\n",
       "    <tr>\n",
       "      <th>50%</th>\n",
       "      <td>0.000000</td>\n",
       "      <td>14.560000</td>\n",
       "      <td>3.000000</td>\n",
       "      <td>9.000000</td>\n",
       "      <td>2.000000</td>\n",
       "      <td>5.000000</td>\n",
       "      <td>15.000000</td>\n",
       "      <td>13.000000</td>\n",
       "      <td>10.295000</td>\n",
       "      <td>13.582128</td>\n",
       "      <td>...</td>\n",
       "      <td>74.000000</td>\n",
       "      <td>12.000000</td>\n",
       "      <td>31.000000</td>\n",
       "      <td>50.000000</td>\n",
       "      <td>6.000000</td>\n",
       "      <td>13.000000</td>\n",
       "      <td>20.000000</td>\n",
       "      <td>1.000000</td>\n",
       "      <td>52.000000</td>\n",
       "      <td>44284.500000</td>\n",
       "    </tr>\n",
       "    <tr>\n",
       "      <th>75%</th>\n",
       "      <td>1.000000</td>\n",
       "      <td>14.560000</td>\n",
       "      <td>4.000000</td>\n",
       "      <td>15.000000</td>\n",
       "      <td>3.000000</td>\n",
       "      <td>9.000000</td>\n",
       "      <td>20.000000</td>\n",
       "      <td>17.500000</td>\n",
       "      <td>14.787500</td>\n",
       "      <td>15.000000</td>\n",
       "      <td>...</td>\n",
       "      <td>111.000000</td>\n",
       "      <td>13.000000</td>\n",
       "      <td>33.000000</td>\n",
       "      <td>66.000000</td>\n",
       "      <td>6.000000</td>\n",
       "      <td>16.000000</td>\n",
       "      <td>27.000000</td>\n",
       "      <td>1.000000</td>\n",
       "      <td>70.000000</td>\n",
       "      <td>56508.000000</td>\n",
       "    </tr>\n",
       "    <tr>\n",
       "      <th>max</th>\n",
       "      <td>1.000000</td>\n",
       "      <td>200.000000</td>\n",
       "      <td>15.000000</td>\n",
       "      <td>91.000000</td>\n",
       "      <td>9.000000</td>\n",
       "      <td>41.000000</td>\n",
       "      <td>250.000000</td>\n",
       "      <td>260.000000</td>\n",
       "      <td>200.000000</td>\n",
       "      <td>260.000000</td>\n",
       "      <td>...</td>\n",
       "      <td>260.000000</td>\n",
       "      <td>49.000000</td>\n",
       "      <td>71.000000</td>\n",
       "      <td>157.000000</td>\n",
       "      <td>17.000000</td>\n",
       "      <td>28.000000</td>\n",
       "      <td>56.000000</td>\n",
       "      <td>1.000000</td>\n",
       "      <td>87.000000</td>\n",
       "      <td>174305.000000</td>\n",
       "    </tr>\n",
       "  </tbody>\n",
       "</table>\n",
       "<p>8 rows × 21 columns</p>\n",
       "</div>"
      ],
      "text/plain": [
       "       Potential_Customer  Cust_Last_Purchase  Pur_3_years  Pur_5_years  \\\n",
       "count         3618.000000         3618.000000  3618.000000  3618.000000   \n",
       "mean             0.479823           14.558919     3.308734    11.018795   \n",
       "std              0.499662            8.010603     2.185492     9.405537   \n",
       "min              0.000000            1.000000     0.000000     1.000000   \n",
       "25%              0.000000           12.000000     2.000000     4.000000   \n",
       "50%              0.000000           14.560000     3.000000     9.000000   \n",
       "75%              1.000000           14.560000     4.000000    15.000000   \n",
       "max              1.000000          200.000000    15.000000    91.000000   \n",
       "\n",
       "       Pur_3_years_Indirect  Pur_5_years_Indirect   Pur_latest  \\\n",
       "count           3618.000000           3618.000000  3618.000000   \n",
       "mean               1.909066              5.887507    15.267344   \n",
       "std                1.624995              4.904147    10.794970   \n",
       "min                0.000000              0.000000     0.000000   \n",
       "25%                1.000000              2.000000    10.000000   \n",
       "50%                2.000000              5.000000    15.000000   \n",
       "75%                3.000000              9.000000    20.000000   \n",
       "max                9.000000             41.000000   250.000000   \n",
       "\n",
       "       Pur_3_years_Avg  Pur_5_years_Avg  Pur_3_years_Avg_Indirect  ...  \\\n",
       "count      3618.000000      3618.000000               3618.000000  ...   \n",
       "mean         14.309536        11.913532                 13.582128  ...   \n",
       "std          10.060256         8.046675                  8.793859  ...   \n",
       "min           0.000000         1.500000                  1.750000  ...   \n",
       "25%           9.000000         7.500000                  9.500000  ...   \n",
       "50%          13.000000        10.295000                 13.582128  ...   \n",
       "75%          17.500000        14.787500                 15.000000  ...   \n",
       "max         260.000000       200.000000                260.000000  ...   \n",
       "\n",
       "       InAct_First  Ad_Res_1_year  Ad_Res_3_Year  Ad_Res_5_Year  \\\n",
       "count  3618.000000    3618.000000    3618.000000    3618.000000   \n",
       "mean     73.807352      13.031786      29.598673      49.613875   \n",
       "std      38.127214       4.941665       7.728158      22.864578   \n",
       "min      15.000000       3.000000       5.000000       7.000000   \n",
       "25%      40.000000      11.000000      26.000000      31.000000   \n",
       "50%      74.000000      12.000000      31.000000      50.000000   \n",
       "75%     111.000000      13.000000      33.000000      66.000000   \n",
       "max     260.000000      49.000000      71.000000     157.000000   \n",
       "\n",
       "       Ad_Res_Ind_1_Year  Ad_Res_Ind_3_Year  Ad_Res_Ind_5_Year  \\\n",
       "count        3618.000000        3618.000000        3618.000000   \n",
       "mean            5.403814          12.064400          19.508292   \n",
       "std             1.356644           4.569374           8.547971   \n",
       "min             1.000000           2.000000           3.000000   \n",
       "25%             5.000000           8.000000          13.000000   \n",
       "50%             6.000000          13.000000          20.000000   \n",
       "75%             6.000000          16.000000          27.000000   \n",
       "max            17.000000          28.000000          56.000000   \n",
       "\n",
       "       Status_Latest_Ad          Age  Cust_Ann_Income  \n",
       "count       3618.000000  3618.000000      3618.000000  \n",
       "mean           0.568546    57.719182     41608.894417  \n",
       "std            0.495348    14.760653     26127.991993  \n",
       "min            0.000000    14.000000         0.000000  \n",
       "25%            0.000000    51.000000     31385.750000  \n",
       "50%            1.000000    52.000000     44284.500000  \n",
       "75%            1.000000    70.000000     56508.000000  \n",
       "max            1.000000    87.000000    174305.000000  \n",
       "\n",
       "[8 rows x 21 columns]"
      ]
     },
     "execution_count": 63,
     "metadata": {},
     "output_type": "execute_result"
    }
   ],
   "source": [
    "#if cust last purchase replace with mean\n",
    "data.describe()"
   ]
  },
  {
   "cell_type": "code",
   "execution_count": 193,
   "metadata": {},
   "outputs": [
    {
     "data": {
      "text/html": [
       "<div>\n",
       "<style scoped>\n",
       "    .dataframe tbody tr th:only-of-type {\n",
       "        vertical-align: middle;\n",
       "    }\n",
       "\n",
       "    .dataframe tbody tr th {\n",
       "        vertical-align: top;\n",
       "    }\n",
       "\n",
       "    .dataframe thead th {\n",
       "        text-align: right;\n",
       "    }\n",
       "</style>\n",
       "<table border=\"1\" class=\"dataframe\">\n",
       "  <thead>\n",
       "    <tr style=\"text-align: right;\">\n",
       "      <th></th>\n",
       "      <th>Potential_Customer</th>\n",
       "      <th>Cust_Last_Purchase</th>\n",
       "      <th>Pur_3_years</th>\n",
       "      <th>Pur_5_years</th>\n",
       "      <th>Pur_3_years_Indirect</th>\n",
       "      <th>Pur_5_years_Indirect</th>\n",
       "      <th>Pur_latest</th>\n",
       "      <th>Pur_3_years_Avg</th>\n",
       "      <th>Pur_5_years_Avg</th>\n",
       "      <th>Pur_3_years_Avg_Indirect</th>\n",
       "      <th>...</th>\n",
       "      <th>InAct_First</th>\n",
       "      <th>Ad_Res_1_year</th>\n",
       "      <th>Ad_Res_3_Year</th>\n",
       "      <th>Ad_Res_5_Year</th>\n",
       "      <th>Ad_Res_Ind_1_Year</th>\n",
       "      <th>Ad_Res_Ind_3_Year</th>\n",
       "      <th>Ad_Res_Ind_5_Year</th>\n",
       "      <th>Status_Latest_Ad</th>\n",
       "      <th>Age</th>\n",
       "      <th>Cust_Ann_Income</th>\n",
       "    </tr>\n",
       "  </thead>\n",
       "  <tbody>\n",
       "    <tr>\n",
       "      <th>count</th>\n",
       "      <td>3618.000000</td>\n",
       "      <td>1736.000000</td>\n",
       "      <td>3618.000000</td>\n",
       "      <td>3618.000000</td>\n",
       "      <td>3618.000000</td>\n",
       "      <td>3618.000000</td>\n",
       "      <td>3618.000000</td>\n",
       "      <td>3618.000000</td>\n",
       "      <td>3618.000000</td>\n",
       "      <td>3618.000000</td>\n",
       "      <td>...</td>\n",
       "      <td>3618.000000</td>\n",
       "      <td>3618.000000</td>\n",
       "      <td>3618.000000</td>\n",
       "      <td>3618.000000</td>\n",
       "      <td>3618.000000</td>\n",
       "      <td>3618.000000</td>\n",
       "      <td>3618.000000</td>\n",
       "      <td>3618.000000</td>\n",
       "      <td>3618.000000</td>\n",
       "      <td>3618.000000</td>\n",
       "    </tr>\n",
       "    <tr>\n",
       "      <th>mean</th>\n",
       "      <td>0.479823</td>\n",
       "      <td>14.557748</td>\n",
       "      <td>3.308734</td>\n",
       "      <td>11.018795</td>\n",
       "      <td>1.909066</td>\n",
       "      <td>5.887507</td>\n",
       "      <td>15.267344</td>\n",
       "      <td>14.309536</td>\n",
       "      <td>11.913532</td>\n",
       "      <td>13.582128</td>\n",
       "      <td>...</td>\n",
       "      <td>73.807352</td>\n",
       "      <td>13.031786</td>\n",
       "      <td>29.598673</td>\n",
       "      <td>49.613875</td>\n",
       "      <td>5.403814</td>\n",
       "      <td>12.064400</td>\n",
       "      <td>19.508292</td>\n",
       "      <td>0.568546</td>\n",
       "      <td>57.719182</td>\n",
       "      <td>41608.894417</td>\n",
       "    </tr>\n",
       "    <tr>\n",
       "      <th>std</th>\n",
       "      <td>0.499662</td>\n",
       "      <td>11.566174</td>\n",
       "      <td>2.185492</td>\n",
       "      <td>9.405537</td>\n",
       "      <td>1.624995</td>\n",
       "      <td>4.904147</td>\n",
       "      <td>10.794970</td>\n",
       "      <td>10.060256</td>\n",
       "      <td>8.046675</td>\n",
       "      <td>8.793859</td>\n",
       "      <td>...</td>\n",
       "      <td>38.127214</td>\n",
       "      <td>4.941665</td>\n",
       "      <td>7.728158</td>\n",
       "      <td>22.864578</td>\n",
       "      <td>1.356644</td>\n",
       "      <td>4.569374</td>\n",
       "      <td>8.547971</td>\n",
       "      <td>0.495348</td>\n",
       "      <td>14.760653</td>\n",
       "      <td>26127.991993</td>\n",
       "    </tr>\n",
       "    <tr>\n",
       "      <th>min</th>\n",
       "      <td>0.000000</td>\n",
       "      <td>1.000000</td>\n",
       "      <td>0.000000</td>\n",
       "      <td>1.000000</td>\n",
       "      <td>0.000000</td>\n",
       "      <td>0.000000</td>\n",
       "      <td>0.000000</td>\n",
       "      <td>0.000000</td>\n",
       "      <td>1.500000</td>\n",
       "      <td>1.750000</td>\n",
       "      <td>...</td>\n",
       "      <td>15.000000</td>\n",
       "      <td>3.000000</td>\n",
       "      <td>5.000000</td>\n",
       "      <td>7.000000</td>\n",
       "      <td>1.000000</td>\n",
       "      <td>2.000000</td>\n",
       "      <td>3.000000</td>\n",
       "      <td>0.000000</td>\n",
       "      <td>14.000000</td>\n",
       "      <td>0.000000</td>\n",
       "    </tr>\n",
       "    <tr>\n",
       "      <th>25%</th>\n",
       "      <td>0.000000</td>\n",
       "      <td>8.000000</td>\n",
       "      <td>2.000000</td>\n",
       "      <td>4.000000</td>\n",
       "      <td>1.000000</td>\n",
       "      <td>2.000000</td>\n",
       "      <td>10.000000</td>\n",
       "      <td>9.000000</td>\n",
       "      <td>7.500000</td>\n",
       "      <td>9.500000</td>\n",
       "      <td>...</td>\n",
       "      <td>40.000000</td>\n",
       "      <td>11.000000</td>\n",
       "      <td>26.000000</td>\n",
       "      <td>31.000000</td>\n",
       "      <td>5.000000</td>\n",
       "      <td>8.000000</td>\n",
       "      <td>13.000000</td>\n",
       "      <td>0.000000</td>\n",
       "      <td>51.000000</td>\n",
       "      <td>31385.750000</td>\n",
       "    </tr>\n",
       "    <tr>\n",
       "      <th>50%</th>\n",
       "      <td>0.000000</td>\n",
       "      <td>11.000000</td>\n",
       "      <td>3.000000</td>\n",
       "      <td>9.000000</td>\n",
       "      <td>2.000000</td>\n",
       "      <td>5.000000</td>\n",
       "      <td>15.000000</td>\n",
       "      <td>13.000000</td>\n",
       "      <td>10.295000</td>\n",
       "      <td>13.582128</td>\n",
       "      <td>...</td>\n",
       "      <td>74.000000</td>\n",
       "      <td>12.000000</td>\n",
       "      <td>31.000000</td>\n",
       "      <td>50.000000</td>\n",
       "      <td>6.000000</td>\n",
       "      <td>13.000000</td>\n",
       "      <td>20.000000</td>\n",
       "      <td>1.000000</td>\n",
       "      <td>52.000000</td>\n",
       "      <td>44284.500000</td>\n",
       "    </tr>\n",
       "    <tr>\n",
       "      <th>75%</th>\n",
       "      <td>1.000000</td>\n",
       "      <td>20.000000</td>\n",
       "      <td>4.000000</td>\n",
       "      <td>15.000000</td>\n",
       "      <td>3.000000</td>\n",
       "      <td>9.000000</td>\n",
       "      <td>20.000000</td>\n",
       "      <td>17.500000</td>\n",
       "      <td>14.787500</td>\n",
       "      <td>15.000000</td>\n",
       "      <td>...</td>\n",
       "      <td>111.000000</td>\n",
       "      <td>13.000000</td>\n",
       "      <td>33.000000</td>\n",
       "      <td>66.000000</td>\n",
       "      <td>6.000000</td>\n",
       "      <td>16.000000</td>\n",
       "      <td>27.000000</td>\n",
       "      <td>1.000000</td>\n",
       "      <td>70.000000</td>\n",
       "      <td>56508.000000</td>\n",
       "    </tr>\n",
       "    <tr>\n",
       "      <th>max</th>\n",
       "      <td>1.000000</td>\n",
       "      <td>200.000000</td>\n",
       "      <td>15.000000</td>\n",
       "      <td>91.000000</td>\n",
       "      <td>9.000000</td>\n",
       "      <td>41.000000</td>\n",
       "      <td>250.000000</td>\n",
       "      <td>260.000000</td>\n",
       "      <td>200.000000</td>\n",
       "      <td>260.000000</td>\n",
       "      <td>...</td>\n",
       "      <td>260.000000</td>\n",
       "      <td>49.000000</td>\n",
       "      <td>71.000000</td>\n",
       "      <td>157.000000</td>\n",
       "      <td>17.000000</td>\n",
       "      <td>28.000000</td>\n",
       "      <td>56.000000</td>\n",
       "      <td>1.000000</td>\n",
       "      <td>87.000000</td>\n",
       "      <td>174305.000000</td>\n",
       "    </tr>\n",
       "  </tbody>\n",
       "</table>\n",
       "<p>8 rows × 21 columns</p>\n",
       "</div>"
      ],
      "text/plain": [
       "       Potential_Customer  Cust_Last_Purchase  Pur_3_years  Pur_5_years  \\\n",
       "count         3618.000000         1736.000000  3618.000000  3618.000000   \n",
       "mean             0.479823           14.557748     3.308734    11.018795   \n",
       "std              0.499662           11.566174     2.185492     9.405537   \n",
       "min              0.000000            1.000000     0.000000     1.000000   \n",
       "25%              0.000000            8.000000     2.000000     4.000000   \n",
       "50%              0.000000           11.000000     3.000000     9.000000   \n",
       "75%              1.000000           20.000000     4.000000    15.000000   \n",
       "max              1.000000          200.000000    15.000000    91.000000   \n",
       "\n",
       "       Pur_3_years_Indirect  Pur_5_years_Indirect   Pur_latest  \\\n",
       "count           3618.000000           3618.000000  3618.000000   \n",
       "mean               1.909066              5.887507    15.267344   \n",
       "std                1.624995              4.904147    10.794970   \n",
       "min                0.000000              0.000000     0.000000   \n",
       "25%                1.000000              2.000000    10.000000   \n",
       "50%                2.000000              5.000000    15.000000   \n",
       "75%                3.000000              9.000000    20.000000   \n",
       "max                9.000000             41.000000   250.000000   \n",
       "\n",
       "       Pur_3_years_Avg  Pur_5_years_Avg  Pur_3_years_Avg_Indirect  ...  \\\n",
       "count      3618.000000      3618.000000               3618.000000  ...   \n",
       "mean         14.309536        11.913532                 13.582128  ...   \n",
       "std          10.060256         8.046675                  8.793859  ...   \n",
       "min           0.000000         1.500000                  1.750000  ...   \n",
       "25%           9.000000         7.500000                  9.500000  ...   \n",
       "50%          13.000000        10.295000                 13.582128  ...   \n",
       "75%          17.500000        14.787500                 15.000000  ...   \n",
       "max         260.000000       200.000000                260.000000  ...   \n",
       "\n",
       "       InAct_First  Ad_Res_1_year  Ad_Res_3_Year  Ad_Res_5_Year  \\\n",
       "count  3618.000000    3618.000000    3618.000000    3618.000000   \n",
       "mean     73.807352      13.031786      29.598673      49.613875   \n",
       "std      38.127214       4.941665       7.728158      22.864578   \n",
       "min      15.000000       3.000000       5.000000       7.000000   \n",
       "25%      40.000000      11.000000      26.000000      31.000000   \n",
       "50%      74.000000      12.000000      31.000000      50.000000   \n",
       "75%     111.000000      13.000000      33.000000      66.000000   \n",
       "max     260.000000      49.000000      71.000000     157.000000   \n",
       "\n",
       "       Ad_Res_Ind_1_Year  Ad_Res_Ind_3_Year  Ad_Res_Ind_5_Year  \\\n",
       "count        3618.000000        3618.000000        3618.000000   \n",
       "mean            5.403814          12.064400          19.508292   \n",
       "std             1.356644           4.569374           8.547971   \n",
       "min             1.000000           2.000000           3.000000   \n",
       "25%             5.000000           8.000000          13.000000   \n",
       "50%             6.000000          13.000000          20.000000   \n",
       "75%             6.000000          16.000000          27.000000   \n",
       "max            17.000000          28.000000          56.000000   \n",
       "\n",
       "       Status_Latest_Ad          Age  Cust_Ann_Income  \n",
       "count       3618.000000  3618.000000      3618.000000  \n",
       "mean           0.568546    57.719182     41608.894417  \n",
       "std            0.495348    14.760653     26127.991993  \n",
       "min            0.000000    14.000000         0.000000  \n",
       "25%            0.000000    51.000000     31385.750000  \n",
       "50%            1.000000    52.000000     44284.500000  \n",
       "75%            1.000000    70.000000     56508.000000  \n",
       "max            1.000000    87.000000    174305.000000  \n",
       "\n",
       "[8 rows x 21 columns]"
      ]
     },
     "execution_count": 193,
     "metadata": {},
     "output_type": "execute_result"
    }
   ],
   "source": [
    "data.describe()"
   ]
  },
  {
   "cell_type": "code",
   "execution_count": null,
   "metadata": {},
   "outputs": [],
   "source": []
  },
  {
   "cell_type": "markdown",
   "metadata": {},
   "source": [
    "### Explore the data by visualizing other features (such as customer annual income, distribution of gender)\n",
    "- Start by asking questions that can add value to the business (example: how did my customers behaving lately?)\n",
    "- Then continue by identifying which data are needed for the questions to be answered"
   ]
  },
  {
   "cell_type": "code",
   "execution_count": 74,
   "metadata": {},
   "outputs": [
    {
     "name": "stdout",
     "output_type": "stream",
     "text": [
      "<class 'pandas.core.frame.DataFrame'>\n",
      "Int64Index: 3618 entries, 0 to 3617\n",
      "Data columns (total 25 columns):\n",
      " #   Column                    Non-Null Count  Dtype  \n",
      "---  ------                    --------------  -----  \n",
      " 0   Potential_Customer        3618 non-null   int64  \n",
      " 1   Cust_Last_Purchase        3618 non-null   float64\n",
      " 2   Pur_3_years               3618 non-null   int64  \n",
      " 3   Pur_5_years               3618 non-null   int64  \n",
      " 4   Pur_3_years_Indirect      3618 non-null   int64  \n",
      " 5   Pur_5_years_Indirect      3618 non-null   int64  \n",
      " 6   Pur_latest                3618 non-null   float64\n",
      " 7   Pur_3_years_Avg           3618 non-null   float64\n",
      " 8   Pur_5_years_Avg           3618 non-null   float64\n",
      " 9   Pur_3_years_Avg_Indirect  3618 non-null   float64\n",
      " 10  InAct_Last                3618 non-null   int64  \n",
      " 11  InAct_First               3618 non-null   int64  \n",
      " 12  Ad_Res_1_year             3618 non-null   int64  \n",
      " 13  Ad_Res_3_Year             3618 non-null   int64  \n",
      " 14  Ad_Res_5_Year             3618 non-null   int64  \n",
      " 15  Ad_Res_Ind_1_Year         3618 non-null   int64  \n",
      " 16  Ad_Res_Ind_3_Year         3618 non-null   int64  \n",
      " 17  Ad_Res_Ind_5_Year         3618 non-null   int64  \n",
      " 18  Status_Cust               3618 non-null   object \n",
      " 19  Status_Latest_Ad          3618 non-null   int64  \n",
      " 20  Age                       3618 non-null   float64\n",
      " 21  Gender                    3618 non-null   object \n",
      " 22  Cust_Prop                 3618 non-null   object \n",
      " 23  Cust_Ann_Income           3618 non-null   float64\n",
      " 24  Status_CustN              3618 non-null   object \n",
      "dtypes: float64(7), int64(14), object(4)\n",
      "memory usage: 894.9+ KB\n"
     ]
    }
   ],
   "source": [
    "data.info()"
   ]
  },
  {
   "cell_type": "code",
   "execution_count": 146,
   "metadata": {},
   "outputs": [
    {
     "data": {
      "text/plain": [
       "[Text(0.5, 0, 'Annual Customer Income ($)'), Text(0, 0.5, 'Density')]"
      ]
     },
     "execution_count": 146,
     "metadata": {},
     "output_type": "execute_result"
    },
    {
     "data": {
      "image/png": "[encoded data removed]",
      "text/plain": [
       "<Figure size 432x288 with 1 Axes>"
      ]
     },
     "metadata": {},
     "output_type": "display_data"
    }
   ],
   "source": [
    "from scipy.stats import norm, skewnorm\n",
    "sns.distplot(data['Cust_Ann_Income'],fit=skewnorm,kde=False\n",
    "            ).set(xlabel= 'Annual Customer Income ($)',ylabel= 'Density' )"
   ]
  },
  {
   "cell_type": "code",
   "execution_count": 148,
   "metadata": {},
   "outputs": [
    {
     "data": {
      "text/plain": [
       "[Text(0.5, 0, 'Gender'), Text(0, 0.5, 'Count')]"
      ]
     },
     "execution_count": 148,
     "metadata": {},
     "output_type": "execute_result"
    },
    {
     "data": {
      "image/png": "[encoded data removed]",
      "text/plain": [
       "<Figure size 432x288 with 1 Axes>"
      ]
     },
     "metadata": {},
     "output_type": "display_data"
    }
   ],
   "source": [
    "sns.countplot(data['Gender']).set(xlabel= 'Gender',ylabel= 'Count' )"
   ]
  },
  {
   "cell_type": "code",
   "execution_count": null,
   "metadata": {},
   "outputs": [],
   "source": []
  },
  {
   "cell_type": "code",
   "execution_count": 99,
   "metadata": {},
   "outputs": [
    {
     "data": {
      "text/plain": [
       "[Text(0.5, 0, 'Ad_Res_1_year vs Ad_Res_3_Year'), Text(0, 0.5, 'Count')]"
      ]
     },
     "execution_count": 99,
     "metadata": {},
     "output_type": "execute_result"
    },
    {
     "data": {
      "image/png": "[encoded data removed]",
      "text/plain": [
       "<Figure size 432x288 with 1 Axes>"
      ]
     },
     "metadata": {},
     "output_type": "display_data"
    }
   ],
   "source": [
    "#ad responded in 1 year\n",
    "sns.distplot(data['Ad_Res_1_year'],bins=20,hist_kws={\"alpha\": 0.5})\n",
    "sns.distplot(data['Ad_Res_3_Year'],bins=20,hist_kws={\"alpha\": 0.5}\n",
    "            ).set(xlabel='Ad_Res_1_year vs Ad_Res_3_Year', ylabel='Count')"
   ]
  },
  {
   "cell_type": "code",
   "execution_count": 72,
   "metadata": {},
   "outputs": [
    {
     "data": {
      "text/plain": [
       "<AxesSubplot:title={'center':'Distribution of customers based on Age grouped by Potential_Customer'}, xlabel='Potential_Customer', ylabel='Age'>"
      ]
     },
     "execution_count": 72,
     "metadata": {},
     "output_type": "execute_result"
    },
    {
     "data": {
      "image/png": "[encoded data removed]",
      "text/plain": [
       "<Figure size 432x288 with 1 Axes>"
      ]
     },
     "metadata": {},
     "output_type": "display_data"
    }
   ],
   "source": [
    "y = 'Potential_Customer' #target variable\n",
    "x = 'Age'  #numerical variable\n",
    "\n",
    "plt.title('Distribution of customers based on Age grouped by Potential_Customer')\n",
    "sns.violinplot(x=target,y=x,data=data)    \n",
    "sns.boxplot(x=target,y=x,data=data,boxprops=dict(alpha=.3))"
   ]
  },
  {
   "cell_type": "markdown",
   "metadata": {},
   "source": [
    "### What is the distribution of customers' last purchase\n"
   ]
  },
  {
   "cell_type": "code",
   "execution_count": 65,
   "metadata": {},
   "outputs": [
    {
     "data": {
      "text/plain": [
       "<AxesSubplot:xlabel='Cust_Last_Purchase', ylabel='Density'>"
      ]
     },
     "execution_count": 65,
     "metadata": {},
     "output_type": "execute_result"
    },
    {
     "data": {
      "image/png": "[encoded data removed]",
      "text/plain": [
       "<Figure size 432x288 with 1 Axes>"
      ]
     },
     "metadata": {},
     "output_type": "display_data"
    }
   ],
   "source": [
    "#if cust last purchase replace with mean\n",
    "sns.distplot(data['Cust_Last_Purchase'])"
   ]
  },
  {
   "cell_type": "code",
   "execution_count": 149,
   "metadata": {},
   "outputs": [
    {
     "data": {
      "text/plain": [
       "<AxesSubplot:xlabel='Pur_5_years', ylabel='Density'>"
      ]
     },
     "execution_count": 149,
     "metadata": {},
     "output_type": "execute_result"
    },
    {
     "data": {
      "image/png": "[encoded data removed]",
      "text/plain": [
       "<Figure size 432x288 with 1 Axes>"
      ]
     },
     "metadata": {},
     "output_type": "display_data"
    }
   ],
   "source": [
    "sns.distplot(data['Pur_latest'],)\n",
    "\n",
    "sns.distplot(data['Pur_5_years'])"
   ]
  },
  {
   "cell_type": "code",
   "execution_count": null,
   "metadata": {},
   "outputs": [],
   "source": [
    "#Your Code Here"
   ]
  },
  {
   "cell_type": "markdown",
   "metadata": {},
   "source": [
    "### What's the Purchase amount pattern with regards to Gender"
   ]
  },
  {
   "cell_type": "code",
   "execution_count": 150,
   "metadata": {},
   "outputs": [
    {
     "data": {
      "text/plain": [
       "[Text(0, 0.5, 'Latest Purchases'), Text(0.5, 0, 'Gender')]"
      ]
     },
     "execution_count": 150,
     "metadata": {},
     "output_type": "execute_result"
    },
    {
     "data": {
      "image/png": "[encoded data removed]",
      "text/plain": [
       "<Figure size 432x288 with 1 Axes>"
      ]
     },
     "metadata": {},
     "output_type": "display_data"
    }
   ],
   "source": [
    "sns.boxplot(x= data['Gender'], y= data['Pur_latest'], data= data).set(ylabel= 'Latest Purchases', xlabel= 'Gender')"
   ]
  },
  {
   "cell_type": "markdown",
   "metadata": {},
   "source": [
    "### On average, which group of gender has the higher latest purchase amount?\n"
   ]
  },
  {
   "cell_type": "code",
   "execution_count": 151,
   "metadata": {},
   "outputs": [
    {
     "data": {
      "text/html": [
       "<div>\n",
       "<style scoped>\n",
       "    .dataframe tbody tr th:only-of-type {\n",
       "        vertical-align: middle;\n",
       "    }\n",
       "\n",
       "    .dataframe tbody tr th {\n",
       "        vertical-align: top;\n",
       "    }\n",
       "\n",
       "    .dataframe thead th {\n",
       "        text-align: right;\n",
       "    }\n",
       "</style>\n",
       "<table border=\"1\" class=\"dataframe\">\n",
       "  <thead>\n",
       "    <tr style=\"text-align: right;\">\n",
       "      <th></th>\n",
       "      <th>Pur_latest</th>\n",
       "    </tr>\n",
       "    <tr>\n",
       "      <th>Gender</th>\n",
       "      <th></th>\n",
       "    </tr>\n",
       "  </thead>\n",
       "  <tbody>\n",
       "    <tr>\n",
       "      <th>F</th>\n",
       "      <td>14.79</td>\n",
       "    </tr>\n",
       "    <tr>\n",
       "      <th>M</th>\n",
       "      <td>15.92</td>\n",
       "    </tr>\n",
       "  </tbody>\n",
       "</table>\n",
       "</div>"
      ],
      "text/plain": [
       "        Pur_latest\n",
       "Gender            \n",
       "F            14.79\n",
       "M            15.92"
      ]
     },
     "execution_count": 151,
     "metadata": {},
     "output_type": "execute_result"
    }
   ],
   "source": [
    "latpur = data[['Pur_latest','Gender']]\n",
    "round(latpur.groupby(['Gender']).mean(),2)"
   ]
  },
  {
   "cell_type": "markdown",
   "metadata": {},
   "source": [
    "### What is the distribution of the status of our customers\n"
   ]
  },
  {
   "cell_type": "code",
   "execution_count": 168,
   "metadata": {},
   "outputs": [
    {
     "data": {
      "text/plain": [
       "<AxesSubplot:xlabel='Status_CustN', ylabel='count'>"
      ]
     },
     "execution_count": 168,
     "metadata": {},
     "output_type": "execute_result"
    },
    {
     "data": {
      "image/png": "[encoded data removed]",
      "text/plain": [
       "<Figure size 432x288 with 1 Axes>"
      ]
     },
     "metadata": {},
     "output_type": "display_data"
    }
   ],
   "source": [
    "sns.countplot(x= data[\"Status_CustN\"])"
   ]
  },
  {
   "cell_type": "markdown",
   "metadata": {},
   "source": [
    "### What is the average number of purchase made in the last 3 years among different customer status\n"
   ]
  },
  {
   "cell_type": "code",
   "execution_count": 179,
   "metadata": {},
   "outputs": [
    {
     "data": {
      "text/plain": [
       "<AxesSubplot:xlabel='Status_CustN', ylabel='Pur_3_years_Avg'>"
      ]
     },
     "execution_count": 179,
     "metadata": {},
     "output_type": "execute_result"
    },
    {
     "data": {
      "image/png": "[encoded data removed]",
      "text/plain": [
       "<Figure size 432x288 with 1 Axes>"
      ]
     },
     "metadata": {},
     "output_type": "display_data"
    }
   ],
   "source": [
    "sns.boxplot(x= 'Status_CustN',y='Pur_3_years_Avg',data=data)"
   ]
  },
  {
   "cell_type": "code",
   "execution_count": null,
   "metadata": {},
   "outputs": [],
   "source": [
    "#Your Code Here"
   ]
  },
  {
   "cell_type": "markdown",
   "metadata": {},
   "source": [
    "### What is the average number of purchase made in the last 5 years among different customer status\n"
   ]
  },
  {
   "cell_type": "code",
   "execution_count": 180,
   "metadata": {},
   "outputs": [
    {
     "data": {
      "text/plain": [
       "<AxesSubplot:xlabel='Status_CustN', ylabel='Pur_5_years_Avg'>"
      ]
     },
     "execution_count": 180,
     "metadata": {},
     "output_type": "execute_result"
    },
    {
     "data": {
      "image/png": "[encoded data removed]",
      "text/plain": [
       "<Figure size 432x288 with 1 Axes>"
      ]
     },
     "metadata": {},
     "output_type": "display_data"
    }
   ],
   "source": [
    "sns.boxplot(x= 'Status_CustN',y='Pur_5_years_Avg',data=data)"
   ]
  },
  {
   "cell_type": "code",
   "execution_count": null,
   "metadata": {},
   "outputs": [],
   "source": [
    "#Your Code Here"
   ]
  },
  {
   "cell_type": "markdown",
   "metadata": {},
   "source": [
    "### What is the distribution of the inactive number of months since last purchase?\n"
   ]
  },
  {
   "cell_type": "code",
   "execution_count": 189,
   "metadata": {},
   "outputs": [
    {
     "data": {
      "text/plain": [
       "<AxesSubplot:xlabel='InAct_Last', ylabel='count'>"
      ]
     },
     "execution_count": 189,
     "metadata": {},
     "output_type": "execute_result"
    },
    {
     "data": {
      "image/png": "[encoded data removed]",
      "text/plain": [
       "<Figure size 432x288 with 1 Axes>"
      ]
     },
     "metadata": {},
     "output_type": "display_data"
    }
   ],
   "source": [
    "\n",
    "sns.countplot(x= data[\"InAct_Last\"])"
   ]
  },
  {
   "cell_type": "markdown",
   "metadata": {},
   "source": [
    "### What is the average number of purchase made in the last 3 years among different gender\n"
   ]
  },
  {
   "cell_type": "code",
   "execution_count": 190,
   "metadata": {},
   "outputs": [
    {
     "data": {
      "text/plain": [
       "<AxesSubplot:xlabel='Gender', ylabel='Pur_3_years_Avg'>"
      ]
     },
     "execution_count": 190,
     "metadata": {},
     "output_type": "execute_result"
    },
    {
     "data": {
      "image/png": "[encoded data removed]",
      "text/plain": [
       "<Figure size 432x288 with 1 Axes>"
      ]
     },
     "metadata": {},
     "output_type": "display_data"
    }
   ],
   "source": [
    "sns.boxplot(x= 'Gender',y='Pur_3_years_Avg',data=data)"
   ]
  },
  {
   "cell_type": "markdown",
   "metadata": {},
   "source": [
    "### Check the distribution of customers who responded to ads in past 5 years with By Gender"
   ]
  },
  {
   "cell_type": "markdown",
   "metadata": {},
   "source": [
    "#### Plot By gender"
   ]
  },
  {
   "cell_type": "code",
   "execution_count": 193,
   "metadata": {},
   "outputs": [
    {
     "data": {
      "text/plain": [
       "<AxesSubplot:xlabel='Gender', ylabel='Ad_Res_Ind_5_Year'>"
      ]
     },
     "execution_count": 193,
     "metadata": {},
     "output_type": "execute_result"
    },
    {
     "data": {
      "image/png": "[encoded data removed]",
      "text/plain": [
       "<Figure size 432x288 with 1 Axes>"
      ]
     },
     "metadata": {},
     "output_type": "display_data"
    }
   ],
   "source": [
    "sns.boxplot(x= 'Gender',y='Ad_Res_Ind_5_Year',data=data)"
   ]
  },
  {
   "cell_type": "markdown",
   "metadata": {},
   "source": [
    "#### Plot By Customer Status"
   ]
  },
  {
   "cell_type": "code",
   "execution_count": 194,
   "metadata": {},
   "outputs": [
    {
     "data": {
      "text/plain": [
       "<AxesSubplot:xlabel='Status_CustN', ylabel='Ad_Res_Ind_5_Year'>"
      ]
     },
     "execution_count": 194,
     "metadata": {},
     "output_type": "execute_result"
    },
    {
     "data": {
      "image/png": "[encoded data removed]",
      "text/plain": [
       "<Figure size 432x288 with 1 Axes>"
      ]
     },
     "metadata": {},
     "output_type": "display_data"
    }
   ],
   "source": [
    "sns.boxplot(x= 'Status_CustN',y='Ad_Res_Ind_5_Year',data=data)"
   ]
  },
  {
   "cell_type": "markdown",
   "metadata": {},
   "source": [
    "#### Plot By House Ownership"
   ]
  },
  {
   "cell_type": "code",
   "execution_count": 195,
   "metadata": {},
   "outputs": [
    {
     "data": {
      "text/plain": [
       "<AxesSubplot:xlabel='Cust_Prop', ylabel='Ad_Res_Ind_5_Year'>"
      ]
     },
     "execution_count": 195,
     "metadata": {},
     "output_type": "execute_result"
    },
    {
     "data": {
      "image/png": "[encoded data removed]",
      "text/plain": [
       "<Figure size 432x288 with 1 Axes>"
      ]
     },
     "metadata": {},
     "output_type": "display_data"
    }
   ],
   "source": [
    "sns.boxplot(x= 'Cust_Prop',y='Ad_Res_Ind_5_Year',data=data)"
   ]
  },
  {
   "cell_type": "markdown",
   "metadata": {},
   "source": [
    "#### Summarize your findings - what have you learned from your insights?"
   ]
  },
  {
   "cell_type": "code",
   "execution_count": null,
   "metadata": {},
   "outputs": [],
   "source": [
    "#Your Code Here"
   ]
  },
  {
   "cell_type": "code",
   "execution_count": null,
   "metadata": {},
   "outputs": [],
   "source": [
    "#Your Code Here"
   ]
  },
  {
   "cell_type": "markdown",
   "metadata": {},
   "source": [
    "# <font color=green>Feature Enginearing<font>\n",
    "    \n",
    "### We have too many Features? Do you think you can make some high level features? \n",
    "\n",
    "For example: Instead of three variables for number of ads responded by customer? why not create a single variable which shows ads responded in last three years"
   ]
  },
  {
   "cell_type": "code",
   "execution_count": 67,
   "metadata": {},
   "outputs": [
    {
     "data": {
      "text/html": [
       "<div>\n",
       "<style scoped>\n",
       "    .dataframe tbody tr th:only-of-type {\n",
       "        vertical-align: middle;\n",
       "    }\n",
       "\n",
       "    .dataframe tbody tr th {\n",
       "        vertical-align: top;\n",
       "    }\n",
       "\n",
       "    .dataframe thead th {\n",
       "        text-align: right;\n",
       "    }\n",
       "</style>\n",
       "<table border=\"1\" class=\"dataframe\">\n",
       "  <thead>\n",
       "    <tr style=\"text-align: right;\">\n",
       "      <th></th>\n",
       "      <th>Potential_Customer</th>\n",
       "      <th>Pur_3_years</th>\n",
       "      <th>Pur_5_years</th>\n",
       "      <th>Pur_3_years_Indirect</th>\n",
       "      <th>Pur_5_years_Indirect</th>\n",
       "      <th>Pur_latest</th>\n",
       "      <th>Pur_3_years_Avg</th>\n",
       "      <th>Pur_5_years_Avg</th>\n",
       "      <th>Pur_3_years_Avg_Indirect</th>\n",
       "      <th>InAct_Last</th>\n",
       "      <th>InAct_First</th>\n",
       "      <th>Ad_Res_1_year</th>\n",
       "      <th>Ad_Res_3_Year</th>\n",
       "      <th>Ad_Res_5_Year</th>\n",
       "      <th>Ad_Res_Ind_1_Year</th>\n",
       "      <th>Ad_Res_Ind_3_Year</th>\n",
       "      <th>Ad_Res_Ind_5_Year</th>\n",
       "      <th>Status_Latest_Ad</th>\n",
       "      <th>Age</th>\n",
       "      <th>Cust_Ann_Income</th>\n",
       "    </tr>\n",
       "  </thead>\n",
       "  <tbody>\n",
       "    <tr>\n",
       "      <th>count</th>\n",
       "      <td>3618.000000</td>\n",
       "      <td>3618.000000</td>\n",
       "      <td>3618.000000</td>\n",
       "      <td>3618.000000</td>\n",
       "      <td>3618.000000</td>\n",
       "      <td>3618.000000</td>\n",
       "      <td>3618.000000</td>\n",
       "      <td>3618.000000</td>\n",
       "      <td>3618.000000</td>\n",
       "      <td>3618.000000</td>\n",
       "      <td>3618.000000</td>\n",
       "      <td>3618.000000</td>\n",
       "      <td>3618.000000</td>\n",
       "      <td>3618.000000</td>\n",
       "      <td>3618.000000</td>\n",
       "      <td>3618.000000</td>\n",
       "      <td>3618.000000</td>\n",
       "      <td>3618.000000</td>\n",
       "      <td>3618.000000</td>\n",
       "      <td>3618.000000</td>\n",
       "    </tr>\n",
       "    <tr>\n",
       "      <th>mean</th>\n",
       "      <td>0.479823</td>\n",
       "      <td>3.308734</td>\n",
       "      <td>11.018795</td>\n",
       "      <td>1.909066</td>\n",
       "      <td>5.887507</td>\n",
       "      <td>15.267344</td>\n",
       "      <td>14.309536</td>\n",
       "      <td>11.913532</td>\n",
       "      <td>13.582128</td>\n",
       "      <td>17.934218</td>\n",
       "      <td>73.807352</td>\n",
       "      <td>13.031786</td>\n",
       "      <td>29.598673</td>\n",
       "      <td>49.613875</td>\n",
       "      <td>5.403814</td>\n",
       "      <td>12.064400</td>\n",
       "      <td>19.508292</td>\n",
       "      <td>0.568546</td>\n",
       "      <td>57.719182</td>\n",
       "      <td>41608.894417</td>\n",
       "    </tr>\n",
       "    <tr>\n",
       "      <th>std</th>\n",
       "      <td>0.499662</td>\n",
       "      <td>2.185492</td>\n",
       "      <td>9.405537</td>\n",
       "      <td>1.624995</td>\n",
       "      <td>4.904147</td>\n",
       "      <td>10.794970</td>\n",
       "      <td>10.060256</td>\n",
       "      <td>8.046675</td>\n",
       "      <td>8.793859</td>\n",
       "      <td>4.145219</td>\n",
       "      <td>38.127214</td>\n",
       "      <td>4.941665</td>\n",
       "      <td>7.728158</td>\n",
       "      <td>22.864578</td>\n",
       "      <td>1.356644</td>\n",
       "      <td>4.569374</td>\n",
       "      <td>8.547971</td>\n",
       "      <td>0.495348</td>\n",
       "      <td>14.760653</td>\n",
       "      <td>26127.991993</td>\n",
       "    </tr>\n",
       "    <tr>\n",
       "      <th>min</th>\n",
       "      <td>0.000000</td>\n",
       "      <td>0.000000</td>\n",
       "      <td>1.000000</td>\n",
       "      <td>0.000000</td>\n",
       "      <td>0.000000</td>\n",
       "      <td>0.000000</td>\n",
       "      <td>0.000000</td>\n",
       "      <td>1.500000</td>\n",
       "      <td>1.750000</td>\n",
       "      <td>4.000000</td>\n",
       "      <td>15.000000</td>\n",
       "      <td>3.000000</td>\n",
       "      <td>5.000000</td>\n",
       "      <td>7.000000</td>\n",
       "      <td>1.000000</td>\n",
       "      <td>2.000000</td>\n",
       "      <td>3.000000</td>\n",
       "      <td>0.000000</td>\n",
       "      <td>14.000000</td>\n",
       "      <td>0.000000</td>\n",
       "    </tr>\n",
       "    <tr>\n",
       "      <th>25%</th>\n",
       "      <td>0.000000</td>\n",
       "      <td>2.000000</td>\n",
       "      <td>4.000000</td>\n",
       "      <td>1.000000</td>\n",
       "      <td>2.000000</td>\n",
       "      <td>10.000000</td>\n",
       "      <td>9.000000</td>\n",
       "      <td>7.500000</td>\n",
       "      <td>9.500000</td>\n",
       "      <td>16.000000</td>\n",
       "      <td>40.000000</td>\n",
       "      <td>11.000000</td>\n",
       "      <td>26.000000</td>\n",
       "      <td>31.000000</td>\n",
       "      <td>5.000000</td>\n",
       "      <td>8.000000</td>\n",
       "      <td>13.000000</td>\n",
       "      <td>0.000000</td>\n",
       "      <td>51.000000</td>\n",
       "      <td>31385.750000</td>\n",
       "    </tr>\n",
       "    <tr>\n",
       "      <th>50%</th>\n",
       "      <td>0.000000</td>\n",
       "      <td>3.000000</td>\n",
       "      <td>9.000000</td>\n",
       "      <td>2.000000</td>\n",
       "      <td>5.000000</td>\n",
       "      <td>15.000000</td>\n",
       "      <td>13.000000</td>\n",
       "      <td>10.295000</td>\n",
       "      <td>13.582128</td>\n",
       "      <td>18.000000</td>\n",
       "      <td>74.000000</td>\n",
       "      <td>12.000000</td>\n",
       "      <td>31.000000</td>\n",
       "      <td>50.000000</td>\n",
       "      <td>6.000000</td>\n",
       "      <td>13.000000</td>\n",
       "      <td>20.000000</td>\n",
       "      <td>1.000000</td>\n",
       "      <td>52.000000</td>\n",
       "      <td>44284.500000</td>\n",
       "    </tr>\n",
       "    <tr>\n",
       "      <th>75%</th>\n",
       "      <td>1.000000</td>\n",
       "      <td>4.000000</td>\n",
       "      <td>15.000000</td>\n",
       "      <td>3.000000</td>\n",
       "      <td>9.000000</td>\n",
       "      <td>20.000000</td>\n",
       "      <td>17.500000</td>\n",
       "      <td>14.787500</td>\n",
       "      <td>15.000000</td>\n",
       "      <td>20.000000</td>\n",
       "      <td>111.000000</td>\n",
       "      <td>13.000000</td>\n",
       "      <td>33.000000</td>\n",
       "      <td>66.000000</td>\n",
       "      <td>6.000000</td>\n",
       "      <td>16.000000</td>\n",
       "      <td>27.000000</td>\n",
       "      <td>1.000000</td>\n",
       "      <td>70.000000</td>\n",
       "      <td>56508.000000</td>\n",
       "    </tr>\n",
       "    <tr>\n",
       "      <th>max</th>\n",
       "      <td>1.000000</td>\n",
       "      <td>15.000000</td>\n",
       "      <td>91.000000</td>\n",
       "      <td>9.000000</td>\n",
       "      <td>41.000000</td>\n",
       "      <td>250.000000</td>\n",
       "      <td>260.000000</td>\n",
       "      <td>200.000000</td>\n",
       "      <td>260.000000</td>\n",
       "      <td>27.000000</td>\n",
       "      <td>260.000000</td>\n",
       "      <td>49.000000</td>\n",
       "      <td>71.000000</td>\n",
       "      <td>157.000000</td>\n",
       "      <td>17.000000</td>\n",
       "      <td>28.000000</td>\n",
       "      <td>56.000000</td>\n",
       "      <td>1.000000</td>\n",
       "      <td>87.000000</td>\n",
       "      <td>174305.000000</td>\n",
       "    </tr>\n",
       "  </tbody>\n",
       "</table>\n",
       "</div>"
      ],
      "text/plain": [
       "       Potential_Customer  Pur_3_years  Pur_5_years  Pur_3_years_Indirect  \\\n",
       "count         3618.000000  3618.000000  3618.000000           3618.000000   \n",
       "mean             0.479823     3.308734    11.018795              1.909066   \n",
       "std              0.499662     2.185492     9.405537              1.624995   \n",
       "min              0.000000     0.000000     1.000000              0.000000   \n",
       "25%              0.000000     2.000000     4.000000              1.000000   \n",
       "50%              0.000000     3.000000     9.000000              2.000000   \n",
       "75%              1.000000     4.000000    15.000000              3.000000   \n",
       "max              1.000000    15.000000    91.000000              9.000000   \n",
       "\n",
       "       Pur_5_years_Indirect   Pur_latest  Pur_3_years_Avg  Pur_5_years_Avg  \\\n",
       "count           3618.000000  3618.000000      3618.000000      3618.000000   \n",
       "mean               5.887507    15.267344        14.309536        11.913532   \n",
       "std                4.904147    10.794970        10.060256         8.046675   \n",
       "min                0.000000     0.000000         0.000000         1.500000   \n",
       "25%                2.000000    10.000000         9.000000         7.500000   \n",
       "50%                5.000000    15.000000        13.000000        10.295000   \n",
       "75%                9.000000    20.000000        17.500000        14.787500   \n",
       "max               41.000000   250.000000       260.000000       200.000000   \n",
       "\n",
       "       Pur_3_years_Avg_Indirect   InAct_Last  InAct_First  Ad_Res_1_year  \\\n",
       "count               3618.000000  3618.000000  3618.000000    3618.000000   \n",
       "mean                  13.582128    17.934218    73.807352      13.031786   \n",
       "std                    8.793859     4.145219    38.127214       4.941665   \n",
       "min                    1.750000     4.000000    15.000000       3.000000   \n",
       "25%                    9.500000    16.000000    40.000000      11.000000   \n",
       "50%                   13.582128    18.000000    74.000000      12.000000   \n",
       "75%                   15.000000    20.000000   111.000000      13.000000   \n",
       "max                  260.000000    27.000000   260.000000      49.000000   \n",
       "\n",
       "       Ad_Res_3_Year  Ad_Res_5_Year  Ad_Res_Ind_1_Year  Ad_Res_Ind_3_Year  \\\n",
       "count    3618.000000    3618.000000        3618.000000        3618.000000   \n",
       "mean       29.598673      49.613875           5.403814          12.064400   \n",
       "std         7.728158      22.864578           1.356644           4.569374   \n",
       "min         5.000000       7.000000           1.000000           2.000000   \n",
       "25%        26.000000      31.000000           5.000000           8.000000   \n",
       "50%        31.000000      50.000000           6.000000          13.000000   \n",
       "75%        33.000000      66.000000           6.000000          16.000000   \n",
       "max        71.000000     157.000000          17.000000          28.000000   \n",
       "\n",
       "       Ad_Res_Ind_5_Year  Status_Latest_Ad          Age  Cust_Ann_Income  \n",
       "count        3618.000000       3618.000000  3618.000000      3618.000000  \n",
       "mean           19.508292          0.568546    57.719182     41608.894417  \n",
       "std             8.547971          0.495348    14.760653     26127.991993  \n",
       "min             3.000000          0.000000    14.000000         0.000000  \n",
       "25%            13.000000          0.000000    51.000000     31385.750000  \n",
       "50%            20.000000          1.000000    52.000000     44284.500000  \n",
       "75%            27.000000          1.000000    70.000000     56508.000000  \n",
       "max            56.000000          1.000000    87.000000    174305.000000  "
      ]
     },
     "execution_count": 67,
     "metadata": {},
     "output_type": "execute_result"
    }
   ],
   "source": [
    "data.describe()"
   ]
  },
  {
   "cell_type": "code",
   "execution_count": 153,
   "metadata": {},
   "outputs": [],
   "source": [
    "newcol = (data.Ad_Res_1_year + data.Ad_Res_3_Year + data.Ad_Res_5_Year)/3\n",
    "data['Ad_Res_Avg'] = round(newcol,3)"
   ]
  },
  {
   "cell_type": "code",
   "execution_count": 154,
   "metadata": {},
   "outputs": [
    {
     "data": {
      "text/plain": [
       "0       51.000\n",
       "1       34.333\n",
       "2       34.000\n",
       "3       42.000\n",
       "4       34.667\n",
       "         ...  \n",
       "3613    31.333\n",
       "3614    44.333\n",
       "3615    36.333\n",
       "3616    34.333\n",
       "3617    39.000\n",
       "Name: Ad_Res_Avg, Length: 3618, dtype: float64"
      ]
     },
     "execution_count": 154,
     "metadata": {},
     "output_type": "execute_result"
    }
   ],
   "source": [
    "data['Ad_Res_Avg']"
   ]
  },
  {
   "cell_type": "code",
   "execution_count": 155,
   "metadata": {},
   "outputs": [],
   "source": [
    "data = data.drop(['Ad_Res_1_year','Ad_Res_3_Year'],axis=1)"
   ]
  },
  {
   "cell_type": "code",
   "execution_count": 157,
   "metadata": {},
   "outputs": [
    {
     "data": {
      "text/html": [
       "<div>\n",
       "<style scoped>\n",
       "    .dataframe tbody tr th:only-of-type {\n",
       "        vertical-align: middle;\n",
       "    }\n",
       "\n",
       "    .dataframe tbody tr th {\n",
       "        vertical-align: top;\n",
       "    }\n",
       "\n",
       "    .dataframe thead th {\n",
       "        text-align: right;\n",
       "    }\n",
       "</style>\n",
       "<table border=\"1\" class=\"dataframe\">\n",
       "  <thead>\n",
       "    <tr style=\"text-align: right;\">\n",
       "      <th></th>\n",
       "      <th>Potential_Customer</th>\n",
       "      <th>Cust_Last_Purchase</th>\n",
       "      <th>Pur_3_years</th>\n",
       "      <th>Pur_5_years</th>\n",
       "      <th>Pur_3_years_Indirect</th>\n",
       "      <th>Pur_5_years_Indirect</th>\n",
       "      <th>Pur_latest</th>\n",
       "      <th>Pur_3_years_Avg</th>\n",
       "      <th>Pur_5_years_Avg</th>\n",
       "      <th>Pur_3_years_Avg_Indirect</th>\n",
       "      <th>...</th>\n",
       "      <th>Ad_Res_Ind_3_Year</th>\n",
       "      <th>Ad_Res_Ind_5_Year</th>\n",
       "      <th>Status_Cust</th>\n",
       "      <th>Status_Latest_Ad</th>\n",
       "      <th>Age</th>\n",
       "      <th>Gender</th>\n",
       "      <th>Cust_Prop</th>\n",
       "      <th>Cust_Ann_Income</th>\n",
       "      <th>Status_CustN</th>\n",
       "      <th>Ad_Res_Avg</th>\n",
       "    </tr>\n",
       "  </thead>\n",
       "  <tbody>\n",
       "    <tr>\n",
       "      <th>0</th>\n",
       "      <td>1</td>\n",
       "      <td>5.00</td>\n",
       "      <td>2</td>\n",
       "      <td>17</td>\n",
       "      <td>2</td>\n",
       "      <td>4</td>\n",
       "      <td>0.0</td>\n",
       "      <td>7.50</td>\n",
       "      <td>7.76</td>\n",
       "      <td>7.500000</td>\n",
       "      <td>...</td>\n",
       "      <td>12</td>\n",
       "      <td>16</td>\n",
       "      <td>A</td>\n",
       "      <td>0</td>\n",
       "      <td>71.0</td>\n",
       "      <td>F</td>\n",
       "      <td>H</td>\n",
       "      <td>65957.0</td>\n",
       "      <td>A</td>\n",
       "      <td>51.000</td>\n",
       "    </tr>\n",
       "    <tr>\n",
       "      <th>1</th>\n",
       "      <td>1</td>\n",
       "      <td>30.00</td>\n",
       "      <td>1</td>\n",
       "      <td>7</td>\n",
       "      <td>0</td>\n",
       "      <td>3</td>\n",
       "      <td>25.0</td>\n",
       "      <td>25.00</td>\n",
       "      <td>13.00</td>\n",
       "      <td>13.582128</td>\n",
       "      <td>...</td>\n",
       "      <td>6</td>\n",
       "      <td>22</td>\n",
       "      <td>A</td>\n",
       "      <td>1</td>\n",
       "      <td>52.0</td>\n",
       "      <td>M</td>\n",
       "      <td>U</td>\n",
       "      <td>0.0</td>\n",
       "      <td>A</td>\n",
       "      <td>34.333</td>\n",
       "    </tr>\n",
       "    <tr>\n",
       "      <th>2</th>\n",
       "      <td>0</td>\n",
       "      <td>14.56</td>\n",
       "      <td>5</td>\n",
       "      <td>12</td>\n",
       "      <td>3</td>\n",
       "      <td>5</td>\n",
       "      <td>15.0</td>\n",
       "      <td>15.00</td>\n",
       "      <td>11.25</td>\n",
       "      <td>14.670000</td>\n",
       "      <td>...</td>\n",
       "      <td>17</td>\n",
       "      <td>22</td>\n",
       "      <td>S</td>\n",
       "      <td>1</td>\n",
       "      <td>79.0</td>\n",
       "      <td>F</td>\n",
       "      <td>U</td>\n",
       "      <td>0.0</td>\n",
       "      <td>S</td>\n",
       "      <td>34.000</td>\n",
       "    </tr>\n",
       "    <tr>\n",
       "      <th>3</th>\n",
       "      <td>1</td>\n",
       "      <td>20.00</td>\n",
       "      <td>1</td>\n",
       "      <td>11</td>\n",
       "      <td>0</td>\n",
       "      <td>3</td>\n",
       "      <td>20.0</td>\n",
       "      <td>20.00</td>\n",
       "      <td>12.45</td>\n",
       "      <td>13.582128</td>\n",
       "      <td>...</td>\n",
       "      <td>8</td>\n",
       "      <td>33</td>\n",
       "      <td>A</td>\n",
       "      <td>0</td>\n",
       "      <td>73.0</td>\n",
       "      <td>F</td>\n",
       "      <td>U</td>\n",
       "      <td>76293.0</td>\n",
       "      <td>A</td>\n",
       "      <td>42.000</td>\n",
       "    </tr>\n",
       "    <tr>\n",
       "      <th>4</th>\n",
       "      <td>1</td>\n",
       "      <td>5.00</td>\n",
       "      <td>3</td>\n",
       "      <td>15</td>\n",
       "      <td>2</td>\n",
       "      <td>7</td>\n",
       "      <td>3.0</td>\n",
       "      <td>4.33</td>\n",
       "      <td>3.80</td>\n",
       "      <td>4.000000</td>\n",
       "      <td>...</td>\n",
       "      <td>12</td>\n",
       "      <td>24</td>\n",
       "      <td>S</td>\n",
       "      <td>1</td>\n",
       "      <td>68.0</td>\n",
       "      <td>F</td>\n",
       "      <td>H</td>\n",
       "      <td>113663.0</td>\n",
       "      <td>S</td>\n",
       "      <td>34.667</td>\n",
       "    </tr>\n",
       "  </tbody>\n",
       "</table>\n",
       "<p>5 rows × 24 columns</p>\n",
       "</div>"
      ],
      "text/plain": [
       "   Potential_Customer  Cust_Last_Purchase  Pur_3_years  Pur_5_years  \\\n",
       "0                   1                5.00            2           17   \n",
       "1                   1               30.00            1            7   \n",
       "2                   0               14.56            5           12   \n",
       "3                   1               20.00            1           11   \n",
       "4                   1                5.00            3           15   \n",
       "\n",
       "   Pur_3_years_Indirect  Pur_5_years_Indirect  Pur_latest  Pur_3_years_Avg  \\\n",
       "0                     2                     4         0.0             7.50   \n",
       "1                     0                     3        25.0            25.00   \n",
       "2                     3                     5        15.0            15.00   \n",
       "3                     0                     3        20.0            20.00   \n",
       "4                     2                     7         3.0             4.33   \n",
       "\n",
       "   Pur_5_years_Avg  Pur_3_years_Avg_Indirect  ...  Ad_Res_Ind_3_Year  \\\n",
       "0             7.76                  7.500000  ...                 12   \n",
       "1            13.00                 13.582128  ...                  6   \n",
       "2            11.25                 14.670000  ...                 17   \n",
       "3            12.45                 13.582128  ...                  8   \n",
       "4             3.80                  4.000000  ...                 12   \n",
       "\n",
       "   Ad_Res_Ind_5_Year  Status_Cust  Status_Latest_Ad   Age  Gender Cust_Prop  \\\n",
       "0                 16            A                 0  71.0       F         H   \n",
       "1                 22            A                 1  52.0       M         U   \n",
       "2                 22            S                 1  79.0       F         U   \n",
       "3                 33            A                 0  73.0       F         U   \n",
       "4                 24            S                 1  68.0       F         H   \n",
       "\n",
       "   Cust_Ann_Income  Status_CustN Ad_Res_Avg  \n",
       "0          65957.0             A     51.000  \n",
       "1              0.0             A     34.333  \n",
       "2              0.0             S     34.000  \n",
       "3          76293.0             A     42.000  \n",
       "4         113663.0             S     34.667  \n",
       "\n",
       "[5 rows x 24 columns]"
      ]
     },
     "execution_count": 157,
     "metadata": {},
     "output_type": "execute_result"
    }
   ],
   "source": [
    "data.head(5)"
   ]
  },
  {
   "cell_type": "markdown",
   "metadata": {},
   "source": [
    "# <font color=green>Feature Selection<font>\n",
    "\n",
    "### Check the correlation among the variables"
   ]
  },
  {
   "cell_type": "code",
   "execution_count": 158,
   "metadata": {},
   "outputs": [
    {
     "data": {
      "text/html": [
       "<div>\n",
       "<style scoped>\n",
       "    .dataframe tbody tr th:only-of-type {\n",
       "        vertical-align: middle;\n",
       "    }\n",
       "\n",
       "    .dataframe tbody tr th {\n",
       "        vertical-align: top;\n",
       "    }\n",
       "\n",
       "    .dataframe thead th {\n",
       "        text-align: right;\n",
       "    }\n",
       "</style>\n",
       "<table border=\"1\" class=\"dataframe\">\n",
       "  <thead>\n",
       "    <tr style=\"text-align: right;\">\n",
       "      <th></th>\n",
       "      <th>Ad_Res_Avg</th>\n",
       "      <th>Ad_Res_5_Year</th>\n",
       "    </tr>\n",
       "  </thead>\n",
       "  <tbody>\n",
       "    <tr>\n",
       "      <th>Ad_Res_Avg</th>\n",
       "      <td>1.000000</td>\n",
       "      <td>0.962843</td>\n",
       "    </tr>\n",
       "    <tr>\n",
       "      <th>Ad_Res_5_Year</th>\n",
       "      <td>0.962843</td>\n",
       "      <td>1.000000</td>\n",
       "    </tr>\n",
       "  </tbody>\n",
       "</table>\n",
       "</div>"
      ],
      "text/plain": [
       "               Ad_Res_Avg  Ad_Res_5_Year\n",
       "Ad_Res_Avg       1.000000       0.962843\n",
       "Ad_Res_5_Year    0.962843       1.000000"
      ]
     },
     "execution_count": 158,
     "metadata": {},
     "output_type": "execute_result"
    }
   ],
   "source": [
    "data[['Ad_Res_Avg','Ad_Res_5_Year']].corr()"
   ]
  },
  {
   "cell_type": "markdown",
   "metadata": {},
   "source": [
    "### Create a Heatmap of correlation between the variables"
   ]
  },
  {
   "cell_type": "code",
   "execution_count": 159,
   "metadata": {},
   "outputs": [
    {
     "data": {
      "text/html": [
       "<style  type=\"text/css\" >\n",
       "#T_90dfc35f_0b8b_11ec_a07a_e0d55e887f9brow0_col0,#T_90dfc35f_0b8b_11ec_a07a_e0d55e887f9brow1_col1,#T_90dfc35f_0b8b_11ec_a07a_e0d55e887f9brow2_col2,#T_90dfc35f_0b8b_11ec_a07a_e0d55e887f9brow3_col3,#T_90dfc35f_0b8b_11ec_a07a_e0d55e887f9brow4_col4,#T_90dfc35f_0b8b_11ec_a07a_e0d55e887f9brow5_col5,#T_90dfc35f_0b8b_11ec_a07a_e0d55e887f9brow6_col6,#T_90dfc35f_0b8b_11ec_a07a_e0d55e887f9brow7_col7,#T_90dfc35f_0b8b_11ec_a07a_e0d55e887f9brow8_col8,#T_90dfc35f_0b8b_11ec_a07a_e0d55e887f9brow9_col9,#T_90dfc35f_0b8b_11ec_a07a_e0d55e887f9brow10_col10,#T_90dfc35f_0b8b_11ec_a07a_e0d55e887f9brow11_col11,#T_90dfc35f_0b8b_11ec_a07a_e0d55e887f9brow12_col12,#T_90dfc35f_0b8b_11ec_a07a_e0d55e887f9brow13_col13,#T_90dfc35f_0b8b_11ec_a07a_e0d55e887f9brow14_col14,#T_90dfc35f_0b8b_11ec_a07a_e0d55e887f9brow15_col15,#T_90dfc35f_0b8b_11ec_a07a_e0d55e887f9brow16_col16,#T_90dfc35f_0b8b_11ec_a07a_e0d55e887f9brow17_col17,#T_90dfc35f_0b8b_11ec_a07a_e0d55e887f9brow18_col18,#T_90dfc35f_0b8b_11ec_a07a_e0d55e887f9brow19_col19{\n",
       "            background-color:  #b40426;\n",
       "            color:  #f1f1f1;\n",
       "        }#T_90dfc35f_0b8b_11ec_a07a_e0d55e887f9brow0_col1,#T_90dfc35f_0b8b_11ec_a07a_e0d55e887f9brow0_col8,#T_90dfc35f_0b8b_11ec_a07a_e0d55e887f9brow3_col0,#T_90dfc35f_0b8b_11ec_a07a_e0d55e887f9brow5_col0,#T_90dfc35f_0b8b_11ec_a07a_e0d55e887f9brow13_col1,#T_90dfc35f_0b8b_11ec_a07a_e0d55e887f9brow14_col0,#T_90dfc35f_0b8b_11ec_a07a_e0d55e887f9brow15_col7,#T_90dfc35f_0b8b_11ec_a07a_e0d55e887f9brow18_col12{\n",
       "            background-color:  #779af7;\n",
       "            color:  #000000;\n",
       "        }#T_90dfc35f_0b8b_11ec_a07a_e0d55e887f9brow0_col2,#T_90dfc35f_0b8b_11ec_a07a_e0d55e887f9brow2_col11,#T_90dfc35f_0b8b_11ec_a07a_e0d55e887f9brow17_col15,#T_90dfc35f_0b8b_11ec_a07a_e0d55e887f9brow17_col16{\n",
       "            background-color:  #b9d0f9;\n",
       "            color:  #000000;\n",
       "        }#T_90dfc35f_0b8b_11ec_a07a_e0d55e887f9brow0_col3{\n",
       "            background-color:  #a7c5fe;\n",
       "            color:  #000000;\n",
       "        }#T_90dfc35f_0b8b_11ec_a07a_e0d55e887f9brow0_col4{\n",
       "            background-color:  #aac7fd;\n",
       "            color:  #000000;\n",
       "        }#T_90dfc35f_0b8b_11ec_a07a_e0d55e887f9brow0_col5{\n",
       "            background-color:  #abc8fd;\n",
       "            color:  #000000;\n",
       "        }#T_90dfc35f_0b8b_11ec_a07a_e0d55e887f9brow0_col6,#T_90dfc35f_0b8b_11ec_a07a_e0d55e887f9brow0_col7,#T_90dfc35f_0b8b_11ec_a07a_e0d55e887f9brow0_col10,#T_90dfc35f_0b8b_11ec_a07a_e0d55e887f9brow15_col9{\n",
       "            background-color:  #7699f6;\n",
       "            color:  #000000;\n",
       "        }#T_90dfc35f_0b8b_11ec_a07a_e0d55e887f9brow0_col9,#T_90dfc35f_0b8b_11ec_a07a_e0d55e887f9brow12_col6,#T_90dfc35f_0b8b_11ec_a07a_e0d55e887f9brow14_col7{\n",
       "            background-color:  #7396f5;\n",
       "            color:  #000000;\n",
       "        }#T_90dfc35f_0b8b_11ec_a07a_e0d55e887f9brow0_col11{\n",
       "            background-color:  #98b9ff;\n",
       "            color:  #000000;\n",
       "        }#T_90dfc35f_0b8b_11ec_a07a_e0d55e887f9brow0_col12,#T_90dfc35f_0b8b_11ec_a07a_e0d55e887f9brow13_col8{\n",
       "            background-color:  #8fb1fe;\n",
       "            color:  #000000;\n",
       "        }#T_90dfc35f_0b8b_11ec_a07a_e0d55e887f9brow0_col13,#T_90dfc35f_0b8b_11ec_a07a_e0d55e887f9brow10_col9,#T_90dfc35f_0b8b_11ec_a07a_e0d55e887f9brow18_col6{\n",
       "            background-color:  #a2c1ff;\n",
       "            color:  #000000;\n",
       "        }#T_90dfc35f_0b8b_11ec_a07a_e0d55e887f9brow0_col14,#T_90dfc35f_0b8b_11ec_a07a_e0d55e887f9brow18_col5{\n",
       "            background-color:  #88abfd;\n",
       "            color:  #000000;\n",
       "        }#T_90dfc35f_0b8b_11ec_a07a_e0d55e887f9brow0_col15,#T_90dfc35f_0b8b_11ec_a07a_e0d55e887f9brow1_col13,#T_90dfc35f_0b8b_11ec_a07a_e0d55e887f9brow6_col13,#T_90dfc35f_0b8b_11ec_a07a_e0d55e887f9brow13_col9,#T_90dfc35f_0b8b_11ec_a07a_e0d55e887f9brow19_col17{\n",
       "            background-color:  #92b4fe;\n",
       "            color:  #000000;\n",
       "        }#T_90dfc35f_0b8b_11ec_a07a_e0d55e887f9brow0_col16{\n",
       "            background-color:  #aec9fc;\n",
       "            color:  #000000;\n",
       "        }#T_90dfc35f_0b8b_11ec_a07a_e0d55e887f9brow0_col17,#T_90dfc35f_0b8b_11ec_a07a_e0d55e887f9brow1_col18,#T_90dfc35f_0b8b_11ec_a07a_e0d55e887f9brow6_col12{\n",
       "            background-color:  #5b7ae5;\n",
       "            color:  #000000;\n",
       "        }#T_90dfc35f_0b8b_11ec_a07a_e0d55e887f9brow0_col18,#T_90dfc35f_0b8b_11ec_a07a_e0d55e887f9brow9_col17{\n",
       "            background-color:  #4961d2;\n",
       "            color:  #f1f1f1;\n",
       "        }#T_90dfc35f_0b8b_11ec_a07a_e0d55e887f9brow0_col19,#T_90dfc35f_0b8b_11ec_a07a_e0d55e887f9brow17_col2,#T_90dfc35f_0b8b_11ec_a07a_e0d55e887f9brow18_col8{\n",
       "            background-color:  #a3c2fe;\n",
       "            color:  #000000;\n",
       "        }#T_90dfc35f_0b8b_11ec_a07a_e0d55e887f9brow1_col0,#T_90dfc35f_0b8b_11ec_a07a_e0d55e887f9brow1_col2,#T_90dfc35f_0b8b_11ec_a07a_e0d55e887f9brow9_col5,#T_90dfc35f_0b8b_11ec_a07a_e0d55e887f9brow10_col4,#T_90dfc35f_0b8b_11ec_a07a_e0d55e887f9brow10_col15,#T_90dfc35f_0b8b_11ec_a07a_e0d55e887f9brow10_col18,#T_90dfc35f_0b8b_11ec_a07a_e0d55e887f9brow13_col18{\n",
       "            background-color:  #5977e3;\n",
       "            color:  #000000;\n",
       "        }#T_90dfc35f_0b8b_11ec_a07a_e0d55e887f9brow1_col3,#T_90dfc35f_0b8b_11ec_a07a_e0d55e887f9brow1_col5,#T_90dfc35f_0b8b_11ec_a07a_e0d55e887f9brow9_col11,#T_90dfc35f_0b8b_11ec_a07a_e0d55e887f9brow9_col12{\n",
       "            background-color:  #6788ee;\n",
       "            color:  #000000;\n",
       "        }#T_90dfc35f_0b8b_11ec_a07a_e0d55e887f9brow1_col4,#T_90dfc35f_0b8b_11ec_a07a_e0d55e887f9brow1_col14,#T_90dfc35f_0b8b_11ec_a07a_e0d55e887f9brow5_col7,#T_90dfc35f_0b8b_11ec_a07a_e0d55e887f9brow10_col3,#T_90dfc35f_0b8b_11ec_a07a_e0d55e887f9brow14_col18,#T_90dfc35f_0b8b_11ec_a07a_e0d55e887f9brow16_col9{\n",
       "            background-color:  #506bda;\n",
       "            color:  #000000;\n",
       "        }#T_90dfc35f_0b8b_11ec_a07a_e0d55e887f9brow1_col6,#T_90dfc35f_0b8b_11ec_a07a_e0d55e887f9brow16_col3{\n",
       "            background-color:  #f7b194;\n",
       "            color:  #000000;\n",
       "        }#T_90dfc35f_0b8b_11ec_a07a_e0d55e887f9brow1_col7,#T_90dfc35f_0b8b_11ec_a07a_e0d55e887f9brow16_col2{\n",
       "            background-color:  #f2cab5;\n",
       "            color:  #000000;\n",
       "        }#T_90dfc35f_0b8b_11ec_a07a_e0d55e887f9brow1_col8{\n",
       "            background-color:  #edd2c3;\n",
       "            color:  #000000;\n",
       "        }#T_90dfc35f_0b8b_11ec_a07a_e0d55e887f9brow1_col9{\n",
       "            background-color:  #ead5c9;\n",
       "            color:  #000000;\n",
       "        }#T_90dfc35f_0b8b_11ec_a07a_e0d55e887f9brow1_col10,#T_90dfc35f_0b8b_11ec_a07a_e0d55e887f9brow9_col10{\n",
       "            background-color:  #a5c3fe;\n",
       "            color:  #000000;\n",
       "        }#T_90dfc35f_0b8b_11ec_a07a_e0d55e887f9brow1_col11,#T_90dfc35f_0b8b_11ec_a07a_e0d55e887f9brow13_col0{\n",
       "            background-color:  #6c8ff1;\n",
       "            color:  #000000;\n",
       "        }#T_90dfc35f_0b8b_11ec_a07a_e0d55e887f9brow1_col12,#T_90dfc35f_0b8b_11ec_a07a_e0d55e887f9brow1_col16,#T_90dfc35f_0b8b_11ec_a07a_e0d55e887f9brow10_col5,#T_90dfc35f_0b8b_11ec_a07a_e0d55e887f9brow14_col17,#T_90dfc35f_0b8b_11ec_a07a_e0d55e887f9brow19_col8{\n",
       "            background-color:  #6a8bef;\n",
       "            color:  #000000;\n",
       "        }#T_90dfc35f_0b8b_11ec_a07a_e0d55e887f9brow1_col15,#T_90dfc35f_0b8b_11ec_a07a_e0d55e887f9brow5_col10,#T_90dfc35f_0b8b_11ec_a07a_e0d55e887f9brow12_col1{\n",
       "            background-color:  #688aef;\n",
       "            color:  #000000;\n",
       "        }#T_90dfc35f_0b8b_11ec_a07a_e0d55e887f9brow1_col17,#T_90dfc35f_0b8b_11ec_a07a_e0d55e887f9brow4_col7{\n",
       "            background-color:  #485fd1;\n",
       "            color:  #f1f1f1;\n",
       "        }#T_90dfc35f_0b8b_11ec_a07a_e0d55e887f9brow1_col19,#T_90dfc35f_0b8b_11ec_a07a_e0d55e887f9brow2_col0,#T_90dfc35f_0b8b_11ec_a07a_e0d55e887f9brow7_col19,#T_90dfc35f_0b8b_11ec_a07a_e0d55e887f9brow9_col19,#T_90dfc35f_0b8b_11ec_a07a_e0d55e887f9brow18_col16,#T_90dfc35f_0b8b_11ec_a07a_e0d55e887f9brow19_col9{\n",
       "            background-color:  #86a9fc;\n",
       "            color:  #000000;\n",
       "        }#T_90dfc35f_0b8b_11ec_a07a_e0d55e887f9brow2_col1,#T_90dfc35f_0b8b_11ec_a07a_e0d55e887f9brow2_col6,#T_90dfc35f_0b8b_11ec_a07a_e0d55e887f9brow2_col7,#T_90dfc35f_0b8b_11ec_a07a_e0d55e887f9brow2_col8,#T_90dfc35f_0b8b_11ec_a07a_e0d55e887f9brow2_col9,#T_90dfc35f_0b8b_11ec_a07a_e0d55e887f9brow2_col18,#T_90dfc35f_0b8b_11ec_a07a_e0d55e887f9brow6_col4,#T_90dfc35f_0b8b_11ec_a07a_e0d55e887f9brow7_col4,#T_90dfc35f_0b8b_11ec_a07a_e0d55e887f9brow8_col0,#T_90dfc35f_0b8b_11ec_a07a_e0d55e887f9brow8_col2,#T_90dfc35f_0b8b_11ec_a07a_e0d55e887f9brow8_col3,#T_90dfc35f_0b8b_11ec_a07a_e0d55e887f9brow8_col4,#T_90dfc35f_0b8b_11ec_a07a_e0d55e887f9brow8_col5,#T_90dfc35f_0b8b_11ec_a07a_e0d55e887f9brow8_col11,#T_90dfc35f_0b8b_11ec_a07a_e0d55e887f9brow8_col14,#T_90dfc35f_0b8b_11ec_a07a_e0d55e887f9brow8_col15,#T_90dfc35f_0b8b_11ec_a07a_e0d55e887f9brow8_col16,#T_90dfc35f_0b8b_11ec_a07a_e0d55e887f9brow8_col17,#T_90dfc35f_0b8b_11ec_a07a_e0d55e887f9brow10_col12,#T_90dfc35f_0b8b_11ec_a07a_e0d55e887f9brow10_col13,#T_90dfc35f_0b8b_11ec_a07a_e0d55e887f9brow10_col14,#T_90dfc35f_0b8b_11ec_a07a_e0d55e887f9brow10_col19,#T_90dfc35f_0b8b_11ec_a07a_e0d55e887f9brow13_col10{\n",
       "            background-color:  #3b4cc0;\n",
       "            color:  #f1f1f1;\n",
       "        }#T_90dfc35f_0b8b_11ec_a07a_e0d55e887f9brow2_col3,#T_90dfc35f_0b8b_11ec_a07a_e0d55e887f9brow12_col16,#T_90dfc35f_0b8b_11ec_a07a_e0d55e887f9brow13_col14{\n",
       "            background-color:  #f7b79b;\n",
       "            color:  #000000;\n",
       "        }#T_90dfc35f_0b8b_11ec_a07a_e0d55e887f9brow2_col4{\n",
       "            background-color:  #dd5f4b;\n",
       "            color:  #000000;\n",
       "        }#T_90dfc35f_0b8b_11ec_a07a_e0d55e887f9brow2_col5{\n",
       "            background-color:  #f7b99e;\n",
       "            color:  #000000;\n",
       "        }#T_90dfc35f_0b8b_11ec_a07a_e0d55e887f9brow2_col10,#T_90dfc35f_0b8b_11ec_a07a_e0d55e887f9brow5_col9,#T_90dfc35f_0b8b_11ec_a07a_e0d55e887f9brow12_col10{\n",
       "            background-color:  #5572df;\n",
       "            color:  #000000;\n",
       "        }#T_90dfc35f_0b8b_11ec_a07a_e0d55e887f9brow2_col12{\n",
       "            background-color:  #cbd8ee;\n",
       "            color:  #000000;\n",
       "        }#T_90dfc35f_0b8b_11ec_a07a_e0d55e887f9brow2_col13{\n",
       "            background-color:  #e1dad6;\n",
       "            color:  #000000;\n",
       "        }#T_90dfc35f_0b8b_11ec_a07a_e0d55e887f9brow2_col14{\n",
       "            background-color:  #f7bca1;\n",
       "            color:  #000000;\n",
       "        }#T_90dfc35f_0b8b_11ec_a07a_e0d55e887f9brow2_col15{\n",
       "            background-color:  #d5dbe5;\n",
       "            color:  #000000;\n",
       "        }#T_90dfc35f_0b8b_11ec_a07a_e0d55e887f9brow2_col16,#T_90dfc35f_0b8b_11ec_a07a_e0d55e887f9brow14_col5{\n",
       "            background-color:  #f2cbb7;\n",
       "            color:  #000000;\n",
       "        }#T_90dfc35f_0b8b_11ec_a07a_e0d55e887f9brow2_col17,#T_90dfc35f_0b8b_11ec_a07a_e0d55e887f9brow6_col18,#T_90dfc35f_0b8b_11ec_a07a_e0d55e887f9brow7_col11,#T_90dfc35f_0b8b_11ec_a07a_e0d55e887f9brow7_col12,#T_90dfc35f_0b8b_11ec_a07a_e0d55e887f9brow9_col15,#T_90dfc35f_0b8b_11ec_a07a_e0d55e887f9brow13_col17,#T_90dfc35f_0b8b_11ec_a07a_e0d55e887f9brow14_col10{\n",
       "            background-color:  #6485ec;\n",
       "            color:  #000000;\n",
       "        }#T_90dfc35f_0b8b_11ec_a07a_e0d55e887f9brow2_col19{\n",
       "            background-color:  #dedcdb;\n",
       "            color:  #000000;\n",
       "        }#T_90dfc35f_0b8b_11ec_a07a_e0d55e887f9brow3_col1,#T_90dfc35f_0b8b_11ec_a07a_e0d55e887f9brow4_col9,#T_90dfc35f_0b8b_11ec_a07a_e0d55e887f9brow6_col5,#T_90dfc35f_0b8b_11ec_a07a_e0d55e887f9brow7_col3,#T_90dfc35f_0b8b_11ec_a07a_e0d55e887f9brow7_col16,#T_90dfc35f_0b8b_11ec_a07a_e0d55e887f9brow16_col7,#T_90dfc35f_0b8b_11ec_a07a_e0d55e887f9brow19_col18{\n",
       "            background-color:  #4f69d9;\n",
       "            color:  #000000;\n",
       "        }#T_90dfc35f_0b8b_11ec_a07a_e0d55e887f9brow3_col2,#T_90dfc35f_0b8b_11ec_a07a_e0d55e887f9brow19_col13{\n",
       "            background-color:  #f7b497;\n",
       "            color:  #000000;\n",
       "        }#T_90dfc35f_0b8b_11ec_a07a_e0d55e887f9brow3_col4,#T_90dfc35f_0b8b_11ec_a07a_e0d55e887f9brow14_col15,#T_90dfc35f_0b8b_11ec_a07a_e0d55e887f9brow19_col14{\n",
       "            background-color:  #f1ccb8;\n",
       "            color:  #000000;\n",
       "        }#T_90dfc35f_0b8b_11ec_a07a_e0d55e887f9brow3_col5{\n",
       "            background-color:  #cc403a;\n",
       "            color:  #f1f1f1;\n",
       "        }#T_90dfc35f_0b8b_11ec_a07a_e0d55e887f9brow3_col6,#T_90dfc35f_0b8b_11ec_a07a_e0d55e887f9brow6_col16,#T_90dfc35f_0b8b_11ec_a07a_e0d55e887f9brow12_col18,#T_90dfc35f_0b8b_11ec_a07a_e0d55e887f9brow16_col1{\n",
       "            background-color:  #4e68d8;\n",
       "            color:  #000000;\n",
       "        }#T_90dfc35f_0b8b_11ec_a07a_e0d55e887f9brow3_col7,#T_90dfc35f_0b8b_11ec_a07a_e0d55e887f9brow15_col8,#T_90dfc35f_0b8b_11ec_a07a_e0d55e887f9brow18_col0{\n",
       "            background-color:  #536edd;\n",
       "            color:  #000000;\n",
       "        }#T_90dfc35f_0b8b_11ec_a07a_e0d55e887f9brow3_col8,#T_90dfc35f_0b8b_11ec_a07a_e0d55e887f9brow9_col2{\n",
       "            background-color:  #4055c8;\n",
       "            color:  #f1f1f1;\n",
       "        }#T_90dfc35f_0b8b_11ec_a07a_e0d55e887f9brow3_col9,#T_90dfc35f_0b8b_11ec_a07a_e0d55e887f9brow3_col10,#T_90dfc35f_0b8b_11ec_a07a_e0d55e887f9brow9_col3,#T_90dfc35f_0b8b_11ec_a07a_e0d55e887f9brow9_col16{\n",
       "            background-color:  #5470de;\n",
       "            color:  #000000;\n",
       "        }#T_90dfc35f_0b8b_11ec_a07a_e0d55e887f9brow3_col11{\n",
       "            background-color:  #f18f71;\n",
       "            color:  #000000;\n",
       "        }#T_90dfc35f_0b8b_11ec_a07a_e0d55e887f9brow3_col12{\n",
       "            background-color:  #e8765c;\n",
       "            color:  #000000;\n",
       "        }#T_90dfc35f_0b8b_11ec_a07a_e0d55e887f9brow3_col13,#T_90dfc35f_0b8b_11ec_a07a_e0d55e887f9brow13_col4{\n",
       "            background-color:  #ccd9ed;\n",
       "            color:  #000000;\n",
       "        }#T_90dfc35f_0b8b_11ec_a07a_e0d55e887f9brow3_col14,#T_90dfc35f_0b8b_11ec_a07a_e0d55e887f9brow9_col1,#T_90dfc35f_0b8b_11ec_a07a_e0d55e887f9brow19_col2{\n",
       "            background-color:  #e0dbd8;\n",
       "            color:  #000000;\n",
       "        }#T_90dfc35f_0b8b_11ec_a07a_e0d55e887f9brow3_col15,#T_90dfc35f_0b8b_11ec_a07a_e0d55e887f9brow5_col11{\n",
       "            background-color:  #ec8165;\n",
       "            color:  #000000;\n",
       "        }#T_90dfc35f_0b8b_11ec_a07a_e0d55e887f9brow3_col16,#T_90dfc35f_0b8b_11ec_a07a_e0d55e887f9brow4_col14{\n",
       "            background-color:  #f7af91;\n",
       "            color:  #000000;\n",
       "        }#T_90dfc35f_0b8b_11ec_a07a_e0d55e887f9brow3_col17{\n",
       "            background-color:  #8badfd;\n",
       "            color:  #000000;\n",
       "        }#T_90dfc35f_0b8b_11ec_a07a_e0d55e887f9brow3_col18,#T_90dfc35f_0b8b_11ec_a07a_e0d55e887f9brow4_col1,#T_90dfc35f_0b8b_11ec_a07a_e0d55e887f9brow4_col18,#T_90dfc35f_0b8b_11ec_a07a_e0d55e887f9brow5_col18{\n",
       "            background-color:  #4358cb;\n",
       "            color:  #f1f1f1;\n",
       "        }#T_90dfc35f_0b8b_11ec_a07a_e0d55e887f9brow3_col19,#T_90dfc35f_0b8b_11ec_a07a_e0d55e887f9brow19_col3{\n",
       "            background-color:  #ef886b;\n",
       "            color:  #000000;\n",
       "        }#T_90dfc35f_0b8b_11ec_a07a_e0d55e887f9brow4_col0,#T_90dfc35f_0b8b_11ec_a07a_e0d55e887f9brow16_col17,#T_90dfc35f_0b8b_11ec_a07a_e0d55e887f9brow17_col6,#T_90dfc35f_0b8b_11ec_a07a_e0d55e887f9brow17_col14,#T_90dfc35f_0b8b_11ec_a07a_e0d55e887f9brow18_col3{\n",
       "            background-color:  #82a6fb;\n",
       "            color:  #000000;\n",
       "        }#T_90dfc35f_0b8b_11ec_a07a_e0d55e887f9brow4_col2,#T_90dfc35f_0b8b_11ec_a07a_e0d55e887f9brow11_col12{\n",
       "            background-color:  #da5a49;\n",
       "            color:  #000000;\n",
       "        }#T_90dfc35f_0b8b_11ec_a07a_e0d55e887f9brow4_col3{\n",
       "            background-color:  #f3c8b2;\n",
       "            color:  #000000;\n",
       "        }#T_90dfc35f_0b8b_11ec_a07a_e0d55e887f9brow4_col5{\n",
       "            background-color:  #f7b396;\n",
       "            color:  #000000;\n",
       "        }#T_90dfc35f_0b8b_11ec_a07a_e0d55e887f9brow4_col6,#T_90dfc35f_0b8b_11ec_a07a_e0d55e887f9brow6_col14,#T_90dfc35f_0b8b_11ec_a07a_e0d55e887f9brow11_col18{\n",
       "            background-color:  #465ecf;\n",
       "            color:  #f1f1f1;\n",
       "        }#T_90dfc35f_0b8b_11ec_a07a_e0d55e887f9brow4_col8,#T_90dfc35f_0b8b_11ec_a07a_e0d55e887f9brow5_col1,#T_90dfc35f_0b8b_11ec_a07a_e0d55e887f9brow16_col6{\n",
       "            background-color:  #4b64d5;\n",
       "            color:  #f1f1f1;\n",
       "        }#T_90dfc35f_0b8b_11ec_a07a_e0d55e887f9brow4_col10,#T_90dfc35f_0b8b_11ec_a07a_e0d55e887f9brow14_col8{\n",
       "            background-color:  #6687ed;\n",
       "            color:  #000000;\n",
       "        }#T_90dfc35f_0b8b_11ec_a07a_e0d55e887f9brow4_col11,#T_90dfc35f_0b8b_11ec_a07a_e0d55e887f9brow7_col10,#T_90dfc35f_0b8b_11ec_a07a_e0d55e887f9brow10_col7,#T_90dfc35f_0b8b_11ec_a07a_e0d55e887f9brow10_col8,#T_90dfc35f_0b8b_11ec_a07a_e0d55e887f9brow11_col4{\n",
       "            background-color:  #a9c6fd;\n",
       "            color:  #000000;\n",
       "        }#T_90dfc35f_0b8b_11ec_a07a_e0d55e887f9brow4_col12{\n",
       "            background-color:  #bad0f8;\n",
       "            color:  #000000;\n",
       "        }#T_90dfc35f_0b8b_11ec_a07a_e0d55e887f9brow4_col13{\n",
       "            background-color:  #d4dbe6;\n",
       "            color:  #000000;\n",
       "        }#T_90dfc35f_0b8b_11ec_a07a_e0d55e887f9brow4_col15,#T_90dfc35f_0b8b_11ec_a07a_e0d55e887f9brow11_col2,#T_90dfc35f_0b8b_11ec_a07a_e0d55e887f9brow12_col4,#T_90dfc35f_0b8b_11ec_a07a_e0d55e887f9brow17_col11{\n",
       "            background-color:  #c3d5f4;\n",
       "            color:  #000000;\n",
       "        }#T_90dfc35f_0b8b_11ec_a07a_e0d55e887f9brow4_col16{\n",
       "            background-color:  #eed0c0;\n",
       "            color:  #000000;\n",
       "        }#T_90dfc35f_0b8b_11ec_a07a_e0d55e887f9brow4_col17,#T_90dfc35f_0b8b_11ec_a07a_e0d55e887f9brow6_col11,#T_90dfc35f_0b8b_11ec_a07a_e0d55e887f9brow9_col18{\n",
       "            background-color:  #5f7fe8;\n",
       "            color:  #000000;\n",
       "        }#T_90dfc35f_0b8b_11ec_a07a_e0d55e887f9brow4_col19{\n",
       "            background-color:  #cdd9ec;\n",
       "            color:  #000000;\n",
       "        }#T_90dfc35f_0b8b_11ec_a07a_e0d55e887f9brow5_col2,#T_90dfc35f_0b8b_11ec_a07a_e0d55e887f9brow5_col4,#T_90dfc35f_0b8b_11ec_a07a_e0d55e887f9brow16_col15{\n",
       "            background-color:  #f7b89c;\n",
       "            color:  #000000;\n",
       "        }#T_90dfc35f_0b8b_11ec_a07a_e0d55e887f9brow5_col3{\n",
       "            background-color:  #cd423b;\n",
       "            color:  #f1f1f1;\n",
       "        }#T_90dfc35f_0b8b_11ec_a07a_e0d55e887f9brow5_col6,#T_90dfc35f_0b8b_11ec_a07a_e0d55e887f9brow6_col3,#T_90dfc35f_0b8b_11ec_a07a_e0d55e887f9brow15_col18{\n",
       "            background-color:  #4c66d6;\n",
       "            color:  #000000;\n",
       "        }#T_90dfc35f_0b8b_11ec_a07a_e0d55e887f9brow5_col8,#T_90dfc35f_0b8b_11ec_a07a_e0d55e887f9brow7_col0,#T_90dfc35f_0b8b_11ec_a07a_e0d55e887f9brow9_col0,#T_90dfc35f_0b8b_11ec_a07a_e0d55e887f9brow10_col0,#T_90dfc35f_0b8b_11ec_a07a_e0d55e887f9brow16_col8{\n",
       "            background-color:  #3c4ec2;\n",
       "            color:  #f1f1f1;\n",
       "        }#T_90dfc35f_0b8b_11ec_a07a_e0d55e887f9brow5_col12,#T_90dfc35f_0b8b_11ec_a07a_e0d55e887f9brow9_col8{\n",
       "            background-color:  #ee8468;\n",
       "            color:  #000000;\n",
       "        }#T_90dfc35f_0b8b_11ec_a07a_e0d55e887f9brow5_col13,#T_90dfc35f_0b8b_11ec_a07a_e0d55e887f9brow13_col5,#T_90dfc35f_0b8b_11ec_a07a_e0d55e887f9brow17_col5{\n",
       "            background-color:  #bfd3f6;\n",
       "            color:  #000000;\n",
       "        }#T_90dfc35f_0b8b_11ec_a07a_e0d55e887f9brow5_col14{\n",
       "            background-color:  #e7d7ce;\n",
       "            color:  #000000;\n",
       "        }#T_90dfc35f_0b8b_11ec_a07a_e0d55e887f9brow5_col15{\n",
       "            background-color:  #e9785d;\n",
       "            color:  #000000;\n",
       "        }#T_90dfc35f_0b8b_11ec_a07a_e0d55e887f9brow5_col16,#T_90dfc35f_0b8b_11ec_a07a_e0d55e887f9brow5_col19,#T_90dfc35f_0b8b_11ec_a07a_e0d55e887f9brow16_col5{\n",
       "            background-color:  #f59f80;\n",
       "            color:  #000000;\n",
       "        }#T_90dfc35f_0b8b_11ec_a07a_e0d55e887f9brow5_col17,#T_90dfc35f_0b8b_11ec_a07a_e0d55e887f9brow19_col7{\n",
       "            background-color:  #89acfd;\n",
       "            color:  #000000;\n",
       "        }#T_90dfc35f_0b8b_11ec_a07a_e0d55e887f9brow6_col0,#T_90dfc35f_0b8b_11ec_a07a_e0d55e887f9brow7_col2,#T_90dfc35f_0b8b_11ec_a07a_e0d55e887f9brow10_col17{\n",
       "            background-color:  #3d50c3;\n",
       "            color:  #f1f1f1;\n",
       "        }#T_90dfc35f_0b8b_11ec_a07a_e0d55e887f9brow6_col1{\n",
       "            background-color:  #f7ba9f;\n",
       "            color:  #000000;\n",
       "        }#T_90dfc35f_0b8b_11ec_a07a_e0d55e887f9brow6_col2,#T_90dfc35f_0b8b_11ec_a07a_e0d55e887f9brow19_col10{\n",
       "            background-color:  #3e51c5;\n",
       "            color:  #f1f1f1;\n",
       "        }#T_90dfc35f_0b8b_11ec_a07a_e0d55e887f9brow6_col7,#T_90dfc35f_0b8b_11ec_a07a_e0d55e887f9brow7_col6,#T_90dfc35f_0b8b_11ec_a07a_e0d55e887f9brow12_col3{\n",
       "            background-color:  #e57058;\n",
       "            color:  #000000;\n",
       "        }#T_90dfc35f_0b8b_11ec_a07a_e0d55e887f9brow6_col8,#T_90dfc35f_0b8b_11ec_a07a_e0d55e887f9brow8_col6,#T_90dfc35f_0b8b_11ec_a07a_e0d55e887f9brow11_col5{\n",
       "            background-color:  #eb7d62;\n",
       "            color:  #000000;\n",
       "        }#T_90dfc35f_0b8b_11ec_a07a_e0d55e887f9brow6_col9,#T_90dfc35f_0b8b_11ec_a07a_e0d55e887f9brow19_col5{\n",
       "            background-color:  #f59d7e;\n",
       "            color:  #000000;\n",
       "        }#T_90dfc35f_0b8b_11ec_a07a_e0d55e887f9brow6_col10{\n",
       "            background-color:  #b3cdfb;\n",
       "            color:  #000000;\n",
       "        }#T_90dfc35f_0b8b_11ec_a07a_e0d55e887f9brow6_col15,#T_90dfc35f_0b8b_11ec_a07a_e0d55e887f9brow12_col8{\n",
       "            background-color:  #5d7ce6;\n",
       "            color:  #000000;\n",
       "        }#T_90dfc35f_0b8b_11ec_a07a_e0d55e887f9brow6_col17,#T_90dfc35f_0b8b_11ec_a07a_e0d55e887f9brow7_col17{\n",
       "            background-color:  #445acc;\n",
       "            color:  #f1f1f1;\n",
       "        }#T_90dfc35f_0b8b_11ec_a07a_e0d55e887f9brow6_col19{\n",
       "            background-color:  #7a9df8;\n",
       "            color:  #000000;\n",
       "        }#T_90dfc35f_0b8b_11ec_a07a_e0d55e887f9brow7_col1,#T_90dfc35f_0b8b_11ec_a07a_e0d55e887f9brow12_col13,#T_90dfc35f_0b8b_11ec_a07a_e0d55e887f9brow15_col14{\n",
       "            background-color:  #ecd3c5;\n",
       "            color:  #000000;\n",
       "        }#T_90dfc35f_0b8b_11ec_a07a_e0d55e887f9brow7_col5{\n",
       "            background-color:  #516ddb;\n",
       "            color:  #000000;\n",
       "        }#T_90dfc35f_0b8b_11ec_a07a_e0d55e887f9brow7_col8,#T_90dfc35f_0b8b_11ec_a07a_e0d55e887f9brow8_col7{\n",
       "            background-color:  #d24b40;\n",
       "            color:  #f1f1f1;\n",
       "        }#T_90dfc35f_0b8b_11ec_a07a_e0d55e887f9brow7_col9,#T_90dfc35f_0b8b_11ec_a07a_e0d55e887f9brow9_col7{\n",
       "            background-color:  #dc5d4a;\n",
       "            color:  #000000;\n",
       "        }#T_90dfc35f_0b8b_11ec_a07a_e0d55e887f9brow7_col13,#T_90dfc35f_0b8b_11ec_a07a_e0d55e887f9brow12_col17{\n",
       "            background-color:  #97b8ff;\n",
       "            color:  #000000;\n",
       "        }#T_90dfc35f_0b8b_11ec_a07a_e0d55e887f9brow7_col14,#T_90dfc35f_0b8b_11ec_a07a_e0d55e887f9brow11_col8{\n",
       "            background-color:  #4a63d3;\n",
       "            color:  #f1f1f1;\n",
       "        }#T_90dfc35f_0b8b_11ec_a07a_e0d55e887f9brow7_col15,#T_90dfc35f_0b8b_11ec_a07a_e0d55e887f9brow8_col19{\n",
       "            background-color:  #6384eb;\n",
       "            color:  #000000;\n",
       "        }#T_90dfc35f_0b8b_11ec_a07a_e0d55e887f9brow7_col18,#T_90dfc35f_0b8b_11ec_a07a_e0d55e887f9brow9_col14{\n",
       "            background-color:  #6180e9;\n",
       "            color:  #000000;\n",
       "        }#T_90dfc35f_0b8b_11ec_a07a_e0d55e887f9brow8_col1,#T_90dfc35f_0b8b_11ec_a07a_e0d55e887f9brow13_col2,#T_90dfc35f_0b8b_11ec_a07a_e0d55e887f9brow13_col12{\n",
       "            background-color:  #e2dad5;\n",
       "            color:  #000000;\n",
       "        }#T_90dfc35f_0b8b_11ec_a07a_e0d55e887f9brow8_col9,#T_90dfc35f_0b8b_11ec_a07a_e0d55e887f9brow11_col19{\n",
       "            background-color:  #ee8669;\n",
       "            color:  #000000;\n",
       "        }#T_90dfc35f_0b8b_11ec_a07a_e0d55e887f9brow8_col10,#T_90dfc35f_0b8b_11ec_a07a_e0d55e887f9brow13_col11{\n",
       "            background-color:  #a6c4fe;\n",
       "            color:  #000000;\n",
       "        }#T_90dfc35f_0b8b_11ec_a07a_e0d55e887f9brow8_col12{\n",
       "            background-color:  #3f53c6;\n",
       "            color:  #f1f1f1;\n",
       "        }#T_90dfc35f_0b8b_11ec_a07a_e0d55e887f9brow8_col13{\n",
       "            background-color:  #8caffe;\n",
       "            color:  #000000;\n",
       "        }#T_90dfc35f_0b8b_11ec_a07a_e0d55e887f9brow8_col18,#T_90dfc35f_0b8b_11ec_a07a_e0d55e887f9brow15_col1,#T_90dfc35f_0b8b_11ec_a07a_e0d55e887f9brow17_col0{\n",
       "            background-color:  #6282ea;\n",
       "            color:  #000000;\n",
       "        }#T_90dfc35f_0b8b_11ec_a07a_e0d55e887f9brow9_col4{\n",
       "            background-color:  #455cce;\n",
       "            color:  #f1f1f1;\n",
       "        }#T_90dfc35f_0b8b_11ec_a07a_e0d55e887f9brow9_col6{\n",
       "            background-color:  #f59c7d;\n",
       "            color:  #000000;\n",
       "        }#T_90dfc35f_0b8b_11ec_a07a_e0d55e887f9brow9_col13{\n",
       "            background-color:  #94b6ff;\n",
       "            color:  #000000;\n",
       "        }#T_90dfc35f_0b8b_11ec_a07a_e0d55e887f9brow10_col1,#T_90dfc35f_0b8b_11ec_a07a_e0d55e887f9brow18_col19{\n",
       "            background-color:  #8db0fe;\n",
       "            color:  #000000;\n",
       "        }#T_90dfc35f_0b8b_11ec_a07a_e0d55e887f9brow10_col2,#T_90dfc35f_0b8b_11ec_a07a_e0d55e887f9brow17_col18{\n",
       "            background-color:  #5875e1;\n",
       "            color:  #000000;\n",
       "        }#T_90dfc35f_0b8b_11ec_a07a_e0d55e887f9brow10_col6{\n",
       "            background-color:  #b2ccfb;\n",
       "            color:  #000000;\n",
       "        }#T_90dfc35f_0b8b_11ec_a07a_e0d55e887f9brow10_col11,#T_90dfc35f_0b8b_11ec_a07a_e0d55e887f9brow15_col0,#T_90dfc35f_0b8b_11ec_a07a_e0d55e887f9brow19_col1{\n",
       "            background-color:  #6f92f3;\n",
       "            color:  #000000;\n",
       "        }#T_90dfc35f_0b8b_11ec_a07a_e0d55e887f9brow10_col16,#T_90dfc35f_0b8b_11ec_a07a_e0d55e887f9brow11_col6,#T_90dfc35f_0b8b_11ec_a07a_e0d55e887f9brow16_col10,#T_90dfc35f_0b8b_11ec_a07a_e0d55e887f9brow18_col14{\n",
       "            background-color:  #6b8df0;\n",
       "            color:  #000000;\n",
       "        }#T_90dfc35f_0b8b_11ec_a07a_e0d55e887f9brow11_col0,#T_90dfc35f_0b8b_11ec_a07a_e0d55e887f9brow14_col6,#T_90dfc35f_0b8b_11ec_a07a_e0d55e887f9brow15_col10,#T_90dfc35f_0b8b_11ec_a07a_e0d55e887f9brow17_col1{\n",
       "            background-color:  #6e90f2;\n",
       "            color:  #000000;\n",
       "        }#T_90dfc35f_0b8b_11ec_a07a_e0d55e887f9brow11_col1,#T_90dfc35f_0b8b_11ec_a07a_e0d55e887f9brow14_col1{\n",
       "            background-color:  #5e7de7;\n",
       "            color:  #000000;\n",
       "        }#T_90dfc35f_0b8b_11ec_a07a_e0d55e887f9brow11_col3{\n",
       "            background-color:  #f08b6e;\n",
       "            color:  #000000;\n",
       "        }#T_90dfc35f_0b8b_11ec_a07a_e0d55e887f9brow11_col7,#T_90dfc35f_0b8b_11ec_a07a_e0d55e887f9brow12_col0,#T_90dfc35f_0b8b_11ec_a07a_e0d55e887f9brow19_col0{\n",
       "            background-color:  #7295f4;\n",
       "            color:  #000000;\n",
       "        }#T_90dfc35f_0b8b_11ec_a07a_e0d55e887f9brow11_col9,#T_90dfc35f_0b8b_11ec_a07a_e0d55e887f9brow15_col6{\n",
       "            background-color:  #7093f3;\n",
       "            color:  #000000;\n",
       "        }#T_90dfc35f_0b8b_11ec_a07a_e0d55e887f9brow11_col10,#T_90dfc35f_0b8b_11ec_a07a_e0d55e887f9brow16_col0,#T_90dfc35f_0b8b_11ec_a07a_e0d55e887f9brow18_col15,#T_90dfc35f_0b8b_11ec_a07a_e0d55e887f9brow19_col6{\n",
       "            background-color:  #7b9ff9;\n",
       "            color:  #000000;\n",
       "        }#T_90dfc35f_0b8b_11ec_a07a_e0d55e887f9brow11_col13{\n",
       "            background-color:  #afcafc;\n",
       "            color:  #000000;\n",
       "        }#T_90dfc35f_0b8b_11ec_a07a_e0d55e887f9brow11_col14{\n",
       "            background-color:  #b7cff9;\n",
       "            color:  #000000;\n",
       "        }#T_90dfc35f_0b8b_11ec_a07a_e0d55e887f9brow11_col15,#T_90dfc35f_0b8b_11ec_a07a_e0d55e887f9brow15_col11{\n",
       "            background-color:  #cf453c;\n",
       "            color:  #f1f1f1;\n",
       "        }#T_90dfc35f_0b8b_11ec_a07a_e0d55e887f9brow11_col16{\n",
       "            background-color:  #f6bda2;\n",
       "            color:  #000000;\n",
       "        }#T_90dfc35f_0b8b_11ec_a07a_e0d55e887f9brow11_col17,#T_90dfc35f_0b8b_11ec_a07a_e0d55e887f9brow18_col9{\n",
       "            background-color:  #9dbdff;\n",
       "            color:  #000000;\n",
       "        }#T_90dfc35f_0b8b_11ec_a07a_e0d55e887f9brow12_col2{\n",
       "            background-color:  #dadce0;\n",
       "            color:  #000000;\n",
       "        }#T_90dfc35f_0b8b_11ec_a07a_e0d55e887f9brow12_col5,#T_90dfc35f_0b8b_11ec_a07a_e0d55e887f9brow15_col3{\n",
       "            background-color:  #ea7b60;\n",
       "            color:  #000000;\n",
       "        }#T_90dfc35f_0b8b_11ec_a07a_e0d55e887f9brow12_col7,#T_90dfc35f_0b8b_11ec_a07a_e0d55e887f9brow12_col9{\n",
       "            background-color:  #7ea1fa;\n",
       "            color:  #000000;\n",
       "        }#T_90dfc35f_0b8b_11ec_a07a_e0d55e887f9brow12_col11{\n",
       "            background-color:  #d95847;\n",
       "            color:  #000000;\n",
       "        }#T_90dfc35f_0b8b_11ec_a07a_e0d55e887f9brow12_col14{\n",
       "            background-color:  #e5d8d1;\n",
       "            color:  #000000;\n",
       "        }#T_90dfc35f_0b8b_11ec_a07a_e0d55e887f9brow12_col15,#T_90dfc35f_0b8b_11ec_a07a_e0d55e887f9brow15_col12{\n",
       "            background-color:  #c43032;\n",
       "            color:  #f1f1f1;\n",
       "        }#T_90dfc35f_0b8b_11ec_a07a_e0d55e887f9brow12_col19,#T_90dfc35f_0b8b_11ec_a07a_e0d55e887f9brow19_col12{\n",
       "            background-color:  #be242e;\n",
       "            color:  #f1f1f1;\n",
       "        }#T_90dfc35f_0b8b_11ec_a07a_e0d55e887f9brow13_col3{\n",
       "            background-color:  #cad8ef;\n",
       "            color:  #000000;\n",
       "        }#T_90dfc35f_0b8b_11ec_a07a_e0d55e887f9brow13_col6,#T_90dfc35f_0b8b_11ec_a07a_e0d55e887f9brow17_col4{\n",
       "            background-color:  #90b2fe;\n",
       "            color:  #000000;\n",
       "        }#T_90dfc35f_0b8b_11ec_a07a_e0d55e887f9brow13_col7,#T_90dfc35f_0b8b_11ec_a07a_e0d55e887f9brow15_col17{\n",
       "            background-color:  #96b7ff;\n",
       "            color:  #000000;\n",
       "        }#T_90dfc35f_0b8b_11ec_a07a_e0d55e887f9brow13_col15{\n",
       "            background-color:  #e3d9d3;\n",
       "            color:  #000000;\n",
       "        }#T_90dfc35f_0b8b_11ec_a07a_e0d55e887f9brow13_col16,#T_90dfc35f_0b8b_11ec_a07a_e0d55e887f9brow16_col13{\n",
       "            background-color:  #c5d6f2;\n",
       "            color:  #000000;\n",
       "        }#T_90dfc35f_0b8b_11ec_a07a_e0d55e887f9brow13_col19{\n",
       "            background-color:  #f7b599;\n",
       "            color:  #000000;\n",
       "        }#T_90dfc35f_0b8b_11ec_a07a_e0d55e887f9brow14_col2{\n",
       "            background-color:  #f7aa8c;\n",
       "            color:  #000000;\n",
       "        }#T_90dfc35f_0b8b_11ec_a07a_e0d55e887f9brow14_col3{\n",
       "            background-color:  #edd1c2;\n",
       "            color:  #000000;\n",
       "        }#T_90dfc35f_0b8b_11ec_a07a_e0d55e887f9brow14_col4{\n",
       "            background-color:  #f6a586;\n",
       "            color:  #000000;\n",
       "        }#T_90dfc35f_0b8b_11ec_a07a_e0d55e887f9brow14_col9,#T_90dfc35f_0b8b_11ec_a07a_e0d55e887f9brow17_col9{\n",
       "            background-color:  #85a8fc;\n",
       "            color:  #000000;\n",
       "        }#T_90dfc35f_0b8b_11ec_a07a_e0d55e887f9brow14_col11{\n",
       "            background-color:  #c9d7f0;\n",
       "            color:  #000000;\n",
       "        }#T_90dfc35f_0b8b_11ec_a07a_e0d55e887f9brow14_col12,#T_90dfc35f_0b8b_11ec_a07a_e0d55e887f9brow16_col4{\n",
       "            background-color:  #ead4c8;\n",
       "            color:  #000000;\n",
       "        }#T_90dfc35f_0b8b_11ec_a07a_e0d55e887f9brow14_col13{\n",
       "            background-color:  #f7a889;\n",
       "            color:  #000000;\n",
       "        }#T_90dfc35f_0b8b_11ec_a07a_e0d55e887f9brow14_col16{\n",
       "            background-color:  #e9d5cb;\n",
       "            color:  #000000;\n",
       "        }#T_90dfc35f_0b8b_11ec_a07a_e0d55e887f9brow14_col19{\n",
       "            background-color:  #f6bfa6;\n",
       "            color:  #000000;\n",
       "        }#T_90dfc35f_0b8b_11ec_a07a_e0d55e887f9brow15_col2{\n",
       "            background-color:  #dfdbd9;\n",
       "            color:  #000000;\n",
       "        }#T_90dfc35f_0b8b_11ec_a07a_e0d55e887f9brow15_col4,#T_90dfc35f_0b8b_11ec_a07a_e0d55e887f9brow19_col4{\n",
       "            background-color:  #c7d7f0;\n",
       "            color:  #000000;\n",
       "        }#T_90dfc35f_0b8b_11ec_a07a_e0d55e887f9brow15_col5{\n",
       "            background-color:  #e67259;\n",
       "            color:  #000000;\n",
       "        }#T_90dfc35f_0b8b_11ec_a07a_e0d55e887f9brow15_col13{\n",
       "            background-color:  #ebd3c6;\n",
       "            color:  #000000;\n",
       "        }#T_90dfc35f_0b8b_11ec_a07a_e0d55e887f9brow15_col16{\n",
       "            background-color:  #f7b093;\n",
       "            color:  #000000;\n",
       "        }#T_90dfc35f_0b8b_11ec_a07a_e0d55e887f9brow15_col19{\n",
       "            background-color:  #d55042;\n",
       "            color:  #000000;\n",
       "        }#T_90dfc35f_0b8b_11ec_a07a_e0d55e887f9brow16_col11,#T_90dfc35f_0b8b_11ec_a07a_e0d55e887f9brow16_col12{\n",
       "            background-color:  #f5c1a9;\n",
       "            color:  #000000;\n",
       "        }#T_90dfc35f_0b8b_11ec_a07a_e0d55e887f9brow16_col14{\n",
       "            background-color:  #d7dce3;\n",
       "            color:  #000000;\n",
       "        }#T_90dfc35f_0b8b_11ec_a07a_e0d55e887f9brow16_col18{\n",
       "            background-color:  #4257c9;\n",
       "            color:  #f1f1f1;\n",
       "        }#T_90dfc35f_0b8b_11ec_a07a_e0d55e887f9brow16_col19{\n",
       "            background-color:  #f4c5ad;\n",
       "            color:  #000000;\n",
       "        }#T_90dfc35f_0b8b_11ec_a07a_e0d55e887f9brow17_col3{\n",
       "            background-color:  #bcd2f7;\n",
       "            color:  #000000;\n",
       "        }#T_90dfc35f_0b8b_11ec_a07a_e0d55e887f9brow17_col7,#T_90dfc35f_0b8b_11ec_a07a_e0d55e887f9brow18_col1{\n",
       "            background-color:  #84a7fc;\n",
       "            color:  #000000;\n",
       "        }#T_90dfc35f_0b8b_11ec_a07a_e0d55e887f9brow17_col8,#T_90dfc35f_0b8b_11ec_a07a_e0d55e887f9brow17_col10,#T_90dfc35f_0b8b_11ec_a07a_e0d55e887f9brow18_col11{\n",
       "            background-color:  #7da0f9;\n",
       "            color:  #000000;\n",
       "        }#T_90dfc35f_0b8b_11ec_a07a_e0d55e887f9brow17_col12{\n",
       "            background-color:  #b6cefa;\n",
       "            color:  #000000;\n",
       "        }#T_90dfc35f_0b8b_11ec_a07a_e0d55e887f9brow17_col13{\n",
       "            background-color:  #a1c0ff;\n",
       "            color:  #000000;\n",
       "        }#T_90dfc35f_0b8b_11ec_a07a_e0d55e887f9brow17_col19{\n",
       "            background-color:  #c0d4f5;\n",
       "            color:  #000000;\n",
       "        }#T_90dfc35f_0b8b_11ec_a07a_e0d55e887f9brow18_col2{\n",
       "            background-color:  #81a4fb;\n",
       "            color:  #000000;\n",
       "        }#T_90dfc35f_0b8b_11ec_a07a_e0d55e887f9brow18_col4{\n",
       "            background-color:  #799cf8;\n",
       "            color:  #000000;\n",
       "        }#T_90dfc35f_0b8b_11ec_a07a_e0d55e887f9brow18_col7{\n",
       "            background-color:  #9fbfff;\n",
       "            color:  #000000;\n",
       "        }#T_90dfc35f_0b8b_11ec_a07a_e0d55e887f9brow18_col10,#T_90dfc35f_0b8b_11ec_a07a_e0d55e887f9brow18_col13{\n",
       "            background-color:  #9abbff;\n",
       "            color:  #000000;\n",
       "        }#T_90dfc35f_0b8b_11ec_a07a_e0d55e887f9brow18_col17{\n",
       "            background-color:  #5a78e4;\n",
       "            color:  #000000;\n",
       "        }#T_90dfc35f_0b8b_11ec_a07a_e0d55e887f9brow19_col11{\n",
       "            background-color:  #f08a6c;\n",
       "            color:  #000000;\n",
       "        }#T_90dfc35f_0b8b_11ec_a07a_e0d55e887f9brow19_col15{\n",
       "            background-color:  #d75445;\n",
       "            color:  #000000;\n",
       "        }#T_90dfc35f_0b8b_11ec_a07a_e0d55e887f9brow19_col16{\n",
       "            background-color:  #f5c2aa;\n",
       "            color:  #000000;\n",
       "        }</style><table id=\"T_90dfc35f_0b8b_11ec_a07a_e0d55e887f9b\" ><thead>    <tr>        <th class=\"blank level0\" ></th>        <th class=\"col_heading level0 col0\" >Potential_Customer</th>        <th class=\"col_heading level0 col1\" >Cust_Last_Purchase</th>        <th class=\"col_heading level0 col2\" >Pur_3_years</th>        <th class=\"col_heading level0 col3\" >Pur_5_years</th>        <th class=\"col_heading level0 col4\" >Pur_3_years_Indirect</th>        <th class=\"col_heading level0 col5\" >Pur_5_years_Indirect</th>        <th class=\"col_heading level0 col6\" >Pur_latest</th>        <th class=\"col_heading level0 col7\" >Pur_3_years_Avg</th>        <th class=\"col_heading level0 col8\" >Pur_5_years_Avg</th>        <th class=\"col_heading level0 col9\" >Pur_3_years_Avg_Indirect</th>        <th class=\"col_heading level0 col10\" >InAct_Last</th>        <th class=\"col_heading level0 col11\" >InAct_First</th>        <th class=\"col_heading level0 col12\" >Ad_Res_5_Year</th>        <th class=\"col_heading level0 col13\" >Ad_Res_Ind_1_Year</th>        <th class=\"col_heading level0 col14\" >Ad_Res_Ind_3_Year</th>        <th class=\"col_heading level0 col15\" >Ad_Res_Ind_5_Year</th>        <th class=\"col_heading level0 col16\" >Status_Latest_Ad</th>        <th class=\"col_heading level0 col17\" >Age</th>        <th class=\"col_heading level0 col18\" >Cust_Ann_Income</th>        <th class=\"col_heading level0 col19\" >Ad_Res_Avg</th>    </tr></thead><tbody>\n",
       "                <tr>\n",
       "                        <th id=\"T_90dfc35f_0b8b_11ec_a07a_e0d55e887f9blevel0_row0\" class=\"row_heading level0 row0\" >Potential_Customer</th>\n",
       "                        <td id=\"T_90dfc35f_0b8b_11ec_a07a_e0d55e887f9brow0_col0\" class=\"data row0 col0\" >1.000000</td>\n",
       "                        <td id=\"T_90dfc35f_0b8b_11ec_a07a_e0d55e887f9brow0_col1\" class=\"data row0 col1\" >-0.000140</td>\n",
       "                        <td id=\"T_90dfc35f_0b8b_11ec_a07a_e0d55e887f9brow0_col2\" class=\"data row0 col2\" >0.147106</td>\n",
       "                        <td id=\"T_90dfc35f_0b8b_11ec_a07a_e0d55e887f9brow0_col3\" class=\"data row0 col3\" >0.097972</td>\n",
       "                        <td id=\"T_90dfc35f_0b8b_11ec_a07a_e0d55e887f9brow0_col4\" class=\"data row0 col4\" >0.135133</td>\n",
       "                        <td id=\"T_90dfc35f_0b8b_11ec_a07a_e0d55e887f9brow0_col5\" class=\"data row0 col5\" >0.098305</td>\n",
       "                        <td id=\"T_90dfc35f_0b8b_11ec_a07a_e0d55e887f9brow0_col6\" class=\"data row0 col6\" >-0.101008</td>\n",
       "                        <td id=\"T_90dfc35f_0b8b_11ec_a07a_e0d55e887f9brow0_col7\" class=\"data row0 col7\" >-0.103504</td>\n",
       "                        <td id=\"T_90dfc35f_0b8b_11ec_a07a_e0d55e887f9brow0_col8\" class=\"data row0 col8\" >-0.111500</td>\n",
       "                        <td id=\"T_90dfc35f_0b8b_11ec_a07a_e0d55e887f9brow0_col9\" class=\"data row0 col9\" >-0.103976</td>\n",
       "                        <td id=\"T_90dfc35f_0b8b_11ec_a07a_e0d55e887f9brow0_col10\" class=\"data row0 col10\" >-0.103023</td>\n",
       "                        <td id=\"T_90dfc35f_0b8b_11ec_a07a_e0d55e887f9brow0_col11\" class=\"data row0 col11\" >0.070813</td>\n",
       "                        <td id=\"T_90dfc35f_0b8b_11ec_a07a_e0d55e887f9brow0_col12\" class=\"data row0 col12\" >0.080109</td>\n",
       "                        <td id=\"T_90dfc35f_0b8b_11ec_a07a_e0d55e887f9brow0_col13\" class=\"data row0 col13\" >0.063209</td>\n",
       "                        <td id=\"T_90dfc35f_0b8b_11ec_a07a_e0d55e887f9brow0_col14\" class=\"data row0 col14\" >0.097746</td>\n",
       "                        <td id=\"T_90dfc35f_0b8b_11ec_a07a_e0d55e887f9brow0_col15\" class=\"data row0 col15\" >0.073056</td>\n",
       "                        <td id=\"T_90dfc35f_0b8b_11ec_a07a_e0d55e887f9brow0_col16\" class=\"data row0 col16\" >0.110590</td>\n",
       "                        <td id=\"T_90dfc35f_0b8b_11ec_a07a_e0d55e887f9brow0_col17\" class=\"data row0 col17\" >0.030832</td>\n",
       "                        <td id=\"T_90dfc35f_0b8b_11ec_a07a_e0d55e887f9brow0_col18\" class=\"data row0 col18\" >-0.021580</td>\n",
       "                        <td id=\"T_90dfc35f_0b8b_11ec_a07a_e0d55e887f9brow0_col19\" class=\"data row0 col19\" >0.083545</td>\n",
       "            </tr>\n",
       "            <tr>\n",
       "                        <th id=\"T_90dfc35f_0b8b_11ec_a07a_e0d55e887f9blevel0_row1\" class=\"row_heading level0 row1\" >Cust_Last_Purchase</th>\n",
       "                        <td id=\"T_90dfc35f_0b8b_11ec_a07a_e0d55e887f9brow1_col0\" class=\"data row1 col0\" >-0.000140</td>\n",
       "                        <td id=\"T_90dfc35f_0b8b_11ec_a07a_e0d55e887f9brow1_col1\" class=\"data row1 col1\" >1.000000</td>\n",
       "                        <td id=\"T_90dfc35f_0b8b_11ec_a07a_e0d55e887f9brow1_col2\" class=\"data row1 col2\" >-0.235124</td>\n",
       "                        <td id=\"T_90dfc35f_0b8b_11ec_a07a_e0d55e887f9brow1_col3\" class=\"data row1 col3\" >-0.150867</td>\n",
       "                        <td id=\"T_90dfc35f_0b8b_11ec_a07a_e0d55e887f9brow1_col4\" class=\"data row1 col4\" >-0.200877</td>\n",
       "                        <td id=\"T_90dfc35f_0b8b_11ec_a07a_e0d55e887f9brow1_col5\" class=\"data row1 col5\" >-0.166534</td>\n",
       "                        <td id=\"T_90dfc35f_0b8b_11ec_a07a_e0d55e887f9brow1_col6\" class=\"data row1 col6\" >0.577057</td>\n",
       "                        <td id=\"T_90dfc35f_0b8b_11ec_a07a_e0d55e887f9brow1_col7\" class=\"data row1 col7\" >0.462304</td>\n",
       "                        <td id=\"T_90dfc35f_0b8b_11ec_a07a_e0d55e887f9brow1_col8\" class=\"data row1 col8\" >0.411139</td>\n",
       "                        <td id=\"T_90dfc35f_0b8b_11ec_a07a_e0d55e887f9brow1_col9\" class=\"data row1 col9\" >0.399381</td>\n",
       "                        <td id=\"T_90dfc35f_0b8b_11ec_a07a_e0d55e887f9brow1_col10\" class=\"data row1 col10\" >0.077839</td>\n",
       "                        <td id=\"T_90dfc35f_0b8b_11ec_a07a_e0d55e887f9brow1_col11\" class=\"data row1 col11\" >-0.091641</td>\n",
       "                        <td id=\"T_90dfc35f_0b8b_11ec_a07a_e0d55e887f9brow1_col12\" class=\"data row1 col12\" >-0.053682</td>\n",
       "                        <td id=\"T_90dfc35f_0b8b_11ec_a07a_e0d55e887f9brow1_col13\" class=\"data row1 col13\" >-0.001057</td>\n",
       "                        <td id=\"T_90dfc35f_0b8b_11ec_a07a_e0d55e887f9brow1_col14\" class=\"data row1 col14\" >-0.092784</td>\n",
       "                        <td id=\"T_90dfc35f_0b8b_11ec_a07a_e0d55e887f9brow1_col15\" class=\"data row1 col15\" >-0.077327</td>\n",
       "                        <td id=\"T_90dfc35f_0b8b_11ec_a07a_e0d55e887f9brow1_col16\" class=\"data row1 col16\" >-0.155911</td>\n",
       "                        <td id=\"T_90dfc35f_0b8b_11ec_a07a_e0d55e887f9brow1_col17\" class=\"data row1 col17\" >-0.036238</td>\n",
       "                        <td id=\"T_90dfc35f_0b8b_11ec_a07a_e0d55e887f9brow1_col18\" class=\"data row1 col18\" >0.042605</td>\n",
       "                        <td id=\"T_90dfc35f_0b8b_11ec_a07a_e0d55e887f9brow1_col19\" class=\"data row1 col19\" >-0.028625</td>\n",
       "            </tr>\n",
       "            <tr>\n",
       "                        <th id=\"T_90dfc35f_0b8b_11ec_a07a_e0d55e887f9blevel0_row2\" class=\"row_heading level0 row2\" >Pur_3_years</th>\n",
       "                        <td id=\"T_90dfc35f_0b8b_11ec_a07a_e0d55e887f9brow2_col0\" class=\"data row2 col0\" >0.147106</td>\n",
       "                        <td id=\"T_90dfc35f_0b8b_11ec_a07a_e0d55e887f9brow2_col1\" class=\"data row2 col1\" >-0.235124</td>\n",
       "                        <td id=\"T_90dfc35f_0b8b_11ec_a07a_e0d55e887f9brow2_col2\" class=\"data row2 col2\" >1.000000</td>\n",
       "                        <td id=\"T_90dfc35f_0b8b_11ec_a07a_e0d55e887f9brow2_col3\" class=\"data row2 col3\" >0.557350</td>\n",
       "                        <td id=\"T_90dfc35f_0b8b_11ec_a07a_e0d55e887f9brow2_col4\" class=\"data row2 col4\" >0.842210</td>\n",
       "                        <td id=\"T_90dfc35f_0b8b_11ec_a07a_e0d55e887f9brow2_col5\" class=\"data row2 col5\" >0.540581</td>\n",
       "                        <td id=\"T_90dfc35f_0b8b_11ec_a07a_e0d55e887f9brow2_col6\" class=\"data row2 col6\" >-0.349252</td>\n",
       "                        <td id=\"T_90dfc35f_0b8b_11ec_a07a_e0d55e887f9brow2_col7\" class=\"data row2 col7\" >-0.355583</td>\n",
       "                        <td id=\"T_90dfc35f_0b8b_11ec_a07a_e0d55e887f9brow2_col8\" class=\"data row2 col8\" >-0.369803</td>\n",
       "                        <td id=\"T_90dfc35f_0b8b_11ec_a07a_e0d55e887f9brow2_col9\" class=\"data row2 col9\" >-0.342964</td>\n",
       "                        <td id=\"T_90dfc35f_0b8b_11ec_a07a_e0d55e887f9brow2_col10\" class=\"data row2 col10\" >-0.237964</td>\n",
       "                        <td id=\"T_90dfc35f_0b8b_11ec_a07a_e0d55e887f9brow2_col11\" class=\"data row2 col11\" >0.190738</td>\n",
       "                        <td id=\"T_90dfc35f_0b8b_11ec_a07a_e0d55e887f9brow2_col12\" class=\"data row2 col12\" >0.301513</td>\n",
       "                        <td id=\"T_90dfc35f_0b8b_11ec_a07a_e0d55e887f9brow2_col13\" class=\"data row2 col13\" >0.344823</td>\n",
       "                        <td id=\"T_90dfc35f_0b8b_11ec_a07a_e0d55e887f9brow2_col14\" class=\"data row2 col14\" >0.593459</td>\n",
       "                        <td id=\"T_90dfc35f_0b8b_11ec_a07a_e0d55e887f9brow2_col15\" class=\"data row2 col15\" >0.330041</td>\n",
       "                        <td id=\"T_90dfc35f_0b8b_11ec_a07a_e0d55e887f9brow2_col16\" class=\"data row2 col16\" >0.456353</td>\n",
       "                        <td id=\"T_90dfc35f_0b8b_11ec_a07a_e0d55e887f9brow2_col17\" class=\"data row2 col17\" >0.061601</td>\n",
       "                        <td id=\"T_90dfc35f_0b8b_11ec_a07a_e0d55e887f9brow2_col18\" class=\"data row2 col18\" >-0.074388</td>\n",
       "                        <td id=\"T_90dfc35f_0b8b_11ec_a07a_e0d55e887f9brow2_col19\" class=\"data row2 col19\" >0.335822</td>\n",
       "            </tr>\n",
       "            <tr>\n",
       "                        <th id=\"T_90dfc35f_0b8b_11ec_a07a_e0d55e887f9blevel0_row3\" class=\"row_heading level0 row3\" >Pur_5_years</th>\n",
       "                        <td id=\"T_90dfc35f_0b8b_11ec_a07a_e0d55e887f9brow3_col0\" class=\"data row3 col0\" >0.097972</td>\n",
       "                        <td id=\"T_90dfc35f_0b8b_11ec_a07a_e0d55e887f9brow3_col1\" class=\"data row3 col1\" >-0.150867</td>\n",
       "                        <td id=\"T_90dfc35f_0b8b_11ec_a07a_e0d55e887f9brow3_col2\" class=\"data row3 col2\" >0.557350</td>\n",
       "                        <td id=\"T_90dfc35f_0b8b_11ec_a07a_e0d55e887f9brow3_col3\" class=\"data row3 col3\" >1.000000</td>\n",
       "                        <td id=\"T_90dfc35f_0b8b_11ec_a07a_e0d55e887f9brow3_col4\" class=\"data row3 col4\" >0.478441</td>\n",
       "                        <td id=\"T_90dfc35f_0b8b_11ec_a07a_e0d55e887f9brow3_col5\" class=\"data row3 col5\" >0.905120</td>\n",
       "                        <td id=\"T_90dfc35f_0b8b_11ec_a07a_e0d55e887f9brow3_col6\" class=\"data row3 col6\" >-0.260562</td>\n",
       "                        <td id=\"T_90dfc35f_0b8b_11ec_a07a_e0d55e887f9brow3_col7\" class=\"data row3 col7\" >-0.248276</td>\n",
       "                        <td id=\"T_90dfc35f_0b8b_11ec_a07a_e0d55e887f9brow3_col8\" class=\"data row3 col8\" >-0.339597</td>\n",
       "                        <td id=\"T_90dfc35f_0b8b_11ec_a07a_e0d55e887f9brow3_col9\" class=\"data row3 col9\" >-0.227943</td>\n",
       "                        <td id=\"T_90dfc35f_0b8b_11ec_a07a_e0d55e887f9brow3_col10\" class=\"data row3 col10\" >-0.241410</td>\n",
       "                        <td id=\"T_90dfc35f_0b8b_11ec_a07a_e0d55e887f9brow3_col11\" class=\"data row3 col11\" >0.709486</td>\n",
       "                        <td id=\"T_90dfc35f_0b8b_11ec_a07a_e0d55e887f9brow3_col12\" class=\"data row3 col12\" >0.790215</td>\n",
       "                        <td id=\"T_90dfc35f_0b8b_11ec_a07a_e0d55e887f9brow3_col13\" class=\"data row3 col13\" >0.240929</td>\n",
       "                        <td id=\"T_90dfc35f_0b8b_11ec_a07a_e0d55e887f9brow3_col14\" class=\"data row3 col14\" >0.427481</td>\n",
       "                        <td id=\"T_90dfc35f_0b8b_11ec_a07a_e0d55e887f9brow3_col15\" class=\"data row3 col15\" >0.756462</td>\n",
       "                        <td id=\"T_90dfc35f_0b8b_11ec_a07a_e0d55e887f9brow3_col16\" class=\"data row3 col16\" >0.580379</td>\n",
       "                        <td id=\"T_90dfc35f_0b8b_11ec_a07a_e0d55e887f9brow3_col17\" class=\"data row3 col17\" >0.180510</td>\n",
       "                        <td id=\"T_90dfc35f_0b8b_11ec_a07a_e0d55e887f9brow3_col18\" class=\"data row3 col18\" >-0.043361</td>\n",
       "                        <td id=\"T_90dfc35f_0b8b_11ec_a07a_e0d55e887f9brow3_col19\" class=\"data row3 col19\" >0.720298</td>\n",
       "            </tr>\n",
       "            <tr>\n",
       "                        <th id=\"T_90dfc35f_0b8b_11ec_a07a_e0d55e887f9blevel0_row4\" class=\"row_heading level0 row4\" >Pur_3_years_Indirect</th>\n",
       "                        <td id=\"T_90dfc35f_0b8b_11ec_a07a_e0d55e887f9brow4_col0\" class=\"data row4 col0\" >0.135133</td>\n",
       "                        <td id=\"T_90dfc35f_0b8b_11ec_a07a_e0d55e887f9brow4_col1\" class=\"data row4 col1\" >-0.200877</td>\n",
       "                        <td id=\"T_90dfc35f_0b8b_11ec_a07a_e0d55e887f9brow4_col2\" class=\"data row4 col2\" >0.842210</td>\n",
       "                        <td id=\"T_90dfc35f_0b8b_11ec_a07a_e0d55e887f9brow4_col3\" class=\"data row4 col3\" >0.478441</td>\n",
       "                        <td id=\"T_90dfc35f_0b8b_11ec_a07a_e0d55e887f9brow4_col4\" class=\"data row4 col4\" >1.000000</td>\n",
       "                        <td id=\"T_90dfc35f_0b8b_11ec_a07a_e0d55e887f9brow4_col5\" class=\"data row4 col5\" >0.566286</td>\n",
       "                        <td id=\"T_90dfc35f_0b8b_11ec_a07a_e0d55e887f9brow4_col6\" class=\"data row4 col6\" >-0.296213</td>\n",
       "                        <td id=\"T_90dfc35f_0b8b_11ec_a07a_e0d55e887f9brow4_col7\" class=\"data row4 col7\" >-0.293545</td>\n",
       "                        <td id=\"T_90dfc35f_0b8b_11ec_a07a_e0d55e887f9brow4_col8\" class=\"data row4 col8\" >-0.292267</td>\n",
       "                        <td id=\"T_90dfc35f_0b8b_11ec_a07a_e0d55e887f9brow4_col9\" class=\"data row4 col9\" >-0.249369</td>\n",
       "                        <td id=\"T_90dfc35f_0b8b_11ec_a07a_e0d55e887f9brow4_col10\" class=\"data row4 col10\" >-0.168513</td>\n",
       "                        <td id=\"T_90dfc35f_0b8b_11ec_a07a_e0d55e887f9brow4_col11\" class=\"data row4 col11\" >0.129750</td>\n",
       "                        <td id=\"T_90dfc35f_0b8b_11ec_a07a_e0d55e887f9brow4_col12\" class=\"data row4 col12\" >0.231537</td>\n",
       "                        <td id=\"T_90dfc35f_0b8b_11ec_a07a_e0d55e887f9brow4_col13\" class=\"data row4 col13\" >0.274756</td>\n",
       "                        <td id=\"T_90dfc35f_0b8b_11ec_a07a_e0d55e887f9brow4_col14\" class=\"data row4 col14\" >0.639989</td>\n",
       "                        <td id=\"T_90dfc35f_0b8b_11ec_a07a_e0d55e887f9brow4_col15\" class=\"data row4 col15\" >0.252604</td>\n",
       "                        <td id=\"T_90dfc35f_0b8b_11ec_a07a_e0d55e887f9brow4_col16\" class=\"data row4 col16\" >0.424891</td>\n",
       "                        <td id=\"T_90dfc35f_0b8b_11ec_a07a_e0d55e887f9brow4_col17\" class=\"data row4 col17\" >0.041433</td>\n",
       "                        <td id=\"T_90dfc35f_0b8b_11ec_a07a_e0d55e887f9brow4_col18\" class=\"data row4 col18\" >-0.044092</td>\n",
       "                        <td id=\"T_90dfc35f_0b8b_11ec_a07a_e0d55e887f9brow4_col19\" class=\"data row4 col19\" >0.254977</td>\n",
       "            </tr>\n",
       "            <tr>\n",
       "                        <th id=\"T_90dfc35f_0b8b_11ec_a07a_e0d55e887f9blevel0_row5\" class=\"row_heading level0 row5\" >Pur_5_years_Indirect</th>\n",
       "                        <td id=\"T_90dfc35f_0b8b_11ec_a07a_e0d55e887f9brow5_col0\" class=\"data row5 col0\" >0.098305</td>\n",
       "                        <td id=\"T_90dfc35f_0b8b_11ec_a07a_e0d55e887f9brow5_col1\" class=\"data row5 col1\" >-0.166534</td>\n",
       "                        <td id=\"T_90dfc35f_0b8b_11ec_a07a_e0d55e887f9brow5_col2\" class=\"data row5 col2\" >0.540581</td>\n",
       "                        <td id=\"T_90dfc35f_0b8b_11ec_a07a_e0d55e887f9brow5_col3\" class=\"data row5 col3\" >0.905120</td>\n",
       "                        <td id=\"T_90dfc35f_0b8b_11ec_a07a_e0d55e887f9brow5_col4\" class=\"data row5 col4\" >0.566286</td>\n",
       "                        <td id=\"T_90dfc35f_0b8b_11ec_a07a_e0d55e887f9brow5_col5\" class=\"data row5 col5\" >1.000000</td>\n",
       "                        <td id=\"T_90dfc35f_0b8b_11ec_a07a_e0d55e887f9brow5_col6\" class=\"data row5 col6\" >-0.266606</td>\n",
       "                        <td id=\"T_90dfc35f_0b8b_11ec_a07a_e0d55e887f9brow5_col7\" class=\"data row5 col7\" >-0.257339</td>\n",
       "                        <td id=\"T_90dfc35f_0b8b_11ec_a07a_e0d55e887f9brow5_col8\" class=\"data row5 col8\" >-0.361608</td>\n",
       "                        <td id=\"T_90dfc35f_0b8b_11ec_a07a_e0d55e887f9brow5_col9\" class=\"data row5 col9\" >-0.227030</td>\n",
       "                        <td id=\"T_90dfc35f_0b8b_11ec_a07a_e0d55e887f9brow5_col10\" class=\"data row5 col10\" >-0.157472</td>\n",
       "                        <td id=\"T_90dfc35f_0b8b_11ec_a07a_e0d55e887f9brow5_col11\" class=\"data row5 col11\" >0.747152</td>\n",
       "                        <td id=\"T_90dfc35f_0b8b_11ec_a07a_e0d55e887f9brow5_col12\" class=\"data row5 col12\" >0.750877</td>\n",
       "                        <td id=\"T_90dfc35f_0b8b_11ec_a07a_e0d55e887f9brow5_col13\" class=\"data row5 col13\" >0.179324</td>\n",
       "                        <td id=\"T_90dfc35f_0b8b_11ec_a07a_e0d55e887f9brow5_col14\" class=\"data row5 col14\" >0.457074</td>\n",
       "                        <td id=\"T_90dfc35f_0b8b_11ec_a07a_e0d55e887f9brow5_col15\" class=\"data row5 col15\" >0.779955</td>\n",
       "                        <td id=\"T_90dfc35f_0b8b_11ec_a07a_e0d55e887f9brow5_col16\" class=\"data row5 col16\" >0.641133</td>\n",
       "                        <td id=\"T_90dfc35f_0b8b_11ec_a07a_e0d55e887f9brow5_col17\" class=\"data row5 col17\" >0.176198</td>\n",
       "                        <td id=\"T_90dfc35f_0b8b_11ec_a07a_e0d55e887f9brow5_col18\" class=\"data row5 col18\" >-0.041983</td>\n",
       "                        <td id=\"T_90dfc35f_0b8b_11ec_a07a_e0d55e887f9brow5_col19\" class=\"data row5 col19\" >0.647469</td>\n",
       "            </tr>\n",
       "            <tr>\n",
       "                        <th id=\"T_90dfc35f_0b8b_11ec_a07a_e0d55e887f9blevel0_row6\" class=\"row_heading level0 row6\" >Pur_latest</th>\n",
       "                        <td id=\"T_90dfc35f_0b8b_11ec_a07a_e0d55e887f9brow6_col0\" class=\"data row6 col0\" >-0.101008</td>\n",
       "                        <td id=\"T_90dfc35f_0b8b_11ec_a07a_e0d55e887f9brow6_col1\" class=\"data row6 col1\" >0.577057</td>\n",
       "                        <td id=\"T_90dfc35f_0b8b_11ec_a07a_e0d55e887f9brow6_col2\" class=\"data row6 col2\" >-0.349252</td>\n",
       "                        <td id=\"T_90dfc35f_0b8b_11ec_a07a_e0d55e887f9brow6_col3\" class=\"data row6 col3\" >-0.260562</td>\n",
       "                        <td id=\"T_90dfc35f_0b8b_11ec_a07a_e0d55e887f9brow6_col4\" class=\"data row6 col4\" >-0.296213</td>\n",
       "                        <td id=\"T_90dfc35f_0b8b_11ec_a07a_e0d55e887f9brow6_col5\" class=\"data row6 col5\" >-0.266606</td>\n",
       "                        <td id=\"T_90dfc35f_0b8b_11ec_a07a_e0d55e887f9brow6_col6\" class=\"data row6 col6\" >1.000000</td>\n",
       "                        <td id=\"T_90dfc35f_0b8b_11ec_a07a_e0d55e887f9brow6_col7\" class=\"data row6 col7\" >0.786184</td>\n",
       "                        <td id=\"T_90dfc35f_0b8b_11ec_a07a_e0d55e887f9brow6_col8\" class=\"data row6 col8\" >0.747429</td>\n",
       "                        <td id=\"T_90dfc35f_0b8b_11ec_a07a_e0d55e887f9brow6_col9\" class=\"data row6 col9\" >0.652879</td>\n",
       "                        <td id=\"T_90dfc35f_0b8b_11ec_a07a_e0d55e887f9brow6_col10\" class=\"data row6 col10\" >0.132908</td>\n",
       "                        <td id=\"T_90dfc35f_0b8b_11ec_a07a_e0d55e887f9brow6_col11\" class=\"data row6 col11\" >-0.142707</td>\n",
       "                        <td id=\"T_90dfc35f_0b8b_11ec_a07a_e0d55e887f9brow6_col12\" class=\"data row6 col12\" >-0.106823</td>\n",
       "                        <td id=\"T_90dfc35f_0b8b_11ec_a07a_e0d55e887f9brow6_col13\" class=\"data row6 col13\" >0.001693</td>\n",
       "                        <td id=\"T_90dfc35f_0b8b_11ec_a07a_e0d55e887f9brow6_col14\" class=\"data row6 col14\" >-0.133058</td>\n",
       "                        <td id=\"T_90dfc35f_0b8b_11ec_a07a_e0d55e887f9brow6_col15\" class=\"data row6 col15\" >-0.121806</td>\n",
       "                        <td id=\"T_90dfc35f_0b8b_11ec_a07a_e0d55e887f9brow6_col16\" class=\"data row6 col16\" >-0.273792</td>\n",
       "                        <td id=\"T_90dfc35f_0b8b_11ec_a07a_e0d55e887f9brow6_col17\" class=\"data row6 col17\" >-0.049856</td>\n",
       "                        <td id=\"T_90dfc35f_0b8b_11ec_a07a_e0d55e887f9brow6_col18\" class=\"data row6 col18\" >0.071228</td>\n",
       "                        <td id=\"T_90dfc35f_0b8b_11ec_a07a_e0d55e887f9brow6_col19\" class=\"data row6 col19\" >-0.075828</td>\n",
       "            </tr>\n",
       "            <tr>\n",
       "                        <th id=\"T_90dfc35f_0b8b_11ec_a07a_e0d55e887f9blevel0_row7\" class=\"row_heading level0 row7\" >Pur_3_years_Avg</th>\n",
       "                        <td id=\"T_90dfc35f_0b8b_11ec_a07a_e0d55e887f9brow7_col0\" class=\"data row7 col0\" >-0.103504</td>\n",
       "                        <td id=\"T_90dfc35f_0b8b_11ec_a07a_e0d55e887f9brow7_col1\" class=\"data row7 col1\" >0.462304</td>\n",
       "                        <td id=\"T_90dfc35f_0b8b_11ec_a07a_e0d55e887f9brow7_col2\" class=\"data row7 col2\" >-0.355583</td>\n",
       "                        <td id=\"T_90dfc35f_0b8b_11ec_a07a_e0d55e887f9brow7_col3\" class=\"data row7 col3\" >-0.248276</td>\n",
       "                        <td id=\"T_90dfc35f_0b8b_11ec_a07a_e0d55e887f9brow7_col4\" class=\"data row7 col4\" >-0.293545</td>\n",
       "                        <td id=\"T_90dfc35f_0b8b_11ec_a07a_e0d55e887f9brow7_col5\" class=\"data row7 col5\" >-0.257339</td>\n",
       "                        <td id=\"T_90dfc35f_0b8b_11ec_a07a_e0d55e887f9brow7_col6\" class=\"data row7 col6\" >0.786184</td>\n",
       "                        <td id=\"T_90dfc35f_0b8b_11ec_a07a_e0d55e887f9brow7_col7\" class=\"data row7 col7\" >1.000000</td>\n",
       "                        <td id=\"T_90dfc35f_0b8b_11ec_a07a_e0d55e887f9brow7_col8\" class=\"data row7 col8\" >0.881783</td>\n",
       "                        <td id=\"T_90dfc35f_0b8b_11ec_a07a_e0d55e887f9brow7_col9\" class=\"data row7 col9\" >0.838133</td>\n",
       "                        <td id=\"T_90dfc35f_0b8b_11ec_a07a_e0d55e887f9brow7_col10\" class=\"data row7 col10\" >0.091458</td>\n",
       "                        <td id=\"T_90dfc35f_0b8b_11ec_a07a_e0d55e887f9brow7_col11\" class=\"data row7 col11\" >-0.121262</td>\n",
       "                        <td id=\"T_90dfc35f_0b8b_11ec_a07a_e0d55e887f9brow7_col12\" class=\"data row7 col12\" >-0.072774</td>\n",
       "                        <td id=\"T_90dfc35f_0b8b_11ec_a07a_e0d55e887f9brow7_col13\" class=\"data row7 col13\" >0.019759</td>\n",
       "                        <td id=\"T_90dfc35f_0b8b_11ec_a07a_e0d55e887f9brow7_col14\" class=\"data row7 col14\" >-0.115329</td>\n",
       "                        <td id=\"T_90dfc35f_0b8b_11ec_a07a_e0d55e887f9brow7_col15\" class=\"data row7 col15\" >-0.096414</td>\n",
       "                        <td id=\"T_90dfc35f_0b8b_11ec_a07a_e0d55e887f9brow7_col16\" class=\"data row7 col16\" >-0.265267</td>\n",
       "                        <td id=\"T_90dfc35f_0b8b_11ec_a07a_e0d55e887f9brow7_col17\" class=\"data row7 col17\" >-0.049426</td>\n",
       "                        <td id=\"T_90dfc35f_0b8b_11ec_a07a_e0d55e887f9brow7_col18\" class=\"data row7 col18\" >0.055722</td>\n",
       "                        <td id=\"T_90dfc35f_0b8b_11ec_a07a_e0d55e887f9brow7_col19\" class=\"data row7 col19\" >-0.030622</td>\n",
       "            </tr>\n",
       "            <tr>\n",
       "                        <th id=\"T_90dfc35f_0b8b_11ec_a07a_e0d55e887f9blevel0_row8\" class=\"row_heading level0 row8\" >Pur_5_years_Avg</th>\n",
       "                        <td id=\"T_90dfc35f_0b8b_11ec_a07a_e0d55e887f9brow8_col0\" class=\"data row8 col0\" >-0.111500</td>\n",
       "                        <td id=\"T_90dfc35f_0b8b_11ec_a07a_e0d55e887f9brow8_col1\" class=\"data row8 col1\" >0.411139</td>\n",
       "                        <td id=\"T_90dfc35f_0b8b_11ec_a07a_e0d55e887f9brow8_col2\" class=\"data row8 col2\" >-0.369803</td>\n",
       "                        <td id=\"T_90dfc35f_0b8b_11ec_a07a_e0d55e887f9brow8_col3\" class=\"data row8 col3\" >-0.339597</td>\n",
       "                        <td id=\"T_90dfc35f_0b8b_11ec_a07a_e0d55e887f9brow8_col4\" class=\"data row8 col4\" >-0.292267</td>\n",
       "                        <td id=\"T_90dfc35f_0b8b_11ec_a07a_e0d55e887f9brow8_col5\" class=\"data row8 col5\" >-0.361608</td>\n",
       "                        <td id=\"T_90dfc35f_0b8b_11ec_a07a_e0d55e887f9brow8_col6\" class=\"data row8 col6\" >0.747429</td>\n",
       "                        <td id=\"T_90dfc35f_0b8b_11ec_a07a_e0d55e887f9brow8_col7\" class=\"data row8 col7\" >0.881783</td>\n",
       "                        <td id=\"T_90dfc35f_0b8b_11ec_a07a_e0d55e887f9brow8_col8\" class=\"data row8 col8\" >1.000000</td>\n",
       "                        <td id=\"T_90dfc35f_0b8b_11ec_a07a_e0d55e887f9brow8_col9\" class=\"data row8 col9\" >0.724246</td>\n",
       "                        <td id=\"T_90dfc35f_0b8b_11ec_a07a_e0d55e887f9brow8_col10\" class=\"data row8 col10\" >0.082255</td>\n",
       "                        <td id=\"T_90dfc35f_0b8b_11ec_a07a_e0d55e887f9brow8_col11\" class=\"data row8 col11\" >-0.297026</td>\n",
       "                        <td id=\"T_90dfc35f_0b8b_11ec_a07a_e0d55e887f9brow8_col12\" class=\"data row8 col12\" >-0.215725</td>\n",
       "                        <td id=\"T_90dfc35f_0b8b_11ec_a07a_e0d55e887f9brow8_col13\" class=\"data row8 col13\" >-0.018264</td>\n",
       "                        <td id=\"T_90dfc35f_0b8b_11ec_a07a_e0d55e887f9brow8_col14\" class=\"data row8 col14\" >-0.179683</td>\n",
       "                        <td id=\"T_90dfc35f_0b8b_11ec_a07a_e0d55e887f9brow8_col15\" class=\"data row8 col15\" >-0.261724</td>\n",
       "                        <td id=\"T_90dfc35f_0b8b_11ec_a07a_e0d55e887f9brow8_col16\" class=\"data row8 col16\" >-0.360026</td>\n",
       "                        <td id=\"T_90dfc35f_0b8b_11ec_a07a_e0d55e887f9brow8_col17\" class=\"data row8 col17\" >-0.086666</td>\n",
       "                        <td id=\"T_90dfc35f_0b8b_11ec_a07a_e0d55e887f9brow8_col18\" class=\"data row8 col18\" >0.062140</td>\n",
       "                        <td id=\"T_90dfc35f_0b8b_11ec_a07a_e0d55e887f9brow8_col19\" class=\"data row8 col19\" >-0.161997</td>\n",
       "            </tr>\n",
       "            <tr>\n",
       "                        <th id=\"T_90dfc35f_0b8b_11ec_a07a_e0d55e887f9blevel0_row9\" class=\"row_heading level0 row9\" >Pur_3_years_Avg_Indirect</th>\n",
       "                        <td id=\"T_90dfc35f_0b8b_11ec_a07a_e0d55e887f9brow9_col0\" class=\"data row9 col0\" >-0.103976</td>\n",
       "                        <td id=\"T_90dfc35f_0b8b_11ec_a07a_e0d55e887f9brow9_col1\" class=\"data row9 col1\" >0.399381</td>\n",
       "                        <td id=\"T_90dfc35f_0b8b_11ec_a07a_e0d55e887f9brow9_col2\" class=\"data row9 col2\" >-0.342964</td>\n",
       "                        <td id=\"T_90dfc35f_0b8b_11ec_a07a_e0d55e887f9brow9_col3\" class=\"data row9 col3\" >-0.227943</td>\n",
       "                        <td id=\"T_90dfc35f_0b8b_11ec_a07a_e0d55e887f9brow9_col4\" class=\"data row9 col4\" >-0.249369</td>\n",
       "                        <td id=\"T_90dfc35f_0b8b_11ec_a07a_e0d55e887f9brow9_col5\" class=\"data row9 col5\" >-0.227030</td>\n",
       "                        <td id=\"T_90dfc35f_0b8b_11ec_a07a_e0d55e887f9brow9_col6\" class=\"data row9 col6\" >0.652879</td>\n",
       "                        <td id=\"T_90dfc35f_0b8b_11ec_a07a_e0d55e887f9brow9_col7\" class=\"data row9 col7\" >0.838133</td>\n",
       "                        <td id=\"T_90dfc35f_0b8b_11ec_a07a_e0d55e887f9brow9_col8\" class=\"data row9 col8\" >0.724246</td>\n",
       "                        <td id=\"T_90dfc35f_0b8b_11ec_a07a_e0d55e887f9brow9_col9\" class=\"data row9 col9\" >1.000000</td>\n",
       "                        <td id=\"T_90dfc35f_0b8b_11ec_a07a_e0d55e887f9brow9_col10\" class=\"data row9 col10\" >0.076473</td>\n",
       "                        <td id=\"T_90dfc35f_0b8b_11ec_a07a_e0d55e887f9brow9_col11\" class=\"data row9 col11\" >-0.112813</td>\n",
       "                        <td id=\"T_90dfc35f_0b8b_11ec_a07a_e0d55e887f9brow9_col12\" class=\"data row9 col12\" >-0.064515</td>\n",
       "                        <td id=\"T_90dfc35f_0b8b_11ec_a07a_e0d55e887f9brow9_col13\" class=\"data row9 col13\" >0.009516</td>\n",
       "                        <td id=\"T_90dfc35f_0b8b_11ec_a07a_e0d55e887f9brow9_col14\" class=\"data row9 col14\" >-0.035776</td>\n",
       "                        <td id=\"T_90dfc35f_0b8b_11ec_a07a_e0d55e887f9brow9_col15\" class=\"data row9 col15\" >-0.091428</td>\n",
       "                        <td id=\"T_90dfc35f_0b8b_11ec_a07a_e0d55e887f9brow9_col16\" class=\"data row9 col16\" >-0.245108</td>\n",
       "                        <td id=\"T_90dfc35f_0b8b_11ec_a07a_e0d55e887f9brow9_col17\" class=\"data row9 col17\" >-0.035508</td>\n",
       "                        <td id=\"T_90dfc35f_0b8b_11ec_a07a_e0d55e887f9brow9_col18\" class=\"data row9 col18\" >0.054122</td>\n",
       "                        <td id=\"T_90dfc35f_0b8b_11ec_a07a_e0d55e887f9brow9_col19\" class=\"data row9 col19\" >-0.029703</td>\n",
       "            </tr>\n",
       "            <tr>\n",
       "                        <th id=\"T_90dfc35f_0b8b_11ec_a07a_e0d55e887f9blevel0_row10\" class=\"row_heading level0 row10\" >InAct_Last</th>\n",
       "                        <td id=\"T_90dfc35f_0b8b_11ec_a07a_e0d55e887f9brow10_col0\" class=\"data row10 col0\" >-0.103023</td>\n",
       "                        <td id=\"T_90dfc35f_0b8b_11ec_a07a_e0d55e887f9brow10_col1\" class=\"data row10 col1\" >0.077839</td>\n",
       "                        <td id=\"T_90dfc35f_0b8b_11ec_a07a_e0d55e887f9brow10_col2\" class=\"data row10 col2\" >-0.237964</td>\n",
       "                        <td id=\"T_90dfc35f_0b8b_11ec_a07a_e0d55e887f9brow10_col3\" class=\"data row10 col3\" >-0.241410</td>\n",
       "                        <td id=\"T_90dfc35f_0b8b_11ec_a07a_e0d55e887f9brow10_col4\" class=\"data row10 col4\" >-0.168513</td>\n",
       "                        <td id=\"T_90dfc35f_0b8b_11ec_a07a_e0d55e887f9brow10_col5\" class=\"data row10 col5\" >-0.157472</td>\n",
       "                        <td id=\"T_90dfc35f_0b8b_11ec_a07a_e0d55e887f9brow10_col6\" class=\"data row10 col6\" >0.132908</td>\n",
       "                        <td id=\"T_90dfc35f_0b8b_11ec_a07a_e0d55e887f9brow10_col7\" class=\"data row10 col7\" >0.091458</td>\n",
       "                        <td id=\"T_90dfc35f_0b8b_11ec_a07a_e0d55e887f9brow10_col8\" class=\"data row10 col8\" >0.082255</td>\n",
       "                        <td id=\"T_90dfc35f_0b8b_11ec_a07a_e0d55e887f9brow10_col9\" class=\"data row10 col9\" >0.076473</td>\n",
       "                        <td id=\"T_90dfc35f_0b8b_11ec_a07a_e0d55e887f9brow10_col10\" class=\"data row10 col10\" >1.000000</td>\n",
       "                        <td id=\"T_90dfc35f_0b8b_11ec_a07a_e0d55e887f9brow10_col11\" class=\"data row10 col11\" >-0.082802</td>\n",
       "                        <td id=\"T_90dfc35f_0b8b_11ec_a07a_e0d55e887f9brow10_col12\" class=\"data row10 col12\" >-0.239222</td>\n",
       "                        <td id=\"T_90dfc35f_0b8b_11ec_a07a_e0d55e887f9brow10_col13\" class=\"data row10 col13\" >-0.356574</td>\n",
       "                        <td id=\"T_90dfc35f_0b8b_11ec_a07a_e0d55e887f9brow10_col14\" class=\"data row10 col14\" >-0.175138</td>\n",
       "                        <td id=\"T_90dfc35f_0b8b_11ec_a07a_e0d55e887f9brow10_col15\" class=\"data row10 col15\" >-0.138193</td>\n",
       "                        <td id=\"T_90dfc35f_0b8b_11ec_a07a_e0d55e887f9brow10_col16\" class=\"data row10 col16\" >-0.147530</td>\n",
       "                        <td id=\"T_90dfc35f_0b8b_11ec_a07a_e0d55e887f9brow10_col17\" class=\"data row10 col17\" >-0.076620</td>\n",
       "                        <td id=\"T_90dfc35f_0b8b_11ec_a07a_e0d55e887f9brow10_col18\" class=\"data row10 col18\" >0.032755</td>\n",
       "                        <td id=\"T_90dfc35f_0b8b_11ec_a07a_e0d55e887f9brow10_col19\" class=\"data row10 col19\" >-0.339541</td>\n",
       "            </tr>\n",
       "            <tr>\n",
       "                        <th id=\"T_90dfc35f_0b8b_11ec_a07a_e0d55e887f9blevel0_row11\" class=\"row_heading level0 row11\" >InAct_First</th>\n",
       "                        <td id=\"T_90dfc35f_0b8b_11ec_a07a_e0d55e887f9brow11_col0\" class=\"data row11 col0\" >0.070813</td>\n",
       "                        <td id=\"T_90dfc35f_0b8b_11ec_a07a_e0d55e887f9brow11_col1\" class=\"data row11 col1\" >-0.091641</td>\n",
       "                        <td id=\"T_90dfc35f_0b8b_11ec_a07a_e0d55e887f9brow11_col2\" class=\"data row11 col2\" >0.190738</td>\n",
       "                        <td id=\"T_90dfc35f_0b8b_11ec_a07a_e0d55e887f9brow11_col3\" class=\"data row11 col3\" >0.709486</td>\n",
       "                        <td id=\"T_90dfc35f_0b8b_11ec_a07a_e0d55e887f9brow11_col4\" class=\"data row11 col4\" >0.129750</td>\n",
       "                        <td id=\"T_90dfc35f_0b8b_11ec_a07a_e0d55e887f9brow11_col5\" class=\"data row11 col5\" >0.747152</td>\n",
       "                        <td id=\"T_90dfc35f_0b8b_11ec_a07a_e0d55e887f9brow11_col6\" class=\"data row11 col6\" >-0.142707</td>\n",
       "                        <td id=\"T_90dfc35f_0b8b_11ec_a07a_e0d55e887f9brow11_col7\" class=\"data row11 col7\" >-0.121262</td>\n",
       "                        <td id=\"T_90dfc35f_0b8b_11ec_a07a_e0d55e887f9brow11_col8\" class=\"data row11 col8\" >-0.297026</td>\n",
       "                        <td id=\"T_90dfc35f_0b8b_11ec_a07a_e0d55e887f9brow11_col9\" class=\"data row11 col9\" >-0.112813</td>\n",
       "                        <td id=\"T_90dfc35f_0b8b_11ec_a07a_e0d55e887f9brow11_col10\" class=\"data row11 col10\" >-0.082802</td>\n",
       "                        <td id=\"T_90dfc35f_0b8b_11ec_a07a_e0d55e887f9brow11_col11\" class=\"data row11 col11\" >1.000000</td>\n",
       "                        <td id=\"T_90dfc35f_0b8b_11ec_a07a_e0d55e887f9brow11_col12\" class=\"data row11 col12\" >0.855834</td>\n",
       "                        <td id=\"T_90dfc35f_0b8b_11ec_a07a_e0d55e887f9brow11_col13\" class=\"data row11 col13\" >0.120218</td>\n",
       "                        <td id=\"T_90dfc35f_0b8b_11ec_a07a_e0d55e887f9brow11_col14\" class=\"data row11 col14\" >0.259583</td>\n",
       "                        <td id=\"T_90dfc35f_0b8b_11ec_a07a_e0d55e887f9brow11_col15\" class=\"data row11 col15\" >0.902457</td>\n",
       "                        <td id=\"T_90dfc35f_0b8b_11ec_a07a_e0d55e887f9brow11_col16\" class=\"data row11 col16\" >0.524103</td>\n",
       "                        <td id=\"T_90dfc35f_0b8b_11ec_a07a_e0d55e887f9brow11_col17\" class=\"data row11 col17\" >0.232050</td>\n",
       "                        <td id=\"T_90dfc35f_0b8b_11ec_a07a_e0d55e887f9brow11_col18\" class=\"data row11 col18\" >-0.028742</td>\n",
       "                        <td id=\"T_90dfc35f_0b8b_11ec_a07a_e0d55e887f9brow11_col19\" class=\"data row11 col19\" >0.724981</td>\n",
       "            </tr>\n",
       "            <tr>\n",
       "                        <th id=\"T_90dfc35f_0b8b_11ec_a07a_e0d55e887f9blevel0_row12\" class=\"row_heading level0 row12\" >Ad_Res_5_Year</th>\n",
       "                        <td id=\"T_90dfc35f_0b8b_11ec_a07a_e0d55e887f9brow12_col0\" class=\"data row12 col0\" >0.080109</td>\n",
       "                        <td id=\"T_90dfc35f_0b8b_11ec_a07a_e0d55e887f9brow12_col1\" class=\"data row12 col1\" >-0.053682</td>\n",
       "                        <td id=\"T_90dfc35f_0b8b_11ec_a07a_e0d55e887f9brow12_col2\" class=\"data row12 col2\" >0.301513</td>\n",
       "                        <td id=\"T_90dfc35f_0b8b_11ec_a07a_e0d55e887f9brow12_col3\" class=\"data row12 col3\" >0.790215</td>\n",
       "                        <td id=\"T_90dfc35f_0b8b_11ec_a07a_e0d55e887f9brow12_col4\" class=\"data row12 col4\" >0.231537</td>\n",
       "                        <td id=\"T_90dfc35f_0b8b_11ec_a07a_e0d55e887f9brow12_col5\" class=\"data row12 col5\" >0.750877</td>\n",
       "                        <td id=\"T_90dfc35f_0b8b_11ec_a07a_e0d55e887f9brow12_col6\" class=\"data row12 col6\" >-0.106823</td>\n",
       "                        <td id=\"T_90dfc35f_0b8b_11ec_a07a_e0d55e887f9brow12_col7\" class=\"data row12 col7\" >-0.072774</td>\n",
       "                        <td id=\"T_90dfc35f_0b8b_11ec_a07a_e0d55e887f9brow12_col8\" class=\"data row12 col8\" >-0.215725</td>\n",
       "                        <td id=\"T_90dfc35f_0b8b_11ec_a07a_e0d55e887f9brow12_col9\" class=\"data row12 col9\" >-0.064515</td>\n",
       "                        <td id=\"T_90dfc35f_0b8b_11ec_a07a_e0d55e887f9brow12_col10\" class=\"data row12 col10\" >-0.239222</td>\n",
       "                        <td id=\"T_90dfc35f_0b8b_11ec_a07a_e0d55e887f9brow12_col11\" class=\"data row12 col11\" >0.855834</td>\n",
       "                        <td id=\"T_90dfc35f_0b8b_11ec_a07a_e0d55e887f9brow12_col12\" class=\"data row12 col12\" >1.000000</td>\n",
       "                        <td id=\"T_90dfc35f_0b8b_11ec_a07a_e0d55e887f9brow12_col13\" class=\"data row12 col13\" >0.408179</td>\n",
       "                        <td id=\"T_90dfc35f_0b8b_11ec_a07a_e0d55e887f9brow12_col14\" class=\"data row12 col14\" >0.448746</td>\n",
       "                        <td id=\"T_90dfc35f_0b8b_11ec_a07a_e0d55e887f9brow12_col15\" class=\"data row12 col15\" >0.944387</td>\n",
       "                        <td id=\"T_90dfc35f_0b8b_11ec_a07a_e0d55e887f9brow12_col16\" class=\"data row12 col16\" >0.548878</td>\n",
       "                        <td id=\"T_90dfc35f_0b8b_11ec_a07a_e0d55e887f9brow12_col17\" class=\"data row12 col17\" >0.218279</td>\n",
       "                        <td id=\"T_90dfc35f_0b8b_11ec_a07a_e0d55e887f9brow12_col18\" class=\"data row12 col18\" >-0.005562</td>\n",
       "                        <td id=\"T_90dfc35f_0b8b_11ec_a07a_e0d55e887f9brow12_col19\" class=\"data row12 col19\" >0.962843</td>\n",
       "            </tr>\n",
       "            <tr>\n",
       "                        <th id=\"T_90dfc35f_0b8b_11ec_a07a_e0d55e887f9blevel0_row13\" class=\"row_heading level0 row13\" >Ad_Res_Ind_1_Year</th>\n",
       "                        <td id=\"T_90dfc35f_0b8b_11ec_a07a_e0d55e887f9brow13_col0\" class=\"data row13 col0\" >0.063209</td>\n",
       "                        <td id=\"T_90dfc35f_0b8b_11ec_a07a_e0d55e887f9brow13_col1\" class=\"data row13 col1\" >-0.001057</td>\n",
       "                        <td id=\"T_90dfc35f_0b8b_11ec_a07a_e0d55e887f9brow13_col2\" class=\"data row13 col2\" >0.344823</td>\n",
       "                        <td id=\"T_90dfc35f_0b8b_11ec_a07a_e0d55e887f9brow13_col3\" class=\"data row13 col3\" >0.240929</td>\n",
       "                        <td id=\"T_90dfc35f_0b8b_11ec_a07a_e0d55e887f9brow13_col4\" class=\"data row13 col4\" >0.274756</td>\n",
       "                        <td id=\"T_90dfc35f_0b8b_11ec_a07a_e0d55e887f9brow13_col5\" class=\"data row13 col5\" >0.179324</td>\n",
       "                        <td id=\"T_90dfc35f_0b8b_11ec_a07a_e0d55e887f9brow13_col6\" class=\"data row13 col6\" >0.001693</td>\n",
       "                        <td id=\"T_90dfc35f_0b8b_11ec_a07a_e0d55e887f9brow13_col7\" class=\"data row13 col7\" >0.019759</td>\n",
       "                        <td id=\"T_90dfc35f_0b8b_11ec_a07a_e0d55e887f9brow13_col8\" class=\"data row13 col8\" >-0.018264</td>\n",
       "                        <td id=\"T_90dfc35f_0b8b_11ec_a07a_e0d55e887f9brow13_col9\" class=\"data row13 col9\" >0.009516</td>\n",
       "                        <td id=\"T_90dfc35f_0b8b_11ec_a07a_e0d55e887f9brow13_col10\" class=\"data row13 col10\" >-0.356574</td>\n",
       "                        <td id=\"T_90dfc35f_0b8b_11ec_a07a_e0d55e887f9brow13_col11\" class=\"data row13 col11\" >0.120218</td>\n",
       "                        <td id=\"T_90dfc35f_0b8b_11ec_a07a_e0d55e887f9brow13_col12\" class=\"data row13 col12\" >0.408179</td>\n",
       "                        <td id=\"T_90dfc35f_0b8b_11ec_a07a_e0d55e887f9brow13_col13\" class=\"data row13 col13\" >1.000000</td>\n",
       "                        <td id=\"T_90dfc35f_0b8b_11ec_a07a_e0d55e887f9brow13_col14\" class=\"data row13 col14\" >0.611498</td>\n",
       "                        <td id=\"T_90dfc35f_0b8b_11ec_a07a_e0d55e887f9brow13_col15\" class=\"data row13 col15\" >0.402181</td>\n",
       "                        <td id=\"T_90dfc35f_0b8b_11ec_a07a_e0d55e887f9brow13_col16\" class=\"data row13 col16\" >0.205851</td>\n",
       "                        <td id=\"T_90dfc35f_0b8b_11ec_a07a_e0d55e887f9brow13_col17\" class=\"data row13 col17\" >0.061829</td>\n",
       "                        <td id=\"T_90dfc35f_0b8b_11ec_a07a_e0d55e887f9brow13_col18\" class=\"data row13 col18\" >0.034317</td>\n",
       "                        <td id=\"T_90dfc35f_0b8b_11ec_a07a_e0d55e887f9brow13_col19\" class=\"data row13 col19\" >0.561373</td>\n",
       "            </tr>\n",
       "            <tr>\n",
       "                        <th id=\"T_90dfc35f_0b8b_11ec_a07a_e0d55e887f9blevel0_row14\" class=\"row_heading level0 row14\" >Ad_Res_Ind_3_Year</th>\n",
       "                        <td id=\"T_90dfc35f_0b8b_11ec_a07a_e0d55e887f9brow14_col0\" class=\"data row14 col0\" >0.097746</td>\n",
       "                        <td id=\"T_90dfc35f_0b8b_11ec_a07a_e0d55e887f9brow14_col1\" class=\"data row14 col1\" >-0.092784</td>\n",
       "                        <td id=\"T_90dfc35f_0b8b_11ec_a07a_e0d55e887f9brow14_col2\" class=\"data row14 col2\" >0.593459</td>\n",
       "                        <td id=\"T_90dfc35f_0b8b_11ec_a07a_e0d55e887f9brow14_col3\" class=\"data row14 col3\" >0.427481</td>\n",
       "                        <td id=\"T_90dfc35f_0b8b_11ec_a07a_e0d55e887f9brow14_col4\" class=\"data row14 col4\" >0.639989</td>\n",
       "                        <td id=\"T_90dfc35f_0b8b_11ec_a07a_e0d55e887f9brow14_col5\" class=\"data row14 col5\" >0.457074</td>\n",
       "                        <td id=\"T_90dfc35f_0b8b_11ec_a07a_e0d55e887f9brow14_col6\" class=\"data row14 col6\" >-0.133058</td>\n",
       "                        <td id=\"T_90dfc35f_0b8b_11ec_a07a_e0d55e887f9brow14_col7\" class=\"data row14 col7\" >-0.115329</td>\n",
       "                        <td id=\"T_90dfc35f_0b8b_11ec_a07a_e0d55e887f9brow14_col8\" class=\"data row14 col8\" >-0.179683</td>\n",
       "                        <td id=\"T_90dfc35f_0b8b_11ec_a07a_e0d55e887f9brow14_col9\" class=\"data row14 col9\" >-0.035776</td>\n",
       "                        <td id=\"T_90dfc35f_0b8b_11ec_a07a_e0d55e887f9brow14_col10\" class=\"data row14 col10\" >-0.175138</td>\n",
       "                        <td id=\"T_90dfc35f_0b8b_11ec_a07a_e0d55e887f9brow14_col11\" class=\"data row14 col11\" >0.259583</td>\n",
       "                        <td id=\"T_90dfc35f_0b8b_11ec_a07a_e0d55e887f9brow14_col12\" class=\"data row14 col12\" >0.448746</td>\n",
       "                        <td id=\"T_90dfc35f_0b8b_11ec_a07a_e0d55e887f9brow14_col13\" class=\"data row14 col13\" >0.611498</td>\n",
       "                        <td id=\"T_90dfc35f_0b8b_11ec_a07a_e0d55e887f9brow14_col14\" class=\"data row14 col14\" >1.000000</td>\n",
       "                        <td id=\"T_90dfc35f_0b8b_11ec_a07a_e0d55e887f9brow14_col15\" class=\"data row14 col15\" >0.487999</td>\n",
       "                        <td id=\"T_90dfc35f_0b8b_11ec_a07a_e0d55e887f9brow14_col16\" class=\"data row14 col16\" >0.384951</td>\n",
       "                        <td id=\"T_90dfc35f_0b8b_11ec_a07a_e0d55e887f9brow14_col17\" class=\"data row14 col17\" >0.078463</td>\n",
       "                        <td id=\"T_90dfc35f_0b8b_11ec_a07a_e0d55e887f9brow14_col18\" class=\"data row14 col18\" >0.001534</td>\n",
       "                        <td id=\"T_90dfc35f_0b8b_11ec_a07a_e0d55e887f9brow14_col19\" class=\"data row14 col19\" >0.521899</td>\n",
       "            </tr>\n",
       "            <tr>\n",
       "                        <th id=\"T_90dfc35f_0b8b_11ec_a07a_e0d55e887f9blevel0_row15\" class=\"row_heading level0 row15\" >Ad_Res_Ind_5_Year</th>\n",
       "                        <td id=\"T_90dfc35f_0b8b_11ec_a07a_e0d55e887f9brow15_col0\" class=\"data row15 col0\" >0.073056</td>\n",
       "                        <td id=\"T_90dfc35f_0b8b_11ec_a07a_e0d55e887f9brow15_col1\" class=\"data row15 col1\" >-0.077327</td>\n",
       "                        <td id=\"T_90dfc35f_0b8b_11ec_a07a_e0d55e887f9brow15_col2\" class=\"data row15 col2\" >0.330041</td>\n",
       "                        <td id=\"T_90dfc35f_0b8b_11ec_a07a_e0d55e887f9brow15_col3\" class=\"data row15 col3\" >0.756462</td>\n",
       "                        <td id=\"T_90dfc35f_0b8b_11ec_a07a_e0d55e887f9brow15_col4\" class=\"data row15 col4\" >0.252604</td>\n",
       "                        <td id=\"T_90dfc35f_0b8b_11ec_a07a_e0d55e887f9brow15_col5\" class=\"data row15 col5\" >0.779955</td>\n",
       "                        <td id=\"T_90dfc35f_0b8b_11ec_a07a_e0d55e887f9brow15_col6\" class=\"data row15 col6\" >-0.121806</td>\n",
       "                        <td id=\"T_90dfc35f_0b8b_11ec_a07a_e0d55e887f9brow15_col7\" class=\"data row15 col7\" >-0.096414</td>\n",
       "                        <td id=\"T_90dfc35f_0b8b_11ec_a07a_e0d55e887f9brow15_col8\" class=\"data row15 col8\" >-0.261724</td>\n",
       "                        <td id=\"T_90dfc35f_0b8b_11ec_a07a_e0d55e887f9brow15_col9\" class=\"data row15 col9\" >-0.091428</td>\n",
       "                        <td id=\"T_90dfc35f_0b8b_11ec_a07a_e0d55e887f9brow15_col10\" class=\"data row15 col10\" >-0.138193</td>\n",
       "                        <td id=\"T_90dfc35f_0b8b_11ec_a07a_e0d55e887f9brow15_col11\" class=\"data row15 col11\" >0.902457</td>\n",
       "                        <td id=\"T_90dfc35f_0b8b_11ec_a07a_e0d55e887f9brow15_col12\" class=\"data row15 col12\" >0.944387</td>\n",
       "                        <td id=\"T_90dfc35f_0b8b_11ec_a07a_e0d55e887f9brow15_col13\" class=\"data row15 col13\" >0.402181</td>\n",
       "                        <td id=\"T_90dfc35f_0b8b_11ec_a07a_e0d55e887f9brow15_col14\" class=\"data row15 col14\" >0.487999</td>\n",
       "                        <td id=\"T_90dfc35f_0b8b_11ec_a07a_e0d55e887f9brow15_col15\" class=\"data row15 col15\" >1.000000</td>\n",
       "                        <td id=\"T_90dfc35f_0b8b_11ec_a07a_e0d55e887f9brow15_col16\" class=\"data row15 col16\" >0.576908</td>\n",
       "                        <td id=\"T_90dfc35f_0b8b_11ec_a07a_e0d55e887f9brow15_col17\" class=\"data row15 col17\" >0.212050</td>\n",
       "                        <td id=\"T_90dfc35f_0b8b_11ec_a07a_e0d55e887f9brow15_col18\" class=\"data row15 col18\" >-0.009323</td>\n",
       "                        <td id=\"T_90dfc35f_0b8b_11ec_a07a_e0d55e887f9brow15_col19\" class=\"data row15 col19\" >0.871709</td>\n",
       "            </tr>\n",
       "            <tr>\n",
       "                        <th id=\"T_90dfc35f_0b8b_11ec_a07a_e0d55e887f9blevel0_row16\" class=\"row_heading level0 row16\" >Status_Latest_Ad</th>\n",
       "                        <td id=\"T_90dfc35f_0b8b_11ec_a07a_e0d55e887f9brow16_col0\" class=\"data row16 col0\" >0.110590</td>\n",
       "                        <td id=\"T_90dfc35f_0b8b_11ec_a07a_e0d55e887f9brow16_col1\" class=\"data row16 col1\" >-0.155911</td>\n",
       "                        <td id=\"T_90dfc35f_0b8b_11ec_a07a_e0d55e887f9brow16_col2\" class=\"data row16 col2\" >0.456353</td>\n",
       "                        <td id=\"T_90dfc35f_0b8b_11ec_a07a_e0d55e887f9brow16_col3\" class=\"data row16 col3\" >0.580379</td>\n",
       "                        <td id=\"T_90dfc35f_0b8b_11ec_a07a_e0d55e887f9brow16_col4\" class=\"data row16 col4\" >0.424891</td>\n",
       "                        <td id=\"T_90dfc35f_0b8b_11ec_a07a_e0d55e887f9brow16_col5\" class=\"data row16 col5\" >0.641133</td>\n",
       "                        <td id=\"T_90dfc35f_0b8b_11ec_a07a_e0d55e887f9brow16_col6\" class=\"data row16 col6\" >-0.273792</td>\n",
       "                        <td id=\"T_90dfc35f_0b8b_11ec_a07a_e0d55e887f9brow16_col7\" class=\"data row16 col7\" >-0.265267</td>\n",
       "                        <td id=\"T_90dfc35f_0b8b_11ec_a07a_e0d55e887f9brow16_col8\" class=\"data row16 col8\" >-0.360026</td>\n",
       "                        <td id=\"T_90dfc35f_0b8b_11ec_a07a_e0d55e887f9brow16_col9\" class=\"data row16 col9\" >-0.245108</td>\n",
       "                        <td id=\"T_90dfc35f_0b8b_11ec_a07a_e0d55e887f9brow16_col10\" class=\"data row16 col10\" >-0.147530</td>\n",
       "                        <td id=\"T_90dfc35f_0b8b_11ec_a07a_e0d55e887f9brow16_col11\" class=\"data row16 col11\" >0.524103</td>\n",
       "                        <td id=\"T_90dfc35f_0b8b_11ec_a07a_e0d55e887f9brow16_col12\" class=\"data row16 col12\" >0.548878</td>\n",
       "                        <td id=\"T_90dfc35f_0b8b_11ec_a07a_e0d55e887f9brow16_col13\" class=\"data row16 col13\" >0.205851</td>\n",
       "                        <td id=\"T_90dfc35f_0b8b_11ec_a07a_e0d55e887f9brow16_col14\" class=\"data row16 col14\" >0.384951</td>\n",
       "                        <td id=\"T_90dfc35f_0b8b_11ec_a07a_e0d55e887f9brow16_col15\" class=\"data row16 col15\" >0.576908</td>\n",
       "                        <td id=\"T_90dfc35f_0b8b_11ec_a07a_e0d55e887f9brow16_col16\" class=\"data row16 col16\" >1.000000</td>\n",
       "                        <td id=\"T_90dfc35f_0b8b_11ec_a07a_e0d55e887f9brow16_col17\" class=\"data row16 col17\" >0.151539</td>\n",
       "                        <td id=\"T_90dfc35f_0b8b_11ec_a07a_e0d55e887f9brow16_col18\" class=\"data row16 col18\" >-0.045307</td>\n",
       "                        <td id=\"T_90dfc35f_0b8b_11ec_a07a_e0d55e887f9brow16_col19\" class=\"data row16 col19\" >0.496243</td>\n",
       "            </tr>\n",
       "            <tr>\n",
       "                        <th id=\"T_90dfc35f_0b8b_11ec_a07a_e0d55e887f9blevel0_row17\" class=\"row_heading level0 row17\" >Age</th>\n",
       "                        <td id=\"T_90dfc35f_0b8b_11ec_a07a_e0d55e887f9brow17_col0\" class=\"data row17 col0\" >0.030832</td>\n",
       "                        <td id=\"T_90dfc35f_0b8b_11ec_a07a_e0d55e887f9brow17_col1\" class=\"data row17 col1\" >-0.036238</td>\n",
       "                        <td id=\"T_90dfc35f_0b8b_11ec_a07a_e0d55e887f9brow17_col2\" class=\"data row17 col2\" >0.061601</td>\n",
       "                        <td id=\"T_90dfc35f_0b8b_11ec_a07a_e0d55e887f9brow17_col3\" class=\"data row17 col3\" >0.180510</td>\n",
       "                        <td id=\"T_90dfc35f_0b8b_11ec_a07a_e0d55e887f9brow17_col4\" class=\"data row17 col4\" >0.041433</td>\n",
       "                        <td id=\"T_90dfc35f_0b8b_11ec_a07a_e0d55e887f9brow17_col5\" class=\"data row17 col5\" >0.176198</td>\n",
       "                        <td id=\"T_90dfc35f_0b8b_11ec_a07a_e0d55e887f9brow17_col6\" class=\"data row17 col6\" >-0.049856</td>\n",
       "                        <td id=\"T_90dfc35f_0b8b_11ec_a07a_e0d55e887f9brow17_col7\" class=\"data row17 col7\" >-0.049426</td>\n",
       "                        <td id=\"T_90dfc35f_0b8b_11ec_a07a_e0d55e887f9brow17_col8\" class=\"data row17 col8\" >-0.086666</td>\n",
       "                        <td id=\"T_90dfc35f_0b8b_11ec_a07a_e0d55e887f9brow17_col9\" class=\"data row17 col9\" >-0.035508</td>\n",
       "                        <td id=\"T_90dfc35f_0b8b_11ec_a07a_e0d55e887f9brow17_col10\" class=\"data row17 col10\" >-0.076620</td>\n",
       "                        <td id=\"T_90dfc35f_0b8b_11ec_a07a_e0d55e887f9brow17_col11\" class=\"data row17 col11\" >0.232050</td>\n",
       "                        <td id=\"T_90dfc35f_0b8b_11ec_a07a_e0d55e887f9brow17_col12\" class=\"data row17 col12\" >0.218279</td>\n",
       "                        <td id=\"T_90dfc35f_0b8b_11ec_a07a_e0d55e887f9brow17_col13\" class=\"data row17 col13\" >0.061829</td>\n",
       "                        <td id=\"T_90dfc35f_0b8b_11ec_a07a_e0d55e887f9brow17_col14\" class=\"data row17 col14\" >0.078463</td>\n",
       "                        <td id=\"T_90dfc35f_0b8b_11ec_a07a_e0d55e887f9brow17_col15\" class=\"data row17 col15\" >0.212050</td>\n",
       "                        <td id=\"T_90dfc35f_0b8b_11ec_a07a_e0d55e887f9brow17_col16\" class=\"data row17 col16\" >0.151539</td>\n",
       "                        <td id=\"T_90dfc35f_0b8b_11ec_a07a_e0d55e887f9brow17_col17\" class=\"data row17 col17\" >1.000000</td>\n",
       "                        <td id=\"T_90dfc35f_0b8b_11ec_a07a_e0d55e887f9brow17_col18\" class=\"data row17 col18\" >0.027558</td>\n",
       "                        <td id=\"T_90dfc35f_0b8b_11ec_a07a_e0d55e887f9brow17_col19\" class=\"data row17 col19\" >0.198848</td>\n",
       "            </tr>\n",
       "            <tr>\n",
       "                        <th id=\"T_90dfc35f_0b8b_11ec_a07a_e0d55e887f9blevel0_row18\" class=\"row_heading level0 row18\" >Cust_Ann_Income</th>\n",
       "                        <td id=\"T_90dfc35f_0b8b_11ec_a07a_e0d55e887f9brow18_col0\" class=\"data row18 col0\" >-0.021580</td>\n",
       "                        <td id=\"T_90dfc35f_0b8b_11ec_a07a_e0d55e887f9brow18_col1\" class=\"data row18 col1\" >0.042605</td>\n",
       "                        <td id=\"T_90dfc35f_0b8b_11ec_a07a_e0d55e887f9brow18_col2\" class=\"data row18 col2\" >-0.074388</td>\n",
       "                        <td id=\"T_90dfc35f_0b8b_11ec_a07a_e0d55e887f9brow18_col3\" class=\"data row18 col3\" >-0.043361</td>\n",
       "                        <td id=\"T_90dfc35f_0b8b_11ec_a07a_e0d55e887f9brow18_col4\" class=\"data row18 col4\" >-0.044092</td>\n",
       "                        <td id=\"T_90dfc35f_0b8b_11ec_a07a_e0d55e887f9brow18_col5\" class=\"data row18 col5\" >-0.041983</td>\n",
       "                        <td id=\"T_90dfc35f_0b8b_11ec_a07a_e0d55e887f9brow18_col6\" class=\"data row18 col6\" >0.071228</td>\n",
       "                        <td id=\"T_90dfc35f_0b8b_11ec_a07a_e0d55e887f9brow18_col7\" class=\"data row18 col7\" >0.055722</td>\n",
       "                        <td id=\"T_90dfc35f_0b8b_11ec_a07a_e0d55e887f9brow18_col8\" class=\"data row18 col8\" >0.062140</td>\n",
       "                        <td id=\"T_90dfc35f_0b8b_11ec_a07a_e0d55e887f9brow18_col9\" class=\"data row18 col9\" >0.054122</td>\n",
       "                        <td id=\"T_90dfc35f_0b8b_11ec_a07a_e0d55e887f9brow18_col10\" class=\"data row18 col10\" >0.032755</td>\n",
       "                        <td id=\"T_90dfc35f_0b8b_11ec_a07a_e0d55e887f9brow18_col11\" class=\"data row18 col11\" >-0.028742</td>\n",
       "                        <td id=\"T_90dfc35f_0b8b_11ec_a07a_e0d55e887f9brow18_col12\" class=\"data row18 col12\" >-0.005562</td>\n",
       "                        <td id=\"T_90dfc35f_0b8b_11ec_a07a_e0d55e887f9brow18_col13\" class=\"data row18 col13\" >0.034317</td>\n",
       "                        <td id=\"T_90dfc35f_0b8b_11ec_a07a_e0d55e887f9brow18_col14\" class=\"data row18 col14\" >0.001534</td>\n",
       "                        <td id=\"T_90dfc35f_0b8b_11ec_a07a_e0d55e887f9brow18_col15\" class=\"data row18 col15\" >-0.009323</td>\n",
       "                        <td id=\"T_90dfc35f_0b8b_11ec_a07a_e0d55e887f9brow18_col16\" class=\"data row18 col16\" >-0.045307</td>\n",
       "                        <td id=\"T_90dfc35f_0b8b_11ec_a07a_e0d55e887f9brow18_col17\" class=\"data row18 col17\" >0.027558</td>\n",
       "                        <td id=\"T_90dfc35f_0b8b_11ec_a07a_e0d55e887f9brow18_col18\" class=\"data row18 col18\" >1.000000</td>\n",
       "                        <td id=\"T_90dfc35f_0b8b_11ec_a07a_e0d55e887f9brow18_col19\" class=\"data row18 col19\" >0.000198</td>\n",
       "            </tr>\n",
       "            <tr>\n",
       "                        <th id=\"T_90dfc35f_0b8b_11ec_a07a_e0d55e887f9blevel0_row19\" class=\"row_heading level0 row19\" >Ad_Res_Avg</th>\n",
       "                        <td id=\"T_90dfc35f_0b8b_11ec_a07a_e0d55e887f9brow19_col0\" class=\"data row19 col0\" >0.083545</td>\n",
       "                        <td id=\"T_90dfc35f_0b8b_11ec_a07a_e0d55e887f9brow19_col1\" class=\"data row19 col1\" >-0.028625</td>\n",
       "                        <td id=\"T_90dfc35f_0b8b_11ec_a07a_e0d55e887f9brow19_col2\" class=\"data row19 col2\" >0.335822</td>\n",
       "                        <td id=\"T_90dfc35f_0b8b_11ec_a07a_e0d55e887f9brow19_col3\" class=\"data row19 col3\" >0.720298</td>\n",
       "                        <td id=\"T_90dfc35f_0b8b_11ec_a07a_e0d55e887f9brow19_col4\" class=\"data row19 col4\" >0.254977</td>\n",
       "                        <td id=\"T_90dfc35f_0b8b_11ec_a07a_e0d55e887f9brow19_col5\" class=\"data row19 col5\" >0.647469</td>\n",
       "                        <td id=\"T_90dfc35f_0b8b_11ec_a07a_e0d55e887f9brow19_col6\" class=\"data row19 col6\" >-0.075828</td>\n",
       "                        <td id=\"T_90dfc35f_0b8b_11ec_a07a_e0d55e887f9brow19_col7\" class=\"data row19 col7\" >-0.030622</td>\n",
       "                        <td id=\"T_90dfc35f_0b8b_11ec_a07a_e0d55e887f9brow19_col8\" class=\"data row19 col8\" >-0.161997</td>\n",
       "                        <td id=\"T_90dfc35f_0b8b_11ec_a07a_e0d55e887f9brow19_col9\" class=\"data row19 col9\" >-0.029703</td>\n",
       "                        <td id=\"T_90dfc35f_0b8b_11ec_a07a_e0d55e887f9brow19_col10\" class=\"data row19 col10\" >-0.339541</td>\n",
       "                        <td id=\"T_90dfc35f_0b8b_11ec_a07a_e0d55e887f9brow19_col11\" class=\"data row19 col11\" >0.724981</td>\n",
       "                        <td id=\"T_90dfc35f_0b8b_11ec_a07a_e0d55e887f9brow19_col12\" class=\"data row19 col12\" >0.962843</td>\n",
       "                        <td id=\"T_90dfc35f_0b8b_11ec_a07a_e0d55e887f9brow19_col13\" class=\"data row19 col13\" >0.561373</td>\n",
       "                        <td id=\"T_90dfc35f_0b8b_11ec_a07a_e0d55e887f9brow19_col14\" class=\"data row19 col14\" >0.521899</td>\n",
       "                        <td id=\"T_90dfc35f_0b8b_11ec_a07a_e0d55e887f9brow19_col15\" class=\"data row19 col15\" >0.871709</td>\n",
       "                        <td id=\"T_90dfc35f_0b8b_11ec_a07a_e0d55e887f9brow19_col16\" class=\"data row19 col16\" >0.496243</td>\n",
       "                        <td id=\"T_90dfc35f_0b8b_11ec_a07a_e0d55e887f9brow19_col17\" class=\"data row19 col17\" >0.198848</td>\n",
       "                        <td id=\"T_90dfc35f_0b8b_11ec_a07a_e0d55e887f9brow19_col18\" class=\"data row19 col18\" >0.000198</td>\n",
       "                        <td id=\"T_90dfc35f_0b8b_11ec_a07a_e0d55e887f9brow19_col19\" class=\"data row19 col19\" >1.000000</td>\n",
       "            </tr>\n",
       "    </tbody></table>"
      ],
      "text/plain": [
       "<pandas.io.formats.style.Styler at 0x1a46a788a90>"
      ]
     },
     "execution_count": 159,
     "metadata": {},
     "output_type": "execute_result"
    }
   ],
   "source": [
    "corr = data.corr()\n",
    "corr.style.background_gradient(cmap='coolwarm')"
   ]
  },
  {
   "cell_type": "markdown",
   "metadata": {},
   "source": [
    "### Summarize your findings - what have you learned from your insights?"
   ]
  },
  {
   "cell_type": "markdown",
   "metadata": {},
   "source": [
    "within 5 years, the purchases done by customer mostly through direct advertisement.(orange with white numeric values)\n",
    "(blue with white numerics)"
   ]
  },
  {
   "cell_type": "markdown",
   "metadata": {},
   "source": [
    "### Find the Numerical Summary statistics for the variables such as mean, median, mode"
   ]
  },
  {
   "cell_type": "code",
   "execution_count": 160,
   "metadata": {},
   "outputs": [
    {
     "name": "stdout",
     "output_type": "stream",
     "text": [
      "Mode of given data set is 36.0\n"
     ]
    }
   ],
   "source": [
    "import statistics\n",
    "print(\"Mode of given data set is % s\" % (statistics.mode(data.Ad_Res_Avg)))"
   ]
  },
  {
   "cell_type": "markdown",
   "metadata": {},
   "source": [
    "### Check for outliers by either plotting box plots or IQR For all numerical variables"
   ]
  },
  {
   "cell_type": "code",
   "execution_count": null,
   "metadata": {},
   "outputs": [],
   "source": [
    "sns.boxplot(x=target,y=x,data=data,boxprops=dict(alpha=.3))"
   ]
  },
  {
   "cell_type": "code",
   "execution_count": 162,
   "metadata": {},
   "outputs": [],
   "source": [
    "df_categorical = data[['Potential_Customer','Gender','Age','Cust_Prop','Status_Cust']]\n",
    "data_x = data.drop(df_categorical,axis=1)"
   ]
  },
  {
   "cell_type": "code",
   "execution_count": null,
   "metadata": {},
   "outputs": [],
   "source": []
  },
  {
   "cell_type": "code",
   "execution_count": 163,
   "metadata": {},
   "outputs": [
    {
     "data": {
      "text/plain": [
       "Potential_Customer            int64\n",
       "Cust_Last_Purchase          float64\n",
       "Pur_3_years                   int64\n",
       "Pur_5_years                   int64\n",
       "Pur_3_years_Indirect          int64\n",
       "Pur_5_years_Indirect          int64\n",
       "Pur_latest                  float64\n",
       "Pur_3_years_Avg             float64\n",
       "Pur_5_years_Avg             float64\n",
       "Pur_3_years_Avg_Indirect    float64\n",
       "InAct_Last                    int64\n",
       "InAct_First                   int64\n",
       "Ad_Res_5_Year                 int64\n",
       "Ad_Res_Ind_1_Year             int64\n",
       "Ad_Res_Ind_3_Year             int64\n",
       "Ad_Res_Ind_5_Year             int64\n",
       "Status_Cust                  object\n",
       "Status_Latest_Ad              int64\n",
       "Age                         float64\n",
       "Gender                       object\n",
       "Cust_Prop                    object\n",
       "Cust_Ann_Income             float64\n",
       "Status_CustN                 object\n",
       "Ad_Res_Avg                  float64\n",
       "dtype: object"
      ]
     },
     "execution_count": 163,
     "metadata": {},
     "output_type": "execute_result"
    }
   ],
   "source": [
    "data.dtypes"
   ]
  },
  {
   "cell_type": "code",
   "execution_count": 165,
   "metadata": {},
   "outputs": [
    {
     "ename": "KeyError",
     "evalue": "\"None of [Index(['Status_CustN'], dtype='object')] are in the [columns]\"",
     "output_type": "error",
     "traceback": [
      "\u001b[1;31m---------------------------------------------------------------------------\u001b[0m",
      "\u001b[1;31mKeyError\u001b[0m                                  Traceback (most recent call last)",
      "\u001b[1;32m<ipython-input-165-8379ead736d2>\u001b[0m in \u001b[0;36m<module>\u001b[1;34m\u001b[0m\n\u001b[0;32m      1\u001b[0m \u001b[1;32mfor\u001b[0m \u001b[0mi\u001b[0m \u001b[1;32min\u001b[0m \u001b[0mdata_x\u001b[0m\u001b[1;33m:\u001b[0m\u001b[1;33m\u001b[0m\u001b[1;33m\u001b[0m\u001b[0m\n\u001b[0;32m      2\u001b[0m     \u001b[0mplt\u001b[0m\u001b[1;33m.\u001b[0m\u001b[0mfigure\u001b[0m\u001b[1;33m(\u001b[0m\u001b[1;33m)\u001b[0m\u001b[1;33m\u001b[0m\u001b[1;33m\u001b[0m\u001b[0m\n\u001b[1;32m----> 3\u001b[1;33m     \u001b[0mdata_x\u001b[0m\u001b[1;33m.\u001b[0m\u001b[0mboxplot\u001b[0m\u001b[1;33m(\u001b[0m\u001b[1;33m[\u001b[0m\u001b[0mi\u001b[0m\u001b[1;33m]\u001b[0m\u001b[1;33m)\u001b[0m\u001b[1;33m\u001b[0m\u001b[1;33m\u001b[0m\u001b[0m\n\u001b[0m",
      "\u001b[1;32mF:\\Coding\\lib\\site-packages\\pandas\\plotting\\_core.py\u001b[0m in \u001b[0;36mboxplot_frame\u001b[1;34m(self, column, by, ax, fontsize, rot, grid, figsize, layout, return_type, backend, **kwargs)\u001b[0m\n\u001b[0;32m    492\u001b[0m ):\n\u001b[0;32m    493\u001b[0m     \u001b[0mplot_backend\u001b[0m \u001b[1;33m=\u001b[0m \u001b[0m_get_plot_backend\u001b[0m\u001b[1;33m(\u001b[0m\u001b[0mbackend\u001b[0m\u001b[1;33m)\u001b[0m\u001b[1;33m\u001b[0m\u001b[1;33m\u001b[0m\u001b[0m\n\u001b[1;32m--> 494\u001b[1;33m     return plot_backend.boxplot_frame(\n\u001b[0m\u001b[0;32m    495\u001b[0m         \u001b[0mself\u001b[0m\u001b[1;33m,\u001b[0m\u001b[1;33m\u001b[0m\u001b[1;33m\u001b[0m\u001b[0m\n\u001b[0;32m    496\u001b[0m         \u001b[0mcolumn\u001b[0m\u001b[1;33m=\u001b[0m\u001b[0mcolumn\u001b[0m\u001b[1;33m,\u001b[0m\u001b[1;33m\u001b[0m\u001b[1;33m\u001b[0m\u001b[0m\n",
      "\u001b[1;32mF:\\Coding\\lib\\site-packages\\pandas\\plotting\\_matplotlib\\boxplot.py\u001b[0m in \u001b[0;36mboxplot_frame\u001b[1;34m(self, column, by, ax, fontsize, rot, grid, figsize, layout, return_type, **kwds)\u001b[0m\n\u001b[0;32m    378\u001b[0m     \u001b[1;32mimport\u001b[0m \u001b[0mmatplotlib\u001b[0m\u001b[1;33m.\u001b[0m\u001b[0mpyplot\u001b[0m \u001b[1;32mas\u001b[0m \u001b[0mplt\u001b[0m\u001b[1;33m\u001b[0m\u001b[1;33m\u001b[0m\u001b[0m\n\u001b[0;32m    379\u001b[0m \u001b[1;33m\u001b[0m\u001b[0m\n\u001b[1;32m--> 380\u001b[1;33m     ax = boxplot(\n\u001b[0m\u001b[0;32m    381\u001b[0m         \u001b[0mself\u001b[0m\u001b[1;33m,\u001b[0m\u001b[1;33m\u001b[0m\u001b[1;33m\u001b[0m\u001b[0m\n\u001b[0;32m    382\u001b[0m         \u001b[0mcolumn\u001b[0m\u001b[1;33m=\u001b[0m\u001b[0mcolumn\u001b[0m\u001b[1;33m,\u001b[0m\u001b[1;33m\u001b[0m\u001b[1;33m\u001b[0m\u001b[0m\n",
      "\u001b[1;32mF:\\Coding\\lib\\site-packages\\pandas\\plotting\\_matplotlib\\boxplot.py\u001b[0m in \u001b[0;36mboxplot\u001b[1;34m(data, column, by, ax, fontsize, rot, grid, figsize, layout, return_type, **kwds)\u001b[0m\n\u001b[0;32m    355\u001b[0m             \u001b[0mcolumns\u001b[0m \u001b[1;33m=\u001b[0m \u001b[0mdata\u001b[0m\u001b[1;33m.\u001b[0m\u001b[0mcolumns\u001b[0m\u001b[1;33m\u001b[0m\u001b[1;33m\u001b[0m\u001b[0m\n\u001b[0;32m    356\u001b[0m         \u001b[1;32melse\u001b[0m\u001b[1;33m:\u001b[0m\u001b[1;33m\u001b[0m\u001b[1;33m\u001b[0m\u001b[0m\n\u001b[1;32m--> 357\u001b[1;33m             \u001b[0mdata\u001b[0m \u001b[1;33m=\u001b[0m \u001b[0mdata\u001b[0m\u001b[1;33m[\u001b[0m\u001b[0mcolumns\u001b[0m\u001b[1;33m]\u001b[0m\u001b[1;33m\u001b[0m\u001b[1;33m\u001b[0m\u001b[0m\n\u001b[0m\u001b[0;32m    358\u001b[0m \u001b[1;33m\u001b[0m\u001b[0m\n\u001b[0;32m    359\u001b[0m         \u001b[0mresult\u001b[0m \u001b[1;33m=\u001b[0m \u001b[0mplot_group\u001b[0m\u001b[1;33m(\u001b[0m\u001b[0mcolumns\u001b[0m\u001b[1;33m,\u001b[0m \u001b[0mdata\u001b[0m\u001b[1;33m.\u001b[0m\u001b[0mvalues\u001b[0m\u001b[1;33m.\u001b[0m\u001b[0mT\u001b[0m\u001b[1;33m,\u001b[0m \u001b[0max\u001b[0m\u001b[1;33m)\u001b[0m\u001b[1;33m\u001b[0m\u001b[1;33m\u001b[0m\u001b[0m\n",
      "\u001b[1;32mF:\\Coding\\lib\\site-packages\\pandas\\core\\frame.py\u001b[0m in \u001b[0;36m__getitem__\u001b[1;34m(self, key)\u001b[0m\n\u001b[0;32m   2906\u001b[0m             \u001b[1;32mif\u001b[0m \u001b[0mis_iterator\u001b[0m\u001b[1;33m(\u001b[0m\u001b[0mkey\u001b[0m\u001b[1;33m)\u001b[0m\u001b[1;33m:\u001b[0m\u001b[1;33m\u001b[0m\u001b[1;33m\u001b[0m\u001b[0m\n\u001b[0;32m   2907\u001b[0m                 \u001b[0mkey\u001b[0m \u001b[1;33m=\u001b[0m \u001b[0mlist\u001b[0m\u001b[1;33m(\u001b[0m\u001b[0mkey\u001b[0m\u001b[1;33m)\u001b[0m\u001b[1;33m\u001b[0m\u001b[1;33m\u001b[0m\u001b[0m\n\u001b[1;32m-> 2908\u001b[1;33m             \u001b[0mindexer\u001b[0m \u001b[1;33m=\u001b[0m \u001b[0mself\u001b[0m\u001b[1;33m.\u001b[0m\u001b[0mloc\u001b[0m\u001b[1;33m.\u001b[0m\u001b[0m_get_listlike_indexer\u001b[0m\u001b[1;33m(\u001b[0m\u001b[0mkey\u001b[0m\u001b[1;33m,\u001b[0m \u001b[0maxis\u001b[0m\u001b[1;33m=\u001b[0m\u001b[1;36m1\u001b[0m\u001b[1;33m,\u001b[0m \u001b[0mraise_missing\u001b[0m\u001b[1;33m=\u001b[0m\u001b[1;32mTrue\u001b[0m\u001b[1;33m)\u001b[0m\u001b[1;33m[\u001b[0m\u001b[1;36m1\u001b[0m\u001b[1;33m]\u001b[0m\u001b[1;33m\u001b[0m\u001b[1;33m\u001b[0m\u001b[0m\n\u001b[0m\u001b[0;32m   2909\u001b[0m \u001b[1;33m\u001b[0m\u001b[0m\n\u001b[0;32m   2910\u001b[0m         \u001b[1;31m# take() does not accept boolean indexers\u001b[0m\u001b[1;33m\u001b[0m\u001b[1;33m\u001b[0m\u001b[1;33m\u001b[0m\u001b[0m\n",
      "\u001b[1;32mF:\\Coding\\lib\\site-packages\\pandas\\core\\indexing.py\u001b[0m in \u001b[0;36m_get_listlike_indexer\u001b[1;34m(self, key, axis, raise_missing)\u001b[0m\n\u001b[0;32m   1252\u001b[0m             \u001b[0mkeyarr\u001b[0m\u001b[1;33m,\u001b[0m \u001b[0mindexer\u001b[0m\u001b[1;33m,\u001b[0m \u001b[0mnew_indexer\u001b[0m \u001b[1;33m=\u001b[0m \u001b[0max\u001b[0m\u001b[1;33m.\u001b[0m\u001b[0m_reindex_non_unique\u001b[0m\u001b[1;33m(\u001b[0m\u001b[0mkeyarr\u001b[0m\u001b[1;33m)\u001b[0m\u001b[1;33m\u001b[0m\u001b[1;33m\u001b[0m\u001b[0m\n\u001b[0;32m   1253\u001b[0m \u001b[1;33m\u001b[0m\u001b[0m\n\u001b[1;32m-> 1254\u001b[1;33m         \u001b[0mself\u001b[0m\u001b[1;33m.\u001b[0m\u001b[0m_validate_read_indexer\u001b[0m\u001b[1;33m(\u001b[0m\u001b[0mkeyarr\u001b[0m\u001b[1;33m,\u001b[0m \u001b[0mindexer\u001b[0m\u001b[1;33m,\u001b[0m \u001b[0maxis\u001b[0m\u001b[1;33m,\u001b[0m \u001b[0mraise_missing\u001b[0m\u001b[1;33m=\u001b[0m\u001b[0mraise_missing\u001b[0m\u001b[1;33m)\u001b[0m\u001b[1;33m\u001b[0m\u001b[1;33m\u001b[0m\u001b[0m\n\u001b[0m\u001b[0;32m   1255\u001b[0m         \u001b[1;32mreturn\u001b[0m \u001b[0mkeyarr\u001b[0m\u001b[1;33m,\u001b[0m \u001b[0mindexer\u001b[0m\u001b[1;33m\u001b[0m\u001b[1;33m\u001b[0m\u001b[0m\n\u001b[0;32m   1256\u001b[0m \u001b[1;33m\u001b[0m\u001b[0m\n",
      "\u001b[1;32mF:\\Coding\\lib\\site-packages\\pandas\\core\\indexing.py\u001b[0m in \u001b[0;36m_validate_read_indexer\u001b[1;34m(self, key, indexer, axis, raise_missing)\u001b[0m\n\u001b[0;32m   1296\u001b[0m             \u001b[1;32mif\u001b[0m \u001b[0mmissing\u001b[0m \u001b[1;33m==\u001b[0m \u001b[0mlen\u001b[0m\u001b[1;33m(\u001b[0m\u001b[0mindexer\u001b[0m\u001b[1;33m)\u001b[0m\u001b[1;33m:\u001b[0m\u001b[1;33m\u001b[0m\u001b[1;33m\u001b[0m\u001b[0m\n\u001b[0;32m   1297\u001b[0m                 \u001b[0maxis_name\u001b[0m \u001b[1;33m=\u001b[0m \u001b[0mself\u001b[0m\u001b[1;33m.\u001b[0m\u001b[0mobj\u001b[0m\u001b[1;33m.\u001b[0m\u001b[0m_get_axis_name\u001b[0m\u001b[1;33m(\u001b[0m\u001b[0maxis\u001b[0m\u001b[1;33m)\u001b[0m\u001b[1;33m\u001b[0m\u001b[1;33m\u001b[0m\u001b[0m\n\u001b[1;32m-> 1298\u001b[1;33m                 \u001b[1;32mraise\u001b[0m \u001b[0mKeyError\u001b[0m\u001b[1;33m(\u001b[0m\u001b[1;34mf\"None of [{key}] are in the [{axis_name}]\"\u001b[0m\u001b[1;33m)\u001b[0m\u001b[1;33m\u001b[0m\u001b[1;33m\u001b[0m\u001b[0m\n\u001b[0m\u001b[0;32m   1299\u001b[0m \u001b[1;33m\u001b[0m\u001b[0m\n\u001b[0;32m   1300\u001b[0m             \u001b[1;31m# We (temporarily) allow for some missing keys with .loc, except in\u001b[0m\u001b[1;33m\u001b[0m\u001b[1;33m\u001b[0m\u001b[1;33m\u001b[0m\u001b[0m\n",
      "\u001b[1;31mKeyError\u001b[0m: \"None of [Index(['Status_CustN'], dtype='object')] are in the [columns]\""
     ]
    },
    {
     "data": {
      "image/png": "[encoded data removed]",
      "text/plain": [
       "<Figure size 432x288 with 1 Axes>"
      ]
     },
     "metadata": {},
     "output_type": "display_data"
    },
    {
     "data": {
      "image/png": "[encoded data removed]",
      "text/plain": [
       "<Figure size 432x288 with 1 Axes>"
      ]
     },
     "metadata": {},
     "output_type": "display_data"
    },
    {
     "data": {
      "image/png": "[encoded data removed]",
      "text/plain": [
       "<Figure size 432x288 with 1 Axes>"
      ]
     },
     "metadata": {},
     "output_type": "display_data"
    },
    {
     "data": {
      "image/png": "[encoded data removed]",
      "text/plain": [
       "<Figure size 432x288 with 1 Axes>"
      ]
     },
     "metadata": {},
     "output_type": "display_data"
    },
    {
     "data": {
      "image/png": "[encoded data removed]",
      "text/plain": [
       "<Figure size 432x288 with 1 Axes>"
      ]
     },
     "metadata": {},
     "output_type": "display_data"
    },
    {
     "data": {
      "image/png": "[encoded data removed]",
      "text/plain": [
       "<Figure size 432x288 with 1 Axes>"
      ]
     },
     "metadata": {},
     "output_type": "display_data"
    },
    {
     "data": {
      "image/png": "[encoded data removed]",
      "text/plain": [
       "<Figure size 432x288 with 1 Axes>"
      ]
     },
     "metadata": {},
     "output_type": "display_data"
    },
    {
     "data": {
      "image/png": "[encoded data removed]",
      "text/plain": [
       "<Figure size 432x288 with 1 Axes>"
      ]
     },
     "metadata": {},
     "output_type": "display_data"
    },
    {
     "data": {
      "image/png": "[encoded data removed]",
      "text/plain": [
       "<Figure size 432x288 with 1 Axes>"
      ]
     },
     "metadata": {},
     "output_type": "display_data"
    },
    {
     "data": {
      "image/png": "[encoded data removed]",
      "text/plain": [
       "<Figure size 432x288 with 1 Axes>"
      ]
     },
     "metadata": {},
     "output_type": "display_data"
    },
    {
     "data": {
      "image/png": "[encoded data removed]",
      "text/plain": [
       "<Figure size 432x288 with 1 Axes>"
      ]
     },
     "metadata": {},
     "output_type": "display_data"
    },
    {
     "data": {
      "image/png": "[encoded data removed]",
      "text/plain": [
       "<Figure size 432x288 with 1 Axes>"
      ]
     },
     "metadata": {},
     "output_type": "display_data"
    },
    {
     "data": {
      "image/png": "[encoded data removed]",
      "text/plain": [
       "<Figure size 432x288 with 1 Axes>"
      ]
     },
     "metadata": {},
     "output_type": "display_data"
    },
    {
     "data": {
      "image/png": "[encoded data removed]",
      "text/plain": [
       "<Figure size 432x288 with 1 Axes>"
      ]
     },
     "metadata": {},
     "output_type": "display_data"
    },
    {
     "data": {
      "image/png": "[encoded data removed]",
      "text/plain": [
       "<Figure size 432x288 with 1 Axes>"
      ]
     },
     "metadata": {},
     "output_type": "display_data"
    },
    {
     "data": {
      "image/png": "[encoded data removed]",
      "text/plain": [
       "<Figure size 432x288 with 1 Axes>"
      ]
     },
     "metadata": {},
     "output_type": "display_data"
    },
    {
     "data": {
      "image/png": "[encoded data removed]",
      "text/plain": [
       "<Figure size 432x288 with 1 Axes>"
      ]
     },
     "metadata": {},
     "output_type": "display_data"
    },
    {
     "data": {
      "image/png": "[encoded data removed]",
      "text/plain": [
       "<Figure size 432x288 with 1 Axes>"
      ]
     },
     "metadata": {},
     "output_type": "display_data"
    }
   ],
   "source": [
    "for i in data_x:\n",
    "    plt.figure()\n",
    "    data_x.boxplot([i])"
   ]
  },
  {
   "cell_type": "markdown",
   "metadata": {},
   "source": [
    "import scipy.stats\n",
    "q75, q25 = np.percentile(x, [75 ,25])\n",
    "iqr = q75 - q25\n",
    "iqr"
   ]
  },
  {
   "cell_type": "markdown",
   "metadata": {},
   "source": [
    "### Pandas to SQL\n",
    "\n",
    "#### Load the data into a Sql database, customers\n",
    "Hint: Create database with name Customers\n",
    "Use pandas to connect and load the dataframe to DATABASE"
   ]
  },
  {
   "cell_type": "code",
   "execution_count": null,
   "metadata": {},
   "outputs": [],
   "source": [
    "#Your Code Here"
   ]
  },
  {
   "cell_type": "code",
   "execution_count": null,
   "metadata": {},
   "outputs": [],
   "source": [
    "#Your Code Here"
   ]
  },
  {
   "cell_type": "code",
   "execution_count": null,
   "metadata": {},
   "outputs": [],
   "source": [
    "#Your Code Here"
   ]
  },
  {
   "cell_type": "markdown",
   "metadata": {},
   "source": [
    "### Once you have created a database, use either SQL or Python to query the data and solve these questions"
   ]
  },
  {
   "cell_type": "code",
   "execution_count": null,
   "metadata": {},
   "outputs": [],
   "source": [
    "#Your Code Here"
   ]
  },
  {
   "cell_type": "code",
   "execution_count": null,
   "metadata": {},
   "outputs": [],
   "source": [
    "#Your Code Here"
   ]
  },
  {
   "cell_type": "markdown",
   "metadata": {},
   "source": [
    "### Write a query that returns:"
   ]
  },
  {
   "cell_type": "markdown",
   "metadata": {},
   "source": [
    "#### a) What percentage of female customers own a house? "
   ]
  },
  {
   "cell_type": "code",
   "execution_count": null,
   "metadata": {},
   "outputs": [],
   "source": [
    "#Your Code Here"
   ]
  },
  {
   "cell_type": "code",
   "execution_count": null,
   "metadata": {},
   "outputs": [],
   "source": [
    "#Your Code Here"
   ]
  },
  {
   "cell_type": "markdown",
   "metadata": {},
   "source": [
    "#### b) How much is the average salary of these customers?"
   ]
  },
  {
   "cell_type": "code",
   "execution_count": null,
   "metadata": {},
   "outputs": [],
   "source": [
    "#Your Code Here"
   ]
  },
  {
   "cell_type": "code",
   "execution_count": null,
   "metadata": {},
   "outputs": [],
   "source": [
    "#Your Code Here"
   ]
  },
  {
   "cell_type": "markdown",
   "metadata": {},
   "source": [
    "### Write a query that returns:"
   ]
  },
  {
   "cell_type": "markdown",
   "metadata": {},
   "source": [
    "#### a) What percentage of purchases are made through external links (indirect buys)?\n"
   ]
  },
  {
   "cell_type": "code",
   "execution_count": null,
   "metadata": {},
   "outputs": [],
   "source": [
    "#Your Code Here"
   ]
  },
  {
   "cell_type": "code",
   "execution_count": null,
   "metadata": {},
   "outputs": [],
   "source": [
    "#Your Code Here"
   ]
  },
  {
   "cell_type": "markdown",
   "metadata": {},
   "source": [
    "#### b) How many purchases have been made by new buyers through external links?"
   ]
  },
  {
   "cell_type": "code",
   "execution_count": null,
   "metadata": {},
   "outputs": [],
   "source": [
    "#Your Code Here"
   ]
  },
  {
   "cell_type": "code",
   "execution_count": null,
   "metadata": {},
   "outputs": [],
   "source": [
    "#Your Code Here"
   ]
  },
  {
   "cell_type": "markdown",
   "metadata": {},
   "source": [
    "### Write a query that calculate:"
   ]
  },
  {
   "cell_type": "markdown",
   "metadata": {},
   "source": [
    "#### The average amount of purchases that have been made by Star Buyers?"
   ]
  },
  {
   "cell_type": "code",
   "execution_count": null,
   "metadata": {},
   "outputs": [],
   "source": [
    "#Your Code Here"
   ]
  },
  {
   "cell_type": "code",
   "execution_count": null,
   "metadata": {},
   "outputs": [],
   "source": [
    "#Your Code Here"
   ]
  }
 ],
 "metadata": {
  "kernelspec": {
   "display_name": "Python 3",
   "language": "python",
   "name": "python3"
  },
  "language_info": {
   "codemirror_mode": {
    "name": "ipython",
    "version": 3
   },
   "file_extension": ".py",
   "mimetype": "text/x-python",
   "name": "python",
   "nbconvert_exporter": "python",
   "pygments_lexer": "ipython3",
   "version": "3.8.5"
  }
 },
 "nbformat": 4,
 "nbformat_minor": 2
}
